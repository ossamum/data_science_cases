{
 "cells": [
  {
   "cell_type": "markdown",
   "metadata": {},
   "source": [
    "# Objetivo\n",
    "Prever sobreviventes da tragédia do titanic"
   ]
  },
  {
   "cell_type": "markdown",
   "metadata": {},
   "source": [
    "## Importing libs"
   ]
  },
  {
   "cell_type": "code",
   "execution_count": 2,
   "metadata": {
    "ExecuteTime": {
     "end_time": "2020-06-11T00:15:11.567826Z",
     "start_time": "2020-06-11T00:15:07.493153Z"
    }
   },
   "outputs": [],
   "source": [
    "import os\n",
    "import pandas as pd\n",
    "import numpy as np\n",
    "import seaborn as sns\n",
    "import matplotlib.pyplot as plt\n",
    "import missingno as msno\n",
    "import researchpy as rp\n",
    "from sklearn.tree import DecisionTreeClassifier, plot_tree\n",
    "from sklearn.linear_model import LogisticRegression\n",
    "import statsmodels.api as sm\n",
    "from statsmodels.genmod.generalized_linear_model import GLM\n",
    "from sklearn.impute import KNNImputer\n",
    "from pycaret import classification\n",
    "from sklearn.metrics import plot_confusion_matrix\n",
    "%matplotlib inline"
   ]
  },
  {
   "cell_type": "markdown",
   "metadata": {
    "heading_collapsed": true
   },
   "source": [
    "## Importing data"
   ]
  },
  {
   "cell_type": "code",
   "execution_count": 3,
   "metadata": {
    "ExecuteTime": {
     "end_time": "2020-06-11T00:15:11.611823Z",
     "start_time": "2020-06-11T00:15:11.572831Z"
    },
    "hidden": true
   },
   "outputs": [],
   "source": [
    "df_train = pd.read_csv('train.csv')\n",
    "df_test = pd.read_csv('test.csv')"
   ]
  },
  {
   "cell_type": "code",
   "execution_count": 4,
   "metadata": {
    "ExecuteTime": {
     "end_time": "2020-06-11T00:15:11.638835Z",
     "start_time": "2020-06-11T00:15:11.613825Z"
    },
    "hidden": true
   },
   "outputs": [
    {
     "data": {
      "text/html": [
       "<div>\n",
       "<style scoped>\n",
       "    .dataframe tbody tr th:only-of-type {\n",
       "        vertical-align: middle;\n",
       "    }\n",
       "\n",
       "    .dataframe tbody tr th {\n",
       "        vertical-align: top;\n",
       "    }\n",
       "\n",
       "    .dataframe thead th {\n",
       "        text-align: right;\n",
       "    }\n",
       "</style>\n",
       "<table border=\"1\" class=\"dataframe\">\n",
       "  <thead>\n",
       "    <tr style=\"text-align: right;\">\n",
       "      <th></th>\n",
       "      <th>passengerid</th>\n",
       "      <th>survived</th>\n",
       "      <th>pclass</th>\n",
       "      <th>name</th>\n",
       "      <th>sex</th>\n",
       "      <th>age</th>\n",
       "      <th>sibsp</th>\n",
       "      <th>parch</th>\n",
       "      <th>ticket</th>\n",
       "      <th>fare</th>\n",
       "      <th>cabin</th>\n",
       "      <th>embarked</th>\n",
       "    </tr>\n",
       "  </thead>\n",
       "  <tbody>\n",
       "    <tr>\n",
       "      <th>0</th>\n",
       "      <td>1</td>\n",
       "      <td>0</td>\n",
       "      <td>3.0</td>\n",
       "      <td>Braund, Mr. Owen Harris</td>\n",
       "      <td>male</td>\n",
       "      <td>22.0</td>\n",
       "      <td>1</td>\n",
       "      <td>0</td>\n",
       "      <td>A/5 21171</td>\n",
       "      <td>7.2500</td>\n",
       "      <td>NaN</td>\n",
       "      <td>S</td>\n",
       "    </tr>\n",
       "    <tr>\n",
       "      <th>1</th>\n",
       "      <td>2</td>\n",
       "      <td>1</td>\n",
       "      <td>1.0</td>\n",
       "      <td>Cumings, Mrs. John Bradley (Florence Briggs Th...</td>\n",
       "      <td>Female</td>\n",
       "      <td>38.0</td>\n",
       "      <td>1</td>\n",
       "      <td>0</td>\n",
       "      <td>PC 17599</td>\n",
       "      <td>71.2833</td>\n",
       "      <td>C85</td>\n",
       "      <td>C</td>\n",
       "    </tr>\n",
       "    <tr>\n",
       "      <th>2</th>\n",
       "      <td>3</td>\n",
       "      <td>1</td>\n",
       "      <td>3.0</td>\n",
       "      <td>Heikkinen, Miss. Laina</td>\n",
       "      <td>women</td>\n",
       "      <td>26.0</td>\n",
       "      <td>0</td>\n",
       "      <td>0</td>\n",
       "      <td>STON/O2. 3101282</td>\n",
       "      <td>7.9250</td>\n",
       "      <td>NaN</td>\n",
       "      <td>S</td>\n",
       "    </tr>\n",
       "    <tr>\n",
       "      <th>3</th>\n",
       "      <td>4</td>\n",
       "      <td>1</td>\n",
       "      <td>1.0</td>\n",
       "      <td>Futrelle, Mrs. Jacques Heath (Lily May Peel)</td>\n",
       "      <td>female_</td>\n",
       "      <td>35.0</td>\n",
       "      <td>1</td>\n",
       "      <td>0</td>\n",
       "      <td>113803</td>\n",
       "      <td>53.1000</td>\n",
       "      <td>C123</td>\n",
       "      <td>S</td>\n",
       "    </tr>\n",
       "    <tr>\n",
       "      <th>4</th>\n",
       "      <td>5</td>\n",
       "      <td>0</td>\n",
       "      <td>3.0</td>\n",
       "      <td>Allen, Mr. William Henry</td>\n",
       "      <td>male</td>\n",
       "      <td>35.0</td>\n",
       "      <td>0</td>\n",
       "      <td>0</td>\n",
       "      <td>373450</td>\n",
       "      <td>8.0500</td>\n",
       "      <td>NaN</td>\n",
       "      <td>S</td>\n",
       "    </tr>\n",
       "  </tbody>\n",
       "</table>\n",
       "</div>"
      ],
      "text/plain": [
       "   passengerid  survived  pclass  \\\n",
       "0            1         0     3.0   \n",
       "1            2         1     1.0   \n",
       "2            3         1     3.0   \n",
       "3            4         1     1.0   \n",
       "4            5         0     3.0   \n",
       "\n",
       "                                                name      sex   age  sibsp  \\\n",
       "0                            Braund, Mr. Owen Harris     male  22.0      1   \n",
       "1  Cumings, Mrs. John Bradley (Florence Briggs Th...  Female   38.0      1   \n",
       "2                             Heikkinen, Miss. Laina    women  26.0      0   \n",
       "3       Futrelle, Mrs. Jacques Heath (Lily May Peel)  female_  35.0      1   \n",
       "4                           Allen, Mr. William Henry     male  35.0      0   \n",
       "\n",
       "   parch            ticket     fare cabin embarked  \n",
       "0      0         A/5 21171   7.2500   NaN        S  \n",
       "1      0          PC 17599  71.2833   C85        C  \n",
       "2      0  STON/O2. 3101282   7.9250   NaN        S  \n",
       "3      0            113803  53.1000  C123        S  \n",
       "4      0            373450   8.0500   NaN        S  "
      ]
     },
     "execution_count": 4,
     "metadata": {},
     "output_type": "execute_result"
    }
   ],
   "source": [
    "df_train.head()"
   ]
  },
  {
   "cell_type": "code",
   "execution_count": 5,
   "metadata": {
    "ExecuteTime": {
     "end_time": "2020-06-11T00:15:11.662822Z",
     "start_time": "2020-06-11T00:15:11.641824Z"
    },
    "hidden": true
   },
   "outputs": [
    {
     "data": {
      "text/html": [
       "<div>\n",
       "<style scoped>\n",
       "    .dataframe tbody tr th:only-of-type {\n",
       "        vertical-align: middle;\n",
       "    }\n",
       "\n",
       "    .dataframe tbody tr th {\n",
       "        vertical-align: top;\n",
       "    }\n",
       "\n",
       "    .dataframe thead th {\n",
       "        text-align: right;\n",
       "    }\n",
       "</style>\n",
       "<table border=\"1\" class=\"dataframe\">\n",
       "  <thead>\n",
       "    <tr style=\"text-align: right;\">\n",
       "      <th></th>\n",
       "      <th>PassengerId</th>\n",
       "      <th>Pclass</th>\n",
       "      <th>Name</th>\n",
       "      <th>Sex</th>\n",
       "      <th>Age</th>\n",
       "      <th>SibSp</th>\n",
       "      <th>Parch</th>\n",
       "      <th>Ticket</th>\n",
       "      <th>Fare</th>\n",
       "      <th>Cabin</th>\n",
       "      <th>Embarked</th>\n",
       "    </tr>\n",
       "  </thead>\n",
       "  <tbody>\n",
       "    <tr>\n",
       "      <th>0</th>\n",
       "      <td>892</td>\n",
       "      <td>3</td>\n",
       "      <td>Kelly, Mr. James</td>\n",
       "      <td>male</td>\n",
       "      <td>34.5</td>\n",
       "      <td>0</td>\n",
       "      <td>0</td>\n",
       "      <td>330911</td>\n",
       "      <td>7.8292</td>\n",
       "      <td>NaN</td>\n",
       "      <td>Q</td>\n",
       "    </tr>\n",
       "    <tr>\n",
       "      <th>1</th>\n",
       "      <td>893</td>\n",
       "      <td>3</td>\n",
       "      <td>Wilkes, Mrs. James (Ellen Needs)</td>\n",
       "      <td>female</td>\n",
       "      <td>47.0</td>\n",
       "      <td>1</td>\n",
       "      <td>0</td>\n",
       "      <td>363272</td>\n",
       "      <td>7.0000</td>\n",
       "      <td>NaN</td>\n",
       "      <td>S</td>\n",
       "    </tr>\n",
       "    <tr>\n",
       "      <th>2</th>\n",
       "      <td>894</td>\n",
       "      <td>2</td>\n",
       "      <td>Myles, Mr. Thomas Francis</td>\n",
       "      <td>male</td>\n",
       "      <td>62.0</td>\n",
       "      <td>0</td>\n",
       "      <td>0</td>\n",
       "      <td>240276</td>\n",
       "      <td>9.6875</td>\n",
       "      <td>NaN</td>\n",
       "      <td>Q</td>\n",
       "    </tr>\n",
       "    <tr>\n",
       "      <th>3</th>\n",
       "      <td>895</td>\n",
       "      <td>3</td>\n",
       "      <td>Wirz, Mr. Albert</td>\n",
       "      <td>male</td>\n",
       "      <td>27.0</td>\n",
       "      <td>0</td>\n",
       "      <td>0</td>\n",
       "      <td>315154</td>\n",
       "      <td>8.6625</td>\n",
       "      <td>NaN</td>\n",
       "      <td>S</td>\n",
       "    </tr>\n",
       "    <tr>\n",
       "      <th>4</th>\n",
       "      <td>896</td>\n",
       "      <td>3</td>\n",
       "      <td>Hirvonen, Mrs. Alexander (Helga E Lindqvist)</td>\n",
       "      <td>female</td>\n",
       "      <td>22.0</td>\n",
       "      <td>1</td>\n",
       "      <td>1</td>\n",
       "      <td>3101298</td>\n",
       "      <td>12.2875</td>\n",
       "      <td>NaN</td>\n",
       "      <td>S</td>\n",
       "    </tr>\n",
       "  </tbody>\n",
       "</table>\n",
       "</div>"
      ],
      "text/plain": [
       "   PassengerId  Pclass                                          Name     Sex  \\\n",
       "0          892       3                              Kelly, Mr. James    male   \n",
       "1          893       3              Wilkes, Mrs. James (Ellen Needs)  female   \n",
       "2          894       2                     Myles, Mr. Thomas Francis    male   \n",
       "3          895       3                              Wirz, Mr. Albert    male   \n",
       "4          896       3  Hirvonen, Mrs. Alexander (Helga E Lindqvist)  female   \n",
       "\n",
       "    Age  SibSp  Parch   Ticket     Fare Cabin Embarked  \n",
       "0  34.5      0      0   330911   7.8292   NaN        Q  \n",
       "1  47.0      1      0   363272   7.0000   NaN        S  \n",
       "2  62.0      0      0   240276   9.6875   NaN        Q  \n",
       "3  27.0      0      0   315154   8.6625   NaN        S  \n",
       "4  22.0      1      1  3101298  12.2875   NaN        S  "
      ]
     },
     "execution_count": 5,
     "metadata": {},
     "output_type": "execute_result"
    }
   ],
   "source": [
    "df_test.head()"
   ]
  },
  {
   "cell_type": "markdown",
   "metadata": {
    "hidden": true
   },
   "source": [
    "Modificar as colunas para caixa baixa para padronizar as colunas de ambos datasets"
   ]
  },
  {
   "cell_type": "code",
   "execution_count": 6,
   "metadata": {
    "ExecuteTime": {
     "end_time": "2020-06-11T00:15:11.674820Z",
     "start_time": "2020-06-11T00:15:11.665826Z"
    },
    "hidden": true
   },
   "outputs": [],
   "source": [
    "df_test.columns = df_test.columns.str.lower()"
   ]
  },
  {
   "cell_type": "markdown",
   "metadata": {
    "heading_collapsed": true
   },
   "source": [
    "## Utils"
   ]
  },
  {
   "cell_type": "code",
   "execution_count": 7,
   "metadata": {
    "ExecuteTime": {
     "end_time": "2020-06-11T00:15:12.164215Z",
     "start_time": "2020-06-11T00:15:12.156229Z"
    },
    "hidden": true
   },
   "outputs": [],
   "source": [
    "def chisquare(df, index, col, figsize=(10, 4), annot=True):\n",
    "    '''\n",
    "    plot contingency table and chi-square statistics for two categorical variables\n",
    "    '''\n",
    "    table, results = rp.crosstab(df_train[index], df_train[col], test='chi-square')\n",
    "    plt.figure(figsize=figsize)\n",
    "    sns.heatmap(table.iloc[:-1,:-1], cmap='viridis', annot=annot, fmt='.4g', cbar=False)\n",
    "    plt.show()\n",
    "    print(results)"
   ]
  },
  {
   "cell_type": "markdown",
   "metadata": {
    "heading_collapsed": true
   },
   "source": [
    "## EDA"
   ]
  },
  {
   "cell_type": "markdown",
   "metadata": {
    "heading_collapsed": true,
    "hidden": true
   },
   "source": [
    "### 1) Passenger ID"
   ]
  },
  {
   "cell_type": "markdown",
   "metadata": {
    "hidden": true
   },
   "source": [
    "Avaliando se existem passageiros duplicados na base e deletando-os, assim como a coluna `passengerid`"
   ]
  },
  {
   "cell_type": "code",
   "execution_count": 8,
   "metadata": {
    "ExecuteTime": {
     "end_time": "2020-06-11T00:15:13.000833Z",
     "start_time": "2020-06-11T00:15:12.991827Z"
    },
    "hidden": true
   },
   "outputs": [
    {
     "data": {
      "text/plain": [
       "45"
      ]
     },
     "execution_count": 8,
     "metadata": {},
     "output_type": "execute_result"
    }
   ],
   "source": [
    "df_train['passengerid'].duplicated().sum()"
   ]
  },
  {
   "cell_type": "code",
   "execution_count": 9,
   "metadata": {
    "ExecuteTime": {
     "end_time": "2020-06-11T00:15:13.228552Z",
     "start_time": "2020-06-11T00:15:13.209575Z"
    },
    "hidden": true
   },
   "outputs": [],
   "source": [
    "df_train.drop_duplicates(inplace=True)"
   ]
  },
  {
   "cell_type": "code",
   "execution_count": 10,
   "metadata": {
    "ExecuteTime": {
     "end_time": "2020-06-11T00:15:13.428087Z",
     "start_time": "2020-06-11T00:15:13.416551Z"
    },
    "hidden": true
   },
   "outputs": [
    {
     "data": {
      "text/plain": [
       "0"
      ]
     },
     "execution_count": 10,
     "metadata": {},
     "output_type": "execute_result"
    }
   ],
   "source": [
    "df_train['passengerid'].duplicated().sum()"
   ]
  },
  {
   "cell_type": "code",
   "execution_count": 11,
   "metadata": {
    "ExecuteTime": {
     "end_time": "2020-06-11T00:15:13.573744Z",
     "start_time": "2020-06-11T00:15:13.568668Z"
    },
    "hidden": true
   },
   "outputs": [],
   "source": [
    "def drop_cols(df, cols):\n",
    "    '''\n",
    "    Return dataset without selected columns\n",
    "    '''\n",
    "    return df.drop(cols, axis=1)"
   ]
  },
  {
   "cell_type": "code",
   "execution_count": 12,
   "metadata": {
    "ExecuteTime": {
     "end_time": "2020-06-11T00:15:13.732958Z",
     "start_time": "2020-06-11T00:15:13.727957Z"
    },
    "hidden": true
   },
   "outputs": [],
   "source": [
    "df_train = drop_cols(df_train, 'passengerid')\n",
    "df_test = drop_cols(df_test, 'passengerid')"
   ]
  },
  {
   "cell_type": "markdown",
   "metadata": {
    "heading_collapsed": true,
    "hidden": true
   },
   "source": [
    "### 2) General analysis"
   ]
  },
  {
   "cell_type": "markdown",
   "metadata": {
    "hidden": true
   },
   "source": [
    "Análise geral observando a proporção de sobreviventes e valores faltantes"
   ]
  },
  {
   "cell_type": "code",
   "execution_count": 13,
   "metadata": {
    "ExecuteTime": {
     "end_time": "2020-06-11T00:15:14.342990Z",
     "start_time": "2020-06-11T00:15:14.112550Z"
    },
    "hidden": true
   },
   "outputs": [
    {
     "data": {
      "image/png": "[encoded data removed]",
      "text/plain": [
       "<Figure size 432x288 with 1 Axes>"
      ]
     },
     "metadata": {
      "needs_background": "light"
     },
     "output_type": "display_data"
    }
   ],
   "source": [
    "sns.countplot(data=df_train, y='survived');"
   ]
  },
  {
   "cell_type": "code",
   "execution_count": 14,
   "metadata": {
    "ExecuteTime": {
     "end_time": "2020-06-11T00:15:15.344103Z",
     "start_time": "2020-06-11T00:15:14.352977Z"
    },
    "hidden": true
   },
   "outputs": [
    {
     "data": {
      "image/png": "[encoded data removed]",
      "text/plain": [
       "<Figure size 720x216 with 3 Axes>"
      ]
     },
     "metadata": {
      "needs_background": "light"
     },
     "output_type": "display_data"
    }
   ],
   "source": [
    "msno.bar(df_train, figsize=(10, 3));"
   ]
  },
  {
   "cell_type": "markdown",
   "metadata": {
    "hidden": true
   },
   "source": [
    "### 3) Pclass"
   ]
  },
  {
   "cell_type": "markdown",
   "metadata": {
    "hidden": true
   },
   "source": [
    "Temos 9 valores faltantes de classe de passagem"
   ]
  },
  {
   "cell_type": "code",
   "execution_count": 15,
   "metadata": {
    "ExecuteTime": {
     "end_time": "2020-06-11T00:15:15.353106Z",
     "start_time": "2020-06-11T00:15:15.347104Z"
    },
    "hidden": true
   },
   "outputs": [
    {
     "data": {
      "text/plain": [
       "9"
      ]
     },
     "execution_count": 15,
     "metadata": {},
     "output_type": "execute_result"
    }
   ],
   "source": [
    "df_train['pclass'].isnull().sum()"
   ]
  },
  {
   "cell_type": "markdown",
   "metadata": {
    "hidden": true
   },
   "source": [
    "Classe 3 tem maior volumetria e menor índice de sobreviventes"
   ]
  },
  {
   "cell_type": "code",
   "execution_count": 16,
   "metadata": {
    "ExecuteTime": {
     "end_time": "2020-06-11T00:15:16.027120Z",
     "start_time": "2020-06-11T00:15:15.359109Z"
    },
    "hidden": true
   },
   "outputs": [
    {
     "data": {
      "image/png": "[encoded data removed]",
      "text/plain": [
       "<Figure size 432x360 with 2 Axes>"
      ]
     },
     "metadata": {
      "needs_background": "light"
     },
     "output_type": "display_data"
    }
   ],
   "source": [
    "df_train.groupby('pclass')['survived'].agg(['count', 'mean']).plot(kind='bar', subplots=True, figsize=(6, 5));"
   ]
  },
  {
   "cell_type": "markdown",
   "metadata": {
    "hidden": true
   },
   "source": [
    "Classe da passagem costuma estar relacionada com o valor da passagem, observando pelos gráficos abaixo podemos observar o valor para cada classe"
   ]
  },
  {
   "cell_type": "code",
   "execution_count": 20,
   "metadata": {
    "ExecuteTime": {
     "end_time": "2020-06-11T00:15:16.963878Z",
     "start_time": "2020-06-11T00:15:16.563348Z"
    },
    "hidden": true
   },
   "outputs": [
    {
     "data": {
      "image/png": "[encoded data removed]",
      "text/plain": [
       "<Figure size 410.875x360 with 1 Axes>"
      ]
     },
     "metadata": {
      "needs_background": "light"
     },
     "output_type": "display_data"
    }
   ],
   "source": [
    "sns.catplot(data=df_train, x='pclass', y='fare', hue='survived');"
   ]
  },
  {
   "cell_type": "code",
   "execution_count": 21,
   "metadata": {
    "ExecuteTime": {
     "end_time": "2020-06-11T00:15:17.203693Z",
     "start_time": "2020-06-11T00:15:16.965875Z"
    },
    "hidden": true
   },
   "outputs": [
    {
     "data": {
      "text/plain": [
       "<matplotlib.axes._subplots.AxesSubplot at 0x1dd0c126828>"
      ]
     },
     "execution_count": 21,
     "metadata": {},
     "output_type": "execute_result"
    },
    {
     "data": {
      "image/png": "[encoded data removed]",
      "text/plain": [
       "<Figure size 432x288 with 1 Axes>"
      ]
     },
     "metadata": {
      "needs_background": "light"
     },
     "output_type": "display_data"
    }
   ],
   "source": [
    "sns.boxplot(data=df_train, x='pclass', y='fare')"
   ]
  },
  {
   "cell_type": "code",
   "execution_count": 22,
   "metadata": {
    "ExecuteTime": {
     "end_time": "2020-06-11T00:15:17.215962Z",
     "start_time": "2020-06-11T00:15:17.206675Z"
    },
    "hidden": true
   },
   "outputs": [
    {
     "data": {
      "text/plain": [
       "pclass\n",
       "1.0    512.3292\n",
       "2.0     73.5000\n",
       "3.0     69.5500\n",
       "Name: fare, dtype: float64"
      ]
     },
     "execution_count": 22,
     "metadata": {},
     "output_type": "execute_result"
    }
   ],
   "source": [
    "df_train.groupby('pclass')['fare'].max()"
   ]
  },
  {
   "cell_type": "markdown",
   "metadata": {
    "hidden": true
   },
   "source": [
    "Dessa forma, podemos observar que qualquer passagem que foi paga acima de `73.5` com certeza é da 1ª classe"
   ]
  },
  {
   "cell_type": "code",
   "execution_count": 23,
   "metadata": {
    "ExecuteTime": {
     "end_time": "2020-06-11T00:15:17.231851Z",
     "start_time": "2020-06-11T00:15:17.218021Z"
    },
    "hidden": true
   },
   "outputs": [],
   "source": [
    "df_train.loc[(df_train['pclass'].isnull())&\n",
    "             (df_train['fare'] > 73.5), 'pclass'] = 1"
   ]
  },
  {
   "cell_type": "markdown",
   "metadata": {
    "hidden": true
   },
   "source": [
    "Preencherei o restante das classes faltantes com a classe mais frequente"
   ]
  },
  {
   "cell_type": "code",
   "execution_count": 24,
   "metadata": {
    "ExecuteTime": {
     "end_time": "2020-06-11T00:15:17.246904Z",
     "start_time": "2020-06-11T00:15:17.233904Z"
    },
    "hidden": true
   },
   "outputs": [],
   "source": [
    "df_train['pclass'].fillna(df_train['pclass'].mode()[0], inplace=True)"
   ]
  },
  {
   "cell_type": "code",
   "execution_count": 25,
   "metadata": {
    "ExecuteTime": {
     "end_time": "2020-06-11T00:15:17.261904Z",
     "start_time": "2020-06-11T00:15:17.248907Z"
    },
    "hidden": true
   },
   "outputs": [],
   "source": [
    "df_train['pclass'] = df_train['pclass'].astype('int8')"
   ]
  },
  {
   "cell_type": "markdown",
   "metadata": {
    "hidden": true
   },
   "source": [
    "P-valor é próximo de zero, então temos rejeitar a hipótese nula de independência entre as variáveis e inferir que existe dependência entre entre classe e sobreviventes. De acordo com o V de Cramer, a força dessa relação é de 0.34"
   ]
  },
  {
   "cell_type": "code",
   "execution_count": 26,
   "metadata": {
    "ExecuteTime": {
     "end_time": "2020-06-11T00:15:17.478625Z",
     "start_time": "2020-06-11T00:15:17.264903Z"
    },
    "hidden": true
   },
   "outputs": [
    {
     "data": {
      "image/png": "[encoded data removed]",
      "text/plain": [
       "<Figure size 288x144 with 1 Axes>"
      ]
     },
     "metadata": {
      "needs_background": "light"
     },
     "output_type": "display_data"
    },
    {
     "name": "stdout",
     "output_type": "stream",
     "text": [
      "                Chi-square test   results\n",
      "0  Pearson Chi-square ( 2.0) =   102.6223\n",
      "1                    p-value =     0.0000\n",
      "2                 Cramer's V =     0.3394\n"
     ]
    }
   ],
   "source": [
    "chisquare(df_train, 'pclass', 'survived', figsize=(4, 2))"
   ]
  },
  {
   "cell_type": "markdown",
   "metadata": {
    "hidden": true
   },
   "source": [
    "### 4) Name and Sex"
   ]
  },
  {
   "cell_type": "markdown",
   "metadata": {
    "hidden": true
   },
   "source": [
    "Os pronomes de tratamento `title` no nome dos passageiros podem ajudar a prever sobreviventes"
   ]
  },
  {
   "cell_type": "code",
   "execution_count": 27,
   "metadata": {
    "ExecuteTime": {
     "end_time": "2020-06-11T00:15:17.486628Z",
     "start_time": "2020-06-11T00:15:17.481624Z"
    },
    "hidden": true
   },
   "outputs": [],
   "source": [
    "def sub(s):\n",
    "    start = s.find(\", \") + len(\", \")\n",
    "    end = s.find(\". \")\n",
    "    return s[start:end]"
   ]
  },
  {
   "cell_type": "code",
   "execution_count": 28,
   "metadata": {
    "ExecuteTime": {
     "end_time": "2020-06-11T00:15:17.506159Z",
     "start_time": "2020-06-11T00:15:17.491626Z"
    },
    "hidden": true
   },
   "outputs": [],
   "source": [
    "df_train['title'] = df_train['name'].apply(lambda s: sub(s))\n",
    "df_test['title'] = df_test['name'].apply(lambda s: sub(s))"
   ]
  },
  {
   "cell_type": "markdown",
   "metadata": {
    "hidden": true
   },
   "source": [
    "Antes de prosseguir com a análise dos pronomes de tratamento, nota-se que os valores da variável `sex` não estão padronizados"
   ]
  },
  {
   "cell_type": "code",
   "execution_count": 29,
   "metadata": {
    "ExecuteTime": {
     "end_time": "2020-06-11T00:15:17.528158Z",
     "start_time": "2020-06-11T00:15:17.510156Z"
    },
    "hidden": true
   },
   "outputs": [
    {
     "data": {
      "text/plain": [
       "male         137\n",
       "Male          82\n",
       "man           82\n",
       "mal           82\n",
       " male         82\n",
       "male          82\n",
       "female        75\n",
       "Female        45\n",
       " female       45\n",
       "woman         45\n",
       "female_       45\n",
       "women         44\n",
       "Name: sex, dtype: int64"
      ]
     },
     "execution_count": 29,
     "metadata": {},
     "output_type": "execute_result"
    }
   ],
   "source": [
    "df_train['sex'].value_counts()"
   ]
  },
  {
   "cell_type": "markdown",
   "metadata": {
    "hidden": true
   },
   "source": [
    "Embora os valores da base de teste estão padronizados"
   ]
  },
  {
   "cell_type": "code",
   "execution_count": 30,
   "metadata": {
    "ExecuteTime": {
     "end_time": "2020-06-11T00:15:17.678228Z",
     "start_time": "2020-06-11T00:15:17.667225Z"
    },
    "hidden": true
   },
   "outputs": [
    {
     "data": {
      "text/plain": [
       "male      266\n",
       "female    152\n",
       "Name: sex, dtype: int64"
      ]
     },
     "execution_count": 30,
     "metadata": {},
     "output_type": "execute_result"
    }
   ],
   "source": [
    "df_test['sex'].value_counts()"
   ]
  },
  {
   "cell_type": "markdown",
   "metadata": {
    "hidden": true
   },
   "source": [
    "Dessa forma, utilizarei os `titles` para inferir se o passageiro é homem ou mulher"
   ]
  },
  {
   "cell_type": "code",
   "execution_count": 31,
   "metadata": {
    "ExecuteTime": {
     "end_time": "2020-06-11T00:15:17.926224Z",
     "start_time": "2020-06-11T00:15:17.895220Z"
    },
    "hidden": true
   },
   "outputs": [
    {
     "data": {
      "text/plain": [
       "male      577\n",
       "female    314\n",
       "Name: sex, dtype: int64"
      ]
     },
     "execution_count": 31,
     "metadata": {},
     "output_type": "execute_result"
    }
   ],
   "source": [
    "df_train.loc[(df_train['sex'].isnull()) & (df_train['title'].isin(['Major', 'Master', 'Mr'])),'sex'] = 'male'\n",
    "df_train.loc[(df_train['sex'].isnull()) & (df_train['title'].isin(['Miss', 'Mrs', 'the Countess'])),'sex'] = 'female'\n",
    "df_train['sex'] = df_train['sex'].str.lower()\n",
    "df_train.loc[(df_train['sex'].str.contains('female')) | \n",
    "             (df_train['sex'].str.contains('wom')), 'sex'] = 'female'\n",
    "df_train.loc[~df_train['sex'].str.contains('female'), 'sex'] = 'male'\n",
    "df_train['sex'].value_counts()"
   ]
  },
  {
   "cell_type": "markdown",
   "metadata": {
    "ExecuteTime": {
     "end_time": "2020-06-11T01:13:34.633316Z",
     "start_time": "2020-06-11T01:13:34.625313Z"
    },
    "hidden": true
   },
   "source": [
    "Podemos observar a tabela de frequencia que alguns títulos são comuns para ambos os sexos"
   ]
  },
  {
   "cell_type": "code",
   "execution_count": 32,
   "metadata": {
    "ExecuteTime": {
     "end_time": "2020-06-11T00:15:18.626366Z",
     "start_time": "2020-06-11T00:15:18.085224Z"
    },
    "hidden": true
   },
   "outputs": [
    {
     "data": {
      "image/png": "[encoded data removed]",
      "text/plain": [
       "<Figure size 432x288 with 2 Axes>"
      ]
     },
     "metadata": {
      "needs_background": "light"
     },
     "output_type": "display_data"
    }
   ],
   "source": [
    "sns.heatmap(pd.crosstab(df_train['title'], df_train['sex']), annot=True, fmt='.4g', cmap='inferno');"
   ]
  },
  {
   "cell_type": "markdown",
   "metadata": {
    "hidden": true
   },
   "source": [
    "Proseguindo com a análise de correlação, temos o `title` tem uma forte relação com o índice de sobrevivência"
   ]
  },
  {
   "cell_type": "code",
   "execution_count": 33,
   "metadata": {
    "ExecuteTime": {
     "end_time": "2020-06-11T00:15:19.096361Z",
     "start_time": "2020-06-11T00:15:18.629363Z"
    },
    "hidden": true
   },
   "outputs": [
    {
     "data": {
      "image/png": "[encoded data removed]",
      "text/plain": [
       "<Figure size 288x360 with 1 Axes>"
      ]
     },
     "metadata": {
      "needs_background": "light"
     },
     "output_type": "display_data"
    },
    {
     "name": "stdout",
     "output_type": "stream",
     "text": [
      "                 Chi-square test   results\n",
      "0  Pearson Chi-square ( 16.0) =   300.0230\n",
      "1                     p-value =     0.0000\n",
      "2                  Cramer's V =     0.5803\n"
     ]
    }
   ],
   "source": [
    "chisquare(df_train, 'title', 'survived', figsize=(4, 5))"
   ]
  },
  {
   "cell_type": "markdown",
   "metadata": {
    "hidden": true
   },
   "source": [
    "No entanto, utilizar todos os títulos pode deixar a matriz de variáveis muito esparsa, além de que tem `titles` que não tem volumetria expressiva. Dessa forma coletei somente os 3 maiores `titles` e nomeei o restante de `other`. Ainda assim, essa variável reduzida `title_top` possue forte relação com `survived`"
   ]
  },
  {
   "cell_type": "code",
   "execution_count": 34,
   "metadata": {
    "ExecuteTime": {
     "end_time": "2020-06-11T00:15:19.104379Z",
     "start_time": "2020-06-11T00:15:19.098369Z"
    },
    "hidden": true
   },
   "outputs": [],
   "source": [
    "def top_title(df, top=3):\n",
    "    top_title = df['title'].value_counts().head(top).index\n",
    "    df['title_top'] = df['title'].where(df['title'].isin(top_title), other='other')\n",
    "    return df"
   ]
  },
  {
   "cell_type": "code",
   "execution_count": 35,
   "metadata": {
    "ExecuteTime": {
     "end_time": "2020-06-11T00:15:19.123371Z",
     "start_time": "2020-06-11T00:15:19.108371Z"
    },
    "hidden": true
   },
   "outputs": [],
   "source": [
    "df_train = top_title(df_train)\n",
    "df_test = top_title(df_test)"
   ]
  },
  {
   "cell_type": "code",
   "execution_count": 36,
   "metadata": {
    "ExecuteTime": {
     "end_time": "2020-06-11T00:15:19.374236Z",
     "start_time": "2020-06-11T00:15:19.127364Z"
    },
    "hidden": true
   },
   "outputs": [
    {
     "data": {
      "image/png": "[encoded data removed]",
      "text/plain": [
       "<Figure size 288x216 with 1 Axes>"
      ]
     },
     "metadata": {
      "needs_background": "light"
     },
     "output_type": "display_data"
    },
    {
     "name": "stdout",
     "output_type": "stream",
     "text": [
      "                Chi-square test   results\n",
      "0  Pearson Chi-square ( 3.0) =   282.1498\n",
      "1                    p-value =     0.0000\n",
      "2                 Cramer's V =     0.5627\n"
     ]
    }
   ],
   "source": [
    "chisquare(df_train, 'title_top', 'survived', figsize=(4, 3))"
   ]
  },
  {
   "cell_type": "markdown",
   "metadata": {
    "hidden": true
   },
   "source": [
    "Assim como `sex` tem forte correlação com `survived`"
   ]
  },
  {
   "cell_type": "code",
   "execution_count": 37,
   "metadata": {
    "ExecuteTime": {
     "end_time": "2020-06-11T00:15:19.568246Z",
     "start_time": "2020-06-11T00:15:19.377234Z"
    },
    "hidden": true
   },
   "outputs": [
    {
     "data": {
      "image/png": "[encoded data removed]",
      "text/plain": [
       "<Figure size 288x144 with 1 Axes>"
      ]
     },
     "metadata": {
      "needs_background": "light"
     },
     "output_type": "display_data"
    },
    {
     "name": "stdout",
     "output_type": "stream",
     "text": [
      "                Chi-square test   results\n",
      "0  Pearson Chi-square ( 1.0) =   263.0506\n",
      "1                    p-value =     0.0000\n",
      "2               Cramer's phi =     0.5434\n"
     ]
    }
   ],
   "source": [
    "chisquare(df_train, 'sex', 'survived', figsize=(4, 2))"
   ]
  },
  {
   "cell_type": "markdown",
   "metadata": {
    "hidden": true
   },
   "source": [
    "Eliminarei essas colunas que não irão contribuir na predição "
   ]
  },
  {
   "cell_type": "code",
   "execution_count": 38,
   "metadata": {
    "ExecuteTime": {
     "end_time": "2020-06-11T00:15:19.587248Z",
     "start_time": "2020-06-11T00:15:19.573237Z"
    },
    "hidden": true
   },
   "outputs": [],
   "source": [
    "df_train = drop_cols(df_train, ['name', 'title'])\n",
    "df_test = drop_cols(df_test, ['name', 'title'])"
   ]
  },
  {
   "cell_type": "markdown",
   "metadata": {
    "hidden": true
   },
   "source": [
    "### 5) Age"
   ]
  },
  {
   "cell_type": "markdown",
   "metadata": {
    "ExecuteTime": {
     "end_time": "2020-06-11T01:17:56.734736Z",
     "start_time": "2020-06-11T01:17:56.729730Z"
    },
    "hidden": true
   },
   "source": [
    "Podemos observar a distribuição da idade para sobreviventes e não sobreviventes"
   ]
  },
  {
   "cell_type": "code",
   "execution_count": 40,
   "metadata": {
    "ExecuteTime": {
     "end_time": "2020-06-11T00:15:20.188537Z",
     "start_time": "2020-06-11T00:15:19.757060Z"
    },
    "hidden": true
   },
   "outputs": [
    {
     "data": {
      "image/png": "[encoded data removed]",
      "text/plain": [
       "<Figure size 1152x216 with 1 Axes>"
      ]
     },
     "metadata": {
      "needs_background": "light"
     },
     "output_type": "display_data"
    }
   ],
   "source": [
    "plt.figure(figsize=(16, 3))\n",
    "sns.distplot(df_train[df_train['survived']==1]['age'], label=1)\n",
    "sns.distplot(df_train[df_train['survived']==0]['age'], label=0)\n",
    "plt.legend()\n",
    "plt.show()"
   ]
  },
  {
   "cell_type": "code",
   "execution_count": 41,
   "metadata": {
    "ExecuteTime": {
     "end_time": "2020-06-11T00:15:20.402119Z",
     "start_time": "2020-06-11T00:15:20.191527Z"
    },
    "hidden": true
   },
   "outputs": [
    {
     "data": {
      "image/png": "[encoded data removed]",
      "text/plain": [
       "<Figure size 432x288 with 1 Axes>"
      ]
     },
     "metadata": {
      "needs_background": "light"
     },
     "output_type": "display_data"
    }
   ],
   "source": [
    "sns.boxplot(data=df_train, y='age', x='survived');"
   ]
  },
  {
   "cell_type": "markdown",
   "metadata": {
    "hidden": true
   },
   "source": [
    "Apenas pela distribuição, talvez não ficou muito claro se idade auxilia na previsão de sobreviventes, então podemos tentar construir alguns modelos simples para tentar enxergar essa relação"
   ]
  },
  {
   "cell_type": "code",
   "execution_count": 42,
   "metadata": {
    "ExecuteTime": {
     "end_time": "2020-06-11T00:15:20.416114Z",
     "start_time": "2020-06-11T00:15:20.407115Z"
    },
    "hidden": true
   },
   "outputs": [],
   "source": [
    "age_survived = df_train[['age', 'survived']].dropna()\n",
    "x, y = age_survived[['age']], age_survived['survived']"
   ]
  },
  {
   "cell_type": "markdown",
   "metadata": {
    "hidden": true
   },
   "source": [
    "Pela regressão logística, podemos observar que quanto mais jovem, maior a probabilidade de sobrevivência, ainda que essa probabilidade nunca será maior que `0.5`"
   ]
  },
  {
   "cell_type": "code",
   "execution_count": 43,
   "metadata": {
    "ExecuteTime": {
     "end_time": "2020-06-11T00:15:20.628119Z",
     "start_time": "2020-06-11T00:15:20.420143Z"
    },
    "hidden": true
   },
   "outputs": [
    {
     "data": {
      "image/png": "[encoded data removed]",
      "text/plain": [
       "<Figure size 1000x300 with 1 Axes>"
      ]
     },
     "metadata": {
      "needs_background": "light"
     },
     "output_type": "display_data"
    }
   ],
   "source": [
    "lr = LogisticRegression()\n",
    "lr.fit(x, y)\n",
    "y_pred = lr.predict_proba(x)[:, 1]\n",
    "\n",
    "plt.figure(figsize = (10, 3), dpi = 100)\n",
    "plt.plot(x, y, '.', alpha = 0.1)\n",
    "plt.plot(x, y_pred, '.', alpha = 0.5)\n",
    "plt.xlabel('age')\n",
    "plt.ylabel('survival probability')\n",
    "plt.show()"
   ]
  },
  {
   "cell_type": "markdown",
   "metadata": {
    "hidden": true
   },
   "source": [
    "Pela árvore de decisão podemos observar a quebra de idades para previsão. Como idade tem bastante valores faltantes, deixarei para preenchê-los ao final da análise"
   ]
  },
  {
   "cell_type": "code",
   "execution_count": 44,
   "metadata": {
    "ExecuteTime": {
     "end_time": "2020-06-11T00:15:21.581289Z",
     "start_time": "2020-06-11T00:15:20.631120Z"
    },
    "hidden": true
   },
   "outputs": [
    {
     "data": {
      "image/png": "[encoded data removed]",
      "text/plain": [
       "<Figure size 1152x720 with 1 Axes>"
      ]
     },
     "metadata": {
      "needs_background": "light"
     },
     "output_type": "display_data"
    }
   ],
   "source": [
    "dt = DecisionTreeClassifier()\n",
    "\n",
    "dt.fit(x, y)\n",
    "\n",
    "plt.figure(figsize=(16, 10))\n",
    "plot_tree(dt, max_depth=3, feature_names=['age'], filled=True, fontsize=12)\n",
    "plt.show()"
   ]
  },
  {
   "cell_type": "markdown",
   "metadata": {
    "hidden": true
   },
   "source": [
    "### 6) Sibsp and Parch"
   ]
  },
  {
   "cell_type": "markdown",
   "metadata": {
    "hidden": true
   },
   "source": [
    "Podemos observar que passageiros com poucos irmão/companheiros costumam ter poucos parentes e filhos à bordo; e ambas variáveis tem correlação com sobreviventes"
   ]
  },
  {
   "cell_type": "code",
   "execution_count": 45,
   "metadata": {
    "ExecuteTime": {
     "end_time": "2020-06-11T00:15:21.959841Z",
     "start_time": "2020-06-11T00:15:21.584288Z"
    },
    "hidden": true
   },
   "outputs": [
    {
     "data": {
      "image/png": "[encoded data removed]",
      "text/plain": [
       "<Figure size 576x288 with 1 Axes>"
      ]
     },
     "metadata": {
      "needs_background": "light"
     },
     "output_type": "display_data"
    },
    {
     "name": "stdout",
     "output_type": "stream",
     "text": [
      "                 Chi-square test   results\n",
      "0  Pearson Chi-square ( 36.0) =   341.6820\n",
      "1                     p-value =     0.0000\n",
      "2                  Cramer's V =     0.2528\n"
     ]
    }
   ],
   "source": [
    "chisquare(df_train, 'sibsp', 'parch', figsize=(8, 4))"
   ]
  },
  {
   "cell_type": "code",
   "execution_count": 46,
   "metadata": {
    "ExecuteTime": {
     "end_time": "2020-06-11T00:15:22.246437Z",
     "start_time": "2020-06-11T00:15:21.962850Z"
    },
    "hidden": true
   },
   "outputs": [
    {
     "data": {
      "image/png": "[encoded data removed]",
      "text/plain": [
       "<Figure size 288x216 with 1 Axes>"
      ]
     },
     "metadata": {
      "needs_background": "light"
     },
     "output_type": "display_data"
    },
    {
     "name": "stdout",
     "output_type": "stream",
     "text": [
      "                Chi-square test  results\n",
      "0  Pearson Chi-square ( 6.0) =   37.2718\n",
      "1                    p-value =    0.0000\n",
      "2                 Cramer's V =    0.2045\n"
     ]
    }
   ],
   "source": [
    "chisquare(df_train, 'sibsp', 'survived', figsize=(4, 3))"
   ]
  },
  {
   "cell_type": "code",
   "execution_count": 47,
   "metadata": {
    "ExecuteTime": {
     "end_time": "2020-06-11T00:15:22.501438Z",
     "start_time": "2020-06-11T00:15:22.248442Z"
    },
    "hidden": true
   },
   "outputs": [
    {
     "data": {
      "image/png": "[encoded data removed]",
      "text/plain": [
       "<Figure size 288x216 with 1 Axes>"
      ]
     },
     "metadata": {
      "needs_background": "light"
     },
     "output_type": "display_data"
    },
    {
     "name": "stdout",
     "output_type": "stream",
     "text": [
      "                Chi-square test  results\n",
      "0  Pearson Chi-square ( 6.0) =   27.9258\n",
      "1                    p-value =    0.0001\n",
      "2                 Cramer's V =    0.1770\n"
     ]
    }
   ],
   "source": [
    "chisquare(df_train, 'parch', 'survived', figsize=(4, 3))"
   ]
  },
  {
   "cell_type": "markdown",
   "metadata": {
    "hidden": true
   },
   "source": [
    "Abaixo podemos observar a taxa de sobreviventes e volumetria para cada par `parch` e `sibsp`"
   ]
  },
  {
   "cell_type": "code",
   "execution_count": 48,
   "metadata": {
    "ExecuteTime": {
     "end_time": "2020-06-11T00:15:22.864439Z",
     "start_time": "2020-06-11T00:15:22.506452Z"
    },
    "hidden": true
   },
   "outputs": [
    {
     "data": {
      "image/png": "[encoded data removed]",
      "text/plain": [
       "<Figure size 432x288 with 1 Axes>"
      ]
     },
     "metadata": {
      "needs_background": "light"
     },
     "output_type": "display_data"
    }
   ],
   "source": [
    "sns.heatmap(pd.pivot_table(df_train, 'survived', 'parch', 'sibsp', aggfunc='mean', fill_value=0),\n",
    "            annot=True, cmap='coolwarm_r', cbar=False);"
   ]
  },
  {
   "cell_type": "code",
   "execution_count": 49,
   "metadata": {
    "ExecuteTime": {
     "end_time": "2020-06-11T00:15:23.306727Z",
     "start_time": "2020-06-11T00:15:22.866436Z"
    },
    "hidden": true
   },
   "outputs": [
    {
     "data": {
      "image/png": "[encoded data removed]",
      "text/plain": [
       "<Figure size 432x288 with 1 Axes>"
      ]
     },
     "metadata": {
      "needs_background": "light"
     },
     "output_type": "display_data"
    }
   ],
   "source": [
    "sns.heatmap(pd.pivot_table(df_train, 'survived', 'parch', 'sibsp', aggfunc='sum', fill_value=0),\n",
    "            annot=True, cmap='viridis', cbar=False, fmt='.3g');"
   ]
  },
  {
   "cell_type": "markdown",
   "metadata": {
    "hidden": true
   },
   "source": [
    "### 7) Ticket and Cabin"
   ]
  },
  {
   "cell_type": "markdown",
   "metadata": {
    "hidden": true
   },
   "source": [
    "Pelas variáveis `ticket` e `cabin`, não podemos dizer que com 99% de confiança que rejeitamos a hipótese nula, além de que ambas tem baixa volumetria de passageiros, portanto serão eliminadas do modelo"
   ]
  },
  {
   "cell_type": "code",
   "execution_count": 50,
   "metadata": {
    "ExecuteTime": {
     "end_time": "2020-06-11T00:15:27.718636Z",
     "start_time": "2020-06-11T00:15:23.309728Z"
    },
    "hidden": true
   },
   "outputs": [
    {
     "data": {
      "image/png": "[encoded data removed]",
      "text/plain": [
       "<Figure size 288x216 with 1 Axes>"
      ]
     },
     "metadata": {
      "needs_background": "light"
     },
     "output_type": "display_data"
    },
    {
     "name": "stdout",
     "output_type": "stream",
     "text": [
      "                  Chi-square test   results\n",
      "0  Pearson Chi-square ( 680.0) =   766.5697\n",
      "1                      p-value =     0.0115\n",
      "2                   Cramer's V =     0.9275\n"
     ]
    }
   ],
   "source": [
    "chisquare(df_train, 'ticket', 'survived', figsize=(4, 3))"
   ]
  },
  {
   "cell_type": "code",
   "execution_count": 51,
   "metadata": {
    "ExecuteTime": {
     "end_time": "2020-06-11T00:15:29.359937Z",
     "start_time": "2020-06-11T00:15:27.725630Z"
    },
    "hidden": true
   },
   "outputs": [
    {
     "data": {
      "image/png": "[encoded data removed]",
      "text/plain": [
       "<Figure size 288x216 with 1 Axes>"
      ]
     },
     "metadata": {
      "needs_background": "light"
     },
     "output_type": "display_data"
    },
    {
     "name": "stdout",
     "output_type": "stream",
     "text": [
      "                  Chi-square test   results\n",
      "0  Pearson Chi-square ( 146.0) =   161.2500\n",
      "1                      p-value =     0.1836\n",
      "2                   Cramer's V =     0.8891\n"
     ]
    }
   ],
   "source": [
    "chisquare(df_train, 'cabin', 'survived', figsize=(4, 3))"
   ]
  },
  {
   "cell_type": "code",
   "execution_count": 52,
   "metadata": {
    "ExecuteTime": {
     "end_time": "2020-06-11T00:15:29.373932Z",
     "start_time": "2020-06-11T00:15:29.362934Z"
    },
    "hidden": true
   },
   "outputs": [],
   "source": [
    "df_train = drop_cols(df_train, ['ticket', 'cabin'])\n",
    "df_test = drop_cols(df_test, ['ticket', 'cabin'])"
   ]
  },
  {
   "cell_type": "markdown",
   "metadata": {
    "hidden": true
   },
   "source": [
    "### 8) Fare"
   ]
  },
  {
   "cell_type": "markdown",
   "metadata": {
    "hidden": true
   },
   "source": [
    "Observando a distribuição do valor da passagem, notamos uma distribuição assímetrica"
   ]
  },
  {
   "cell_type": "code",
   "execution_count": 53,
   "metadata": {
    "ExecuteTime": {
     "end_time": "2020-06-11T00:15:30.128482Z",
     "start_time": "2020-06-11T00:15:29.376932Z"
    },
    "hidden": true
   },
   "outputs": [
    {
     "data": {
      "image/png": "[encoded data removed]",
      "text/plain": [
       "<Figure size 1152x216 with 1 Axes>"
      ]
     },
     "metadata": {
      "needs_background": "light"
     },
     "output_type": "display_data"
    }
   ],
   "source": [
    "plt.figure(figsize=(16, 3))\n",
    "sns.distplot(df_train[df_train['survived']==1]['fare'], label=1)\n",
    "sns.distplot(df_train[df_train['survived']==0]['fare'], label=0)\n",
    "plt.legend()\n",
    "plt.show()"
   ]
  },
  {
   "cell_type": "markdown",
   "metadata": {
    "hidden": true
   },
   "source": [
    "Aplicarei o log para deixá-la mais uniforme"
   ]
  },
  {
   "cell_type": "code",
   "execution_count": 54,
   "metadata": {
    "ExecuteTime": {
     "end_time": "2020-06-11T00:15:30.154482Z",
     "start_time": "2020-06-11T00:15:30.132486Z"
    },
    "hidden": true
   },
   "outputs": [
    {
     "name": "stderr",
     "output_type": "stream",
     "text": [
      "C:\\Users\\milto\\Anaconda3\\lib\\site-packages\\pandas\\core\\series.py:679: RuntimeWarning: divide by zero encountered in log\n",
      "  result = getattr(ufunc, method)(*inputs, **kwargs)\n",
      "C:\\Users\\milto\\Anaconda3\\lib\\site-packages\\ipykernel_launcher.py:2: SettingWithCopyWarning: \n",
      "A value is trying to be set on a copy of a slice from a DataFrame\n",
      "\n",
      "See the caveats in the documentation: https://pandas.pydata.org/pandas-docs/stable/user_guide/indexing.html#returning-a-view-versus-a-copy\n",
      "  \n"
     ]
    }
   ],
   "source": [
    "df_train['fare_log'] = np.log(df_train['fare'])\n",
    "df_train['fare_log'][df_train['fare_log'] == -np.inf] = 0"
   ]
  },
  {
   "cell_type": "code",
   "execution_count": 55,
   "metadata": {
    "ExecuteTime": {
     "end_time": "2020-06-11T00:15:30.528484Z",
     "start_time": "2020-06-11T00:15:30.157486Z"
    },
    "hidden": true
   },
   "outputs": [
    {
     "data": {
      "image/png": "[encoded data removed]",
      "text/plain": [
       "<Figure size 1152x216 with 1 Axes>"
      ]
     },
     "metadata": {
      "needs_background": "light"
     },
     "output_type": "display_data"
    }
   ],
   "source": [
    "plt.figure(figsize=(16, 3))\n",
    "sns.distplot(df_train[df_train['survived']==1]['fare_log'], label=1)\n",
    "sns.distplot(df_train[df_train['survived']==0]['fare_log'], label=0)\n",
    "plt.legend()\n",
    "plt.show()"
   ]
  },
  {
   "cell_type": "markdown",
   "metadata": {
    "ExecuteTime": {
     "end_time": "2020-06-11T01:28:10.206018Z",
     "start_time": "2020-06-11T01:28:10.200014Z"
    },
    "hidden": true
   },
   "source": [
    "E aplicarei um modelo simples `regressão logística` para avaliar se faz sentido usá-la pura ou com transformação logarítimica"
   ]
  },
  {
   "cell_type": "code",
   "execution_count": 56,
   "metadata": {
    "ExecuteTime": {
     "end_time": "2020-06-11T00:15:30.547486Z",
     "start_time": "2020-06-11T00:15:30.531485Z"
    },
    "hidden": true
   },
   "outputs": [],
   "source": [
    "fare_survived = df_train[['fare', 'fare_log', 'survived']].dropna()\n",
    "x, x_log, y = fare_survived[['fare']], fare_survived[['fare_log']], fare_survived['survived']"
   ]
  },
  {
   "cell_type": "code",
   "execution_count": 57,
   "metadata": {
    "ExecuteTime": {
     "end_time": "2020-06-11T00:15:30.800013Z",
     "start_time": "2020-06-11T00:15:30.551487Z"
    },
    "hidden": true
   },
   "outputs": [
    {
     "data": {
      "image/png": "[encoded data removed]",
      "text/plain": [
       "<Figure size 1000x300 with 1 Axes>"
      ]
     },
     "metadata": {
      "needs_background": "light"
     },
     "output_type": "display_data"
    }
   ],
   "source": [
    "lr = LogisticRegression()\n",
    "lr.fit(x, y)\n",
    "y_pred = lr.predict_proba(x)[:, 1]\n",
    "\n",
    "plt.figure(figsize = (10, 3), dpi = 100)\n",
    "plt.plot(x, y, '.', alpha = 0.1)\n",
    "plt.plot(x, y_pred, '.', alpha = 0.5)\n",
    "plt.xlabel('fare')\n",
    "plt.ylabel('survival probability')\n",
    "plt.show()"
   ]
  },
  {
   "cell_type": "code",
   "execution_count": 58,
   "metadata": {
    "ExecuteTime": {
     "end_time": "2020-06-11T00:15:31.066882Z",
     "start_time": "2020-06-11T00:15:30.808011Z"
    },
    "hidden": true
   },
   "outputs": [
    {
     "data": {
      "image/png": "[encoded data removed]",
      "text/plain": [
       "<Figure size 1000x300 with 1 Axes>"
      ]
     },
     "metadata": {
      "needs_background": "light"
     },
     "output_type": "display_data"
    }
   ],
   "source": [
    "lr = LogisticRegression()\n",
    "lr.fit(x_log, y)\n",
    "y_pred = lr.predict_proba(x)[:, 1]\n",
    "\n",
    "plt.figure(figsize = (10, 3), dpi = 100)\n",
    "plt.plot(x, y, '.', alpha = 0.1)\n",
    "plt.plot(x, y_pred, '.', alpha = 0.5)\n",
    "plt.xlabel('log fare')\n",
    "plt.ylabel('survival probability')\n",
    "plt.show()"
   ]
  },
  {
   "cell_type": "code",
   "execution_count": 59,
   "metadata": {
    "ExecuteTime": {
     "end_time": "2020-06-11T00:15:31.074899Z",
     "start_time": "2020-06-11T00:15:31.070889Z"
    },
    "hidden": true
   },
   "outputs": [],
   "source": [
    "from statsmodels.genmod.generalized_linear_model import GLM\n",
    "import statsmodels.api as sm"
   ]
  },
  {
   "cell_type": "code",
   "execution_count": 60,
   "metadata": {
    "ExecuteTime": {
     "end_time": "2020-06-11T00:15:31.094875Z",
     "start_time": "2020-06-11T00:15:31.076880Z"
    },
    "hidden": true
   },
   "outputs": [],
   "source": [
    "x = sm.add_constant(x)\n",
    "x_log = sm.add_constant(x_log)"
   ]
  },
  {
   "cell_type": "code",
   "execution_count": 61,
   "metadata": {
    "ExecuteTime": {
     "end_time": "2020-06-11T00:15:31.126888Z",
     "start_time": "2020-06-11T00:15:31.096880Z"
    },
    "hidden": true
   },
   "outputs": [
    {
     "data": {
      "text/html": [
       "<table class=\"simpletable\">\n",
       "<caption>Generalized Linear Model Regression Results</caption>\n",
       "<tr>\n",
       "  <th>Dep. Variable:</th>       <td>survived</td>     <th>  No. Observations:  </th>  <td>   891</td> \n",
       "</tr>\n",
       "<tr>\n",
       "  <th>Model:</th>                  <td>GLM</td>       <th>  Df Residuals:      </th>  <td>   889</td> \n",
       "</tr>\n",
       "<tr>\n",
       "  <th>Model Family:</th>        <td>Binomial</td>     <th>  Df Model:          </th>  <td>     1</td> \n",
       "</tr>\n",
       "<tr>\n",
       "  <th>Link Function:</th>         <td>logit</td>      <th>  Scale:             </th> <td>  1.0000</td>\n",
       "</tr>\n",
       "<tr>\n",
       "  <th>Method:</th>                <td>IRLS</td>       <th>  Log-Likelihood:    </th> <td> -558.78</td>\n",
       "</tr>\n",
       "<tr>\n",
       "  <th>Date:</th>            <td>Wed, 10 Jun 2020</td> <th>  Deviance:          </th> <td>  1117.6</td>\n",
       "</tr>\n",
       "<tr>\n",
       "  <th>Time:</th>                <td>21:15:31</td>     <th>  Pearson chi2:      </th>  <td>  934.</td> \n",
       "</tr>\n",
       "<tr>\n",
       "  <th>No. Iterations:</th>          <td>5</td>        <th>                     </th>     <td> </td>   \n",
       "</tr>\n",
       "<tr>\n",
       "  <th>Covariance Type:</th>     <td>nonrobust</td>    <th>                     </th>     <td> </td>   \n",
       "</tr>\n",
       "</table>\n",
       "<table class=\"simpletable\">\n",
       "<tr>\n",
       "    <td></td>       <th>coef</th>     <th>std err</th>      <th>z</th>      <th>P>|z|</th>  <th>[0.025</th>    <th>0.975]</th>  \n",
       "</tr>\n",
       "<tr>\n",
       "  <th>const</th> <td>   -0.9413</td> <td>    0.095</td> <td>   -9.895</td> <td> 0.000</td> <td>   -1.128</td> <td>   -0.755</td>\n",
       "</tr>\n",
       "<tr>\n",
       "  <th>fare</th>  <td>    0.0152</td> <td>    0.002</td> <td>    6.809</td> <td> 0.000</td> <td>    0.011</td> <td>    0.020</td>\n",
       "</tr>\n",
       "</table>"
      ],
      "text/plain": [
       "<class 'statsmodels.iolib.summary.Summary'>\n",
       "\"\"\"\n",
       "                 Generalized Linear Model Regression Results                  \n",
       "==============================================================================\n",
       "Dep. Variable:               survived   No. Observations:                  891\n",
       "Model:                            GLM   Df Residuals:                      889\n",
       "Model Family:                Binomial   Df Model:                            1\n",
       "Link Function:                  logit   Scale:                          1.0000\n",
       "Method:                          IRLS   Log-Likelihood:                -558.78\n",
       "Date:                Wed, 10 Jun 2020   Deviance:                       1117.6\n",
       "Time:                        21:15:31   Pearson chi2:                     934.\n",
       "No. Iterations:                     5                                         \n",
       "Covariance Type:            nonrobust                                         \n",
       "==============================================================================\n",
       "                 coef    std err          z      P>|z|      [0.025      0.975]\n",
       "------------------------------------------------------------------------------\n",
       "const         -0.9413      0.095     -9.895      0.000      -1.128      -0.755\n",
       "fare           0.0152      0.002      6.809      0.000       0.011       0.020\n",
       "==============================================================================\n",
       "\"\"\""
      ]
     },
     "execution_count": 61,
     "metadata": {},
     "output_type": "execute_result"
    }
   ],
   "source": [
    "lr = GLM(y, x, family=sm.families.Binomial()).fit()\n",
    "lr.summary()"
   ]
  },
  {
   "cell_type": "code",
   "execution_count": 62,
   "metadata": {
    "ExecuteTime": {
     "end_time": "2020-06-11T00:15:31.152896Z",
     "start_time": "2020-06-11T00:15:31.128880Z"
    },
    "hidden": true
   },
   "outputs": [
    {
     "data": {
      "text/html": [
       "<table class=\"simpletable\">\n",
       "<caption>Generalized Linear Model Regression Results</caption>\n",
       "<tr>\n",
       "  <th>Dep. Variable:</th>       <td>survived</td>     <th>  No. Observations:  </th>  <td>   891</td> \n",
       "</tr>\n",
       "<tr>\n",
       "  <th>Model:</th>                  <td>GLM</td>       <th>  Df Residuals:      </th>  <td>   889</td> \n",
       "</tr>\n",
       "<tr>\n",
       "  <th>Model Family:</th>        <td>Binomial</td>     <th>  Df Model:          </th>  <td>     1</td> \n",
       "</tr>\n",
       "<tr>\n",
       "  <th>Link Function:</th>         <td>logit</td>      <th>  Scale:             </th> <td>  1.0000</td>\n",
       "</tr>\n",
       "<tr>\n",
       "  <th>Method:</th>                <td>IRLS</td>       <th>  Log-Likelihood:    </th> <td> -542.23</td>\n",
       "</tr>\n",
       "<tr>\n",
       "  <th>Date:</th>            <td>Wed, 10 Jun 2020</td> <th>  Deviance:          </th> <td>  1084.5</td>\n",
       "</tr>\n",
       "<tr>\n",
       "  <th>Time:</th>                <td>21:15:31</td>     <th>  Pearson chi2:      </th>  <td>  888.</td> \n",
       "</tr>\n",
       "<tr>\n",
       "  <th>No. Iterations:</th>          <td>4</td>        <th>                     </th>     <td> </td>   \n",
       "</tr>\n",
       "<tr>\n",
       "  <th>Covariance Type:</th>     <td>nonrobust</td>    <th>                     </th>     <td> </td>   \n",
       "</tr>\n",
       "</table>\n",
       "<table class=\"simpletable\">\n",
       "<tr>\n",
       "      <td></td>        <th>coef</th>     <th>std err</th>      <th>z</th>      <th>P>|z|</th>  <th>[0.025</th>    <th>0.975]</th>  \n",
       "</tr>\n",
       "<tr>\n",
       "  <th>const</th>    <td>   -2.6803</td> <td>    0.249</td> <td>  -10.762</td> <td> 0.000</td> <td>   -3.168</td> <td>   -2.192</td>\n",
       "</tr>\n",
       "<tr>\n",
       "  <th>fare_log</th> <td>    0.7472</td> <td>    0.080</td> <td>    9.366</td> <td> 0.000</td> <td>    0.591</td> <td>    0.904</td>\n",
       "</tr>\n",
       "</table>"
      ],
      "text/plain": [
       "<class 'statsmodels.iolib.summary.Summary'>\n",
       "\"\"\"\n",
       "                 Generalized Linear Model Regression Results                  \n",
       "==============================================================================\n",
       "Dep. Variable:               survived   No. Observations:                  891\n",
       "Model:                            GLM   Df Residuals:                      889\n",
       "Model Family:                Binomial   Df Model:                            1\n",
       "Link Function:                  logit   Scale:                          1.0000\n",
       "Method:                          IRLS   Log-Likelihood:                -542.23\n",
       "Date:                Wed, 10 Jun 2020   Deviance:                       1084.5\n",
       "Time:                        21:15:31   Pearson chi2:                     888.\n",
       "No. Iterations:                     4                                         \n",
       "Covariance Type:            nonrobust                                         \n",
       "==============================================================================\n",
       "                 coef    std err          z      P>|z|      [0.025      0.975]\n",
       "------------------------------------------------------------------------------\n",
       "const         -2.6803      0.249    -10.762      0.000      -3.168      -2.192\n",
       "fare_log       0.7472      0.080      9.366      0.000       0.591       0.904\n",
       "==============================================================================\n",
       "\"\"\""
      ]
     },
     "execution_count": 62,
     "metadata": {},
     "output_type": "execute_result"
    }
   ],
   "source": [
    "lr = GLM(y, x_log, family=sm.families.Binomial()).fit()\n",
    "lr.summary()"
   ]
  },
  {
   "cell_type": "markdown",
   "metadata": {
    "hidden": true
   },
   "source": [
    "Pelo pearsor chi2 a transformação não melhorou o modelo, logo usarei-a sem transformação"
   ]
  },
  {
   "cell_type": "code",
   "execution_count": 63,
   "metadata": {
    "ExecuteTime": {
     "end_time": "2020-06-11T00:15:31.161879Z",
     "start_time": "2020-06-11T00:15:31.156878Z"
    },
    "hidden": true
   },
   "outputs": [],
   "source": [
    "df_train = drop_cols(df_train, 'fare_log')"
   ]
  },
  {
   "cell_type": "markdown",
   "metadata": {
    "hidden": true
   },
   "source": [
    "### 9) Embarked"
   ]
  },
  {
   "cell_type": "markdown",
   "metadata": {
    "hidden": true
   },
   "source": [
    "O local do embarque parece que tem baixa relação com o índice de sobreviventes. Deixarei-a no modelo, preenchendo valores faltantes pelo local mais frequente"
   ]
  },
  {
   "cell_type": "code",
   "execution_count": 64,
   "metadata": {
    "ExecuteTime": {
     "end_time": "2020-06-11T00:15:31.344902Z",
     "start_time": "2020-06-11T00:15:31.163882Z"
    },
    "hidden": true
   },
   "outputs": [
    {
     "data": {
      "image/png": "[encoded data removed]",
      "text/plain": [
       "<Figure size 288x144 with 1 Axes>"
      ]
     },
     "metadata": {
      "needs_background": "light"
     },
     "output_type": "display_data"
    },
    {
     "name": "stdout",
     "output_type": "stream",
     "text": [
      "                Chi-square test  results\n",
      "0  Pearson Chi-square ( 2.0) =   26.4891\n",
      "1                    p-value =    0.0000\n",
      "2                 Cramer's V =    0.1726\n"
     ]
    }
   ],
   "source": [
    "chisquare(df_train, 'embarked', 'survived', figsize=(4, 2))"
   ]
  },
  {
   "cell_type": "code",
   "execution_count": 65,
   "metadata": {
    "ExecuteTime": {
     "end_time": "2020-06-11T00:15:31.351881Z",
     "start_time": "2020-06-11T00:15:31.346886Z"
    },
    "hidden": true
   },
   "outputs": [],
   "source": [
    "df_train['embarked'].fillna(df_train['embarked'].mode()[0], inplace=True)"
   ]
  },
  {
   "cell_type": "markdown",
   "metadata": {
    "heading_collapsed": true
   },
   "source": [
    "## Dataprep"
   ]
  },
  {
   "cell_type": "markdown",
   "metadata": {
    "hidden": true
   },
   "source": [
    "Com os dados prontos, aplicarei one-hot-encoding (dummies) para criar uma coluna para cada variável categórica"
   ]
  },
  {
   "cell_type": "code",
   "execution_count": 109,
   "metadata": {
    "ExecuteTime": {
     "end_time": "2020-06-11T00:30:43.378754Z",
     "start_time": "2020-06-11T00:30:43.356742Z"
    },
    "hidden": true
   },
   "outputs": [],
   "source": [
    "df_train_d = pd.get_dummies(df_train, drop_first=True)\n",
    "df_test_d = pd.get_dummies(df_test, drop_first=True)"
   ]
  },
  {
   "cell_type": "markdown",
   "metadata": {
    "ExecuteTime": {
     "end_time": "2020-06-11T00:30:43.689068Z",
     "start_time": "2020-06-11T00:30:43.685085Z"
    },
    "hidden": true
   },
   "source": [
    "Em seguida usarei KNN para imputar idade dos passageiros baseados em outros passageiros similares"
   ]
  },
  {
   "cell_type": "code",
   "execution_count": 111,
   "metadata": {
    "ExecuteTime": {
     "end_time": "2020-06-11T00:30:44.281384Z",
     "start_time": "2020-06-11T00:30:44.277367Z"
    },
    "hidden": true
   },
   "outputs": [],
   "source": [
    "imputer = KNNImputer(weights='distance')"
   ]
  },
  {
   "cell_type": "code",
   "execution_count": 112,
   "metadata": {
    "ExecuteTime": {
     "end_time": "2020-06-11T00:30:48.029296Z",
     "start_time": "2020-06-11T00:30:48.007302Z"
    },
    "hidden": true
   },
   "outputs": [],
   "source": [
    "age_imputer = imputer.fit_transform(df_train_d)[:,2].astype(int)"
   ]
  },
  {
   "cell_type": "code",
   "execution_count": 113,
   "metadata": {
    "ExecuteTime": {
     "end_time": "2020-06-11T00:30:54.717357Z",
     "start_time": "2020-06-11T00:30:54.712359Z"
    },
    "hidden": true
   },
   "outputs": [],
   "source": [
    "df_train_d['age'] = age_imputer"
   ]
  },
  {
   "cell_type": "markdown",
   "metadata": {},
   "source": [
    "## Model"
   ]
  },
  {
   "cell_type": "markdown",
   "metadata": {},
   "source": [
    "Fazendo setup dos dados para modelagem"
   ]
  },
  {
   "cell_type": "code",
   "execution_count": 118,
   "metadata": {
    "ExecuteTime": {
     "end_time": "2020-06-11T00:32:12.066291Z",
     "start_time": "2020-06-11T00:32:10.815819Z"
    },
    "scrolled": true
   },
   "outputs": [
    {
     "name": "stdout",
     "output_type": "stream",
     "text": [
      " \n",
      "Setup Succesfully Completed!\n"
     ]
    },
    {
     "data": {
      "text/html": [
       "<style  type=\"text/css\" >\n",
       "</style><table id=\"T_fdcb56a4_ab7a_11ea_a68b_f816541a4478\" ><thead>    <tr>        <th class=\"blank level0\" ></th>        <th class=\"col_heading level0 col0\" >Description</th>        <th class=\"col_heading level0 col1\" >Value</th>    </tr></thead><tbody>\n",
       "                <tr>\n",
       "                        <th id=\"T_fdcb56a4_ab7a_11ea_a68b_f816541a4478level0_row0\" class=\"row_heading level0 row0\" >0</th>\n",
       "                        <td id=\"T_fdcb56a4_ab7a_11ea_a68b_f816541a4478row0_col0\" class=\"data row0 col0\" >session_id</td>\n",
       "                        <td id=\"T_fdcb56a4_ab7a_11ea_a68b_f816541a4478row0_col1\" class=\"data row0 col1\" >8748</td>\n",
       "            </tr>\n",
       "            <tr>\n",
       "                        <th id=\"T_fdcb56a4_ab7a_11ea_a68b_f816541a4478level0_row1\" class=\"row_heading level0 row1\" >1</th>\n",
       "                        <td id=\"T_fdcb56a4_ab7a_11ea_a68b_f816541a4478row1_col0\" class=\"data row1 col0\" >Target Type</td>\n",
       "                        <td id=\"T_fdcb56a4_ab7a_11ea_a68b_f816541a4478row1_col1\" class=\"data row1 col1\" >Binary</td>\n",
       "            </tr>\n",
       "            <tr>\n",
       "                        <th id=\"T_fdcb56a4_ab7a_11ea_a68b_f816541a4478level0_row2\" class=\"row_heading level0 row2\" >2</th>\n",
       "                        <td id=\"T_fdcb56a4_ab7a_11ea_a68b_f816541a4478row2_col0\" class=\"data row2 col0\" >Label Encoded</td>\n",
       "                        <td id=\"T_fdcb56a4_ab7a_11ea_a68b_f816541a4478row2_col1\" class=\"data row2 col1\" >None</td>\n",
       "            </tr>\n",
       "            <tr>\n",
       "                        <th id=\"T_fdcb56a4_ab7a_11ea_a68b_f816541a4478level0_row3\" class=\"row_heading level0 row3\" >3</th>\n",
       "                        <td id=\"T_fdcb56a4_ab7a_11ea_a68b_f816541a4478row3_col0\" class=\"data row3 col0\" >Original Data</td>\n",
       "                        <td id=\"T_fdcb56a4_ab7a_11ea_a68b_f816541a4478row3_col1\" class=\"data row3 col1\" >(891, 12)</td>\n",
       "            </tr>\n",
       "            <tr>\n",
       "                        <th id=\"T_fdcb56a4_ab7a_11ea_a68b_f816541a4478level0_row4\" class=\"row_heading level0 row4\" >4</th>\n",
       "                        <td id=\"T_fdcb56a4_ab7a_11ea_a68b_f816541a4478row4_col0\" class=\"data row4 col0\" >Missing Values </td>\n",
       "                        <td id=\"T_fdcb56a4_ab7a_11ea_a68b_f816541a4478row4_col1\" class=\"data row4 col1\" >False</td>\n",
       "            </tr>\n",
       "            <tr>\n",
       "                        <th id=\"T_fdcb56a4_ab7a_11ea_a68b_f816541a4478level0_row5\" class=\"row_heading level0 row5\" >5</th>\n",
       "                        <td id=\"T_fdcb56a4_ab7a_11ea_a68b_f816541a4478row5_col0\" class=\"data row5 col0\" >Numeric Features </td>\n",
       "                        <td id=\"T_fdcb56a4_ab7a_11ea_a68b_f816541a4478row5_col1\" class=\"data row5 col1\" >11</td>\n",
       "            </tr>\n",
       "            <tr>\n",
       "                        <th id=\"T_fdcb56a4_ab7a_11ea_a68b_f816541a4478level0_row6\" class=\"row_heading level0 row6\" >6</th>\n",
       "                        <td id=\"T_fdcb56a4_ab7a_11ea_a68b_f816541a4478row6_col0\" class=\"data row6 col0\" >Categorical Features </td>\n",
       "                        <td id=\"T_fdcb56a4_ab7a_11ea_a68b_f816541a4478row6_col1\" class=\"data row6 col1\" >0</td>\n",
       "            </tr>\n",
       "            <tr>\n",
       "                        <th id=\"T_fdcb56a4_ab7a_11ea_a68b_f816541a4478level0_row7\" class=\"row_heading level0 row7\" >7</th>\n",
       "                        <td id=\"T_fdcb56a4_ab7a_11ea_a68b_f816541a4478row7_col0\" class=\"data row7 col0\" >Ordinal Features </td>\n",
       "                        <td id=\"T_fdcb56a4_ab7a_11ea_a68b_f816541a4478row7_col1\" class=\"data row7 col1\" >False</td>\n",
       "            </tr>\n",
       "            <tr>\n",
       "                        <th id=\"T_fdcb56a4_ab7a_11ea_a68b_f816541a4478level0_row8\" class=\"row_heading level0 row8\" >8</th>\n",
       "                        <td id=\"T_fdcb56a4_ab7a_11ea_a68b_f816541a4478row8_col0\" class=\"data row8 col0\" >High Cardinality Features </td>\n",
       "                        <td id=\"T_fdcb56a4_ab7a_11ea_a68b_f816541a4478row8_col1\" class=\"data row8 col1\" >False</td>\n",
       "            </tr>\n",
       "            <tr>\n",
       "                        <th id=\"T_fdcb56a4_ab7a_11ea_a68b_f816541a4478level0_row9\" class=\"row_heading level0 row9\" >9</th>\n",
       "                        <td id=\"T_fdcb56a4_ab7a_11ea_a68b_f816541a4478row9_col0\" class=\"data row9 col0\" >High Cardinality Method </td>\n",
       "                        <td id=\"T_fdcb56a4_ab7a_11ea_a68b_f816541a4478row9_col1\" class=\"data row9 col1\" >None</td>\n",
       "            </tr>\n",
       "            <tr>\n",
       "                        <th id=\"T_fdcb56a4_ab7a_11ea_a68b_f816541a4478level0_row10\" class=\"row_heading level0 row10\" >10</th>\n",
       "                        <td id=\"T_fdcb56a4_ab7a_11ea_a68b_f816541a4478row10_col0\" class=\"data row10 col0\" >Sampled Data</td>\n",
       "                        <td id=\"T_fdcb56a4_ab7a_11ea_a68b_f816541a4478row10_col1\" class=\"data row10 col1\" >(891, 12)</td>\n",
       "            </tr>\n",
       "            <tr>\n",
       "                        <th id=\"T_fdcb56a4_ab7a_11ea_a68b_f816541a4478level0_row11\" class=\"row_heading level0 row11\" >11</th>\n",
       "                        <td id=\"T_fdcb56a4_ab7a_11ea_a68b_f816541a4478row11_col0\" class=\"data row11 col0\" >Transformed Train Set</td>\n",
       "                        <td id=\"T_fdcb56a4_ab7a_11ea_a68b_f816541a4478row11_col1\" class=\"data row11 col1\" >(623, 11)</td>\n",
       "            </tr>\n",
       "            <tr>\n",
       "                        <th id=\"T_fdcb56a4_ab7a_11ea_a68b_f816541a4478level0_row12\" class=\"row_heading level0 row12\" >12</th>\n",
       "                        <td id=\"T_fdcb56a4_ab7a_11ea_a68b_f816541a4478row12_col0\" class=\"data row12 col0\" >Transformed Test Set</td>\n",
       "                        <td id=\"T_fdcb56a4_ab7a_11ea_a68b_f816541a4478row12_col1\" class=\"data row12 col1\" >(268, 11)</td>\n",
       "            </tr>\n",
       "            <tr>\n",
       "                        <th id=\"T_fdcb56a4_ab7a_11ea_a68b_f816541a4478level0_row13\" class=\"row_heading level0 row13\" >13</th>\n",
       "                        <td id=\"T_fdcb56a4_ab7a_11ea_a68b_f816541a4478row13_col0\" class=\"data row13 col0\" >Numeric Imputer </td>\n",
       "                        <td id=\"T_fdcb56a4_ab7a_11ea_a68b_f816541a4478row13_col1\" class=\"data row13 col1\" >mean</td>\n",
       "            </tr>\n",
       "            <tr>\n",
       "                        <th id=\"T_fdcb56a4_ab7a_11ea_a68b_f816541a4478level0_row14\" class=\"row_heading level0 row14\" >14</th>\n",
       "                        <td id=\"T_fdcb56a4_ab7a_11ea_a68b_f816541a4478row14_col0\" class=\"data row14 col0\" >Categorical Imputer </td>\n",
       "                        <td id=\"T_fdcb56a4_ab7a_11ea_a68b_f816541a4478row14_col1\" class=\"data row14 col1\" >constant</td>\n",
       "            </tr>\n",
       "            <tr>\n",
       "                        <th id=\"T_fdcb56a4_ab7a_11ea_a68b_f816541a4478level0_row15\" class=\"row_heading level0 row15\" >15</th>\n",
       "                        <td id=\"T_fdcb56a4_ab7a_11ea_a68b_f816541a4478row15_col0\" class=\"data row15 col0\" >Normalize </td>\n",
       "                        <td id=\"T_fdcb56a4_ab7a_11ea_a68b_f816541a4478row15_col1\" class=\"data row15 col1\" >False</td>\n",
       "            </tr>\n",
       "            <tr>\n",
       "                        <th id=\"T_fdcb56a4_ab7a_11ea_a68b_f816541a4478level0_row16\" class=\"row_heading level0 row16\" >16</th>\n",
       "                        <td id=\"T_fdcb56a4_ab7a_11ea_a68b_f816541a4478row16_col0\" class=\"data row16 col0\" >Normalize Method </td>\n",
       "                        <td id=\"T_fdcb56a4_ab7a_11ea_a68b_f816541a4478row16_col1\" class=\"data row16 col1\" >None</td>\n",
       "            </tr>\n",
       "            <tr>\n",
       "                        <th id=\"T_fdcb56a4_ab7a_11ea_a68b_f816541a4478level0_row17\" class=\"row_heading level0 row17\" >17</th>\n",
       "                        <td id=\"T_fdcb56a4_ab7a_11ea_a68b_f816541a4478row17_col0\" class=\"data row17 col0\" >Transformation </td>\n",
       "                        <td id=\"T_fdcb56a4_ab7a_11ea_a68b_f816541a4478row17_col1\" class=\"data row17 col1\" >False</td>\n",
       "            </tr>\n",
       "            <tr>\n",
       "                        <th id=\"T_fdcb56a4_ab7a_11ea_a68b_f816541a4478level0_row18\" class=\"row_heading level0 row18\" >18</th>\n",
       "                        <td id=\"T_fdcb56a4_ab7a_11ea_a68b_f816541a4478row18_col0\" class=\"data row18 col0\" >Transformation Method </td>\n",
       "                        <td id=\"T_fdcb56a4_ab7a_11ea_a68b_f816541a4478row18_col1\" class=\"data row18 col1\" >None</td>\n",
       "            </tr>\n",
       "            <tr>\n",
       "                        <th id=\"T_fdcb56a4_ab7a_11ea_a68b_f816541a4478level0_row19\" class=\"row_heading level0 row19\" >19</th>\n",
       "                        <td id=\"T_fdcb56a4_ab7a_11ea_a68b_f816541a4478row19_col0\" class=\"data row19 col0\" >PCA </td>\n",
       "                        <td id=\"T_fdcb56a4_ab7a_11ea_a68b_f816541a4478row19_col1\" class=\"data row19 col1\" >False</td>\n",
       "            </tr>\n",
       "            <tr>\n",
       "                        <th id=\"T_fdcb56a4_ab7a_11ea_a68b_f816541a4478level0_row20\" class=\"row_heading level0 row20\" >20</th>\n",
       "                        <td id=\"T_fdcb56a4_ab7a_11ea_a68b_f816541a4478row20_col0\" class=\"data row20 col0\" >PCA Method </td>\n",
       "                        <td id=\"T_fdcb56a4_ab7a_11ea_a68b_f816541a4478row20_col1\" class=\"data row20 col1\" >None</td>\n",
       "            </tr>\n",
       "            <tr>\n",
       "                        <th id=\"T_fdcb56a4_ab7a_11ea_a68b_f816541a4478level0_row21\" class=\"row_heading level0 row21\" >21</th>\n",
       "                        <td id=\"T_fdcb56a4_ab7a_11ea_a68b_f816541a4478row21_col0\" class=\"data row21 col0\" >PCA Components </td>\n",
       "                        <td id=\"T_fdcb56a4_ab7a_11ea_a68b_f816541a4478row21_col1\" class=\"data row21 col1\" >None</td>\n",
       "            </tr>\n",
       "            <tr>\n",
       "                        <th id=\"T_fdcb56a4_ab7a_11ea_a68b_f816541a4478level0_row22\" class=\"row_heading level0 row22\" >22</th>\n",
       "                        <td id=\"T_fdcb56a4_ab7a_11ea_a68b_f816541a4478row22_col0\" class=\"data row22 col0\" >Ignore Low Variance </td>\n",
       "                        <td id=\"T_fdcb56a4_ab7a_11ea_a68b_f816541a4478row22_col1\" class=\"data row22 col1\" >False</td>\n",
       "            </tr>\n",
       "            <tr>\n",
       "                        <th id=\"T_fdcb56a4_ab7a_11ea_a68b_f816541a4478level0_row23\" class=\"row_heading level0 row23\" >23</th>\n",
       "                        <td id=\"T_fdcb56a4_ab7a_11ea_a68b_f816541a4478row23_col0\" class=\"data row23 col0\" >Combine Rare Levels </td>\n",
       "                        <td id=\"T_fdcb56a4_ab7a_11ea_a68b_f816541a4478row23_col1\" class=\"data row23 col1\" >False</td>\n",
       "            </tr>\n",
       "            <tr>\n",
       "                        <th id=\"T_fdcb56a4_ab7a_11ea_a68b_f816541a4478level0_row24\" class=\"row_heading level0 row24\" >24</th>\n",
       "                        <td id=\"T_fdcb56a4_ab7a_11ea_a68b_f816541a4478row24_col0\" class=\"data row24 col0\" >Rare Level Threshold </td>\n",
       "                        <td id=\"T_fdcb56a4_ab7a_11ea_a68b_f816541a4478row24_col1\" class=\"data row24 col1\" >None</td>\n",
       "            </tr>\n",
       "            <tr>\n",
       "                        <th id=\"T_fdcb56a4_ab7a_11ea_a68b_f816541a4478level0_row25\" class=\"row_heading level0 row25\" >25</th>\n",
       "                        <td id=\"T_fdcb56a4_ab7a_11ea_a68b_f816541a4478row25_col0\" class=\"data row25 col0\" >Numeric Binning </td>\n",
       "                        <td id=\"T_fdcb56a4_ab7a_11ea_a68b_f816541a4478row25_col1\" class=\"data row25 col1\" >False</td>\n",
       "            </tr>\n",
       "            <tr>\n",
       "                        <th id=\"T_fdcb56a4_ab7a_11ea_a68b_f816541a4478level0_row26\" class=\"row_heading level0 row26\" >26</th>\n",
       "                        <td id=\"T_fdcb56a4_ab7a_11ea_a68b_f816541a4478row26_col0\" class=\"data row26 col0\" >Remove Outliers </td>\n",
       "                        <td id=\"T_fdcb56a4_ab7a_11ea_a68b_f816541a4478row26_col1\" class=\"data row26 col1\" >False</td>\n",
       "            </tr>\n",
       "            <tr>\n",
       "                        <th id=\"T_fdcb56a4_ab7a_11ea_a68b_f816541a4478level0_row27\" class=\"row_heading level0 row27\" >27</th>\n",
       "                        <td id=\"T_fdcb56a4_ab7a_11ea_a68b_f816541a4478row27_col0\" class=\"data row27 col0\" >Outliers Threshold </td>\n",
       "                        <td id=\"T_fdcb56a4_ab7a_11ea_a68b_f816541a4478row27_col1\" class=\"data row27 col1\" >None</td>\n",
       "            </tr>\n",
       "            <tr>\n",
       "                        <th id=\"T_fdcb56a4_ab7a_11ea_a68b_f816541a4478level0_row28\" class=\"row_heading level0 row28\" >28</th>\n",
       "                        <td id=\"T_fdcb56a4_ab7a_11ea_a68b_f816541a4478row28_col0\" class=\"data row28 col0\" >Remove Multicollinearity </td>\n",
       "                        <td id=\"T_fdcb56a4_ab7a_11ea_a68b_f816541a4478row28_col1\" class=\"data row28 col1\" >False</td>\n",
       "            </tr>\n",
       "            <tr>\n",
       "                        <th id=\"T_fdcb56a4_ab7a_11ea_a68b_f816541a4478level0_row29\" class=\"row_heading level0 row29\" >29</th>\n",
       "                        <td id=\"T_fdcb56a4_ab7a_11ea_a68b_f816541a4478row29_col0\" class=\"data row29 col0\" >Multicollinearity Threshold </td>\n",
       "                        <td id=\"T_fdcb56a4_ab7a_11ea_a68b_f816541a4478row29_col1\" class=\"data row29 col1\" >None</td>\n",
       "            </tr>\n",
       "            <tr>\n",
       "                        <th id=\"T_fdcb56a4_ab7a_11ea_a68b_f816541a4478level0_row30\" class=\"row_heading level0 row30\" >30</th>\n",
       "                        <td id=\"T_fdcb56a4_ab7a_11ea_a68b_f816541a4478row30_col0\" class=\"data row30 col0\" >Clustering </td>\n",
       "                        <td id=\"T_fdcb56a4_ab7a_11ea_a68b_f816541a4478row30_col1\" class=\"data row30 col1\" >False</td>\n",
       "            </tr>\n",
       "            <tr>\n",
       "                        <th id=\"T_fdcb56a4_ab7a_11ea_a68b_f816541a4478level0_row31\" class=\"row_heading level0 row31\" >31</th>\n",
       "                        <td id=\"T_fdcb56a4_ab7a_11ea_a68b_f816541a4478row31_col0\" class=\"data row31 col0\" >Clustering Iteration </td>\n",
       "                        <td id=\"T_fdcb56a4_ab7a_11ea_a68b_f816541a4478row31_col1\" class=\"data row31 col1\" >None</td>\n",
       "            </tr>\n",
       "            <tr>\n",
       "                        <th id=\"T_fdcb56a4_ab7a_11ea_a68b_f816541a4478level0_row32\" class=\"row_heading level0 row32\" >32</th>\n",
       "                        <td id=\"T_fdcb56a4_ab7a_11ea_a68b_f816541a4478row32_col0\" class=\"data row32 col0\" >Polynomial Features </td>\n",
       "                        <td id=\"T_fdcb56a4_ab7a_11ea_a68b_f816541a4478row32_col1\" class=\"data row32 col1\" >False</td>\n",
       "            </tr>\n",
       "            <tr>\n",
       "                        <th id=\"T_fdcb56a4_ab7a_11ea_a68b_f816541a4478level0_row33\" class=\"row_heading level0 row33\" >33</th>\n",
       "                        <td id=\"T_fdcb56a4_ab7a_11ea_a68b_f816541a4478row33_col0\" class=\"data row33 col0\" >Polynomial Degree </td>\n",
       "                        <td id=\"T_fdcb56a4_ab7a_11ea_a68b_f816541a4478row33_col1\" class=\"data row33 col1\" >None</td>\n",
       "            </tr>\n",
       "            <tr>\n",
       "                        <th id=\"T_fdcb56a4_ab7a_11ea_a68b_f816541a4478level0_row34\" class=\"row_heading level0 row34\" >34</th>\n",
       "                        <td id=\"T_fdcb56a4_ab7a_11ea_a68b_f816541a4478row34_col0\" class=\"data row34 col0\" >Trignometry Features </td>\n",
       "                        <td id=\"T_fdcb56a4_ab7a_11ea_a68b_f816541a4478row34_col1\" class=\"data row34 col1\" >False</td>\n",
       "            </tr>\n",
       "            <tr>\n",
       "                        <th id=\"T_fdcb56a4_ab7a_11ea_a68b_f816541a4478level0_row35\" class=\"row_heading level0 row35\" >35</th>\n",
       "                        <td id=\"T_fdcb56a4_ab7a_11ea_a68b_f816541a4478row35_col0\" class=\"data row35 col0\" >Polynomial Threshold </td>\n",
       "                        <td id=\"T_fdcb56a4_ab7a_11ea_a68b_f816541a4478row35_col1\" class=\"data row35 col1\" >None</td>\n",
       "            </tr>\n",
       "            <tr>\n",
       "                        <th id=\"T_fdcb56a4_ab7a_11ea_a68b_f816541a4478level0_row36\" class=\"row_heading level0 row36\" >36</th>\n",
       "                        <td id=\"T_fdcb56a4_ab7a_11ea_a68b_f816541a4478row36_col0\" class=\"data row36 col0\" >Group Features </td>\n",
       "                        <td id=\"T_fdcb56a4_ab7a_11ea_a68b_f816541a4478row36_col1\" class=\"data row36 col1\" >False</td>\n",
       "            </tr>\n",
       "            <tr>\n",
       "                        <th id=\"T_fdcb56a4_ab7a_11ea_a68b_f816541a4478level0_row37\" class=\"row_heading level0 row37\" >37</th>\n",
       "                        <td id=\"T_fdcb56a4_ab7a_11ea_a68b_f816541a4478row37_col0\" class=\"data row37 col0\" >Feature Selection </td>\n",
       "                        <td id=\"T_fdcb56a4_ab7a_11ea_a68b_f816541a4478row37_col1\" class=\"data row37 col1\" >False</td>\n",
       "            </tr>\n",
       "            <tr>\n",
       "                        <th id=\"T_fdcb56a4_ab7a_11ea_a68b_f816541a4478level0_row38\" class=\"row_heading level0 row38\" >38</th>\n",
       "                        <td id=\"T_fdcb56a4_ab7a_11ea_a68b_f816541a4478row38_col0\" class=\"data row38 col0\" >Features Selection Threshold </td>\n",
       "                        <td id=\"T_fdcb56a4_ab7a_11ea_a68b_f816541a4478row38_col1\" class=\"data row38 col1\" >None</td>\n",
       "            </tr>\n",
       "            <tr>\n",
       "                        <th id=\"T_fdcb56a4_ab7a_11ea_a68b_f816541a4478level0_row39\" class=\"row_heading level0 row39\" >39</th>\n",
       "                        <td id=\"T_fdcb56a4_ab7a_11ea_a68b_f816541a4478row39_col0\" class=\"data row39 col0\" >Feature Interaction </td>\n",
       "                        <td id=\"T_fdcb56a4_ab7a_11ea_a68b_f816541a4478row39_col1\" class=\"data row39 col1\" >False</td>\n",
       "            </tr>\n",
       "            <tr>\n",
       "                        <th id=\"T_fdcb56a4_ab7a_11ea_a68b_f816541a4478level0_row40\" class=\"row_heading level0 row40\" >40</th>\n",
       "                        <td id=\"T_fdcb56a4_ab7a_11ea_a68b_f816541a4478row40_col0\" class=\"data row40 col0\" >Feature Ratio </td>\n",
       "                        <td id=\"T_fdcb56a4_ab7a_11ea_a68b_f816541a4478row40_col1\" class=\"data row40 col1\" >False</td>\n",
       "            </tr>\n",
       "            <tr>\n",
       "                        <th id=\"T_fdcb56a4_ab7a_11ea_a68b_f816541a4478level0_row41\" class=\"row_heading level0 row41\" >41</th>\n",
       "                        <td id=\"T_fdcb56a4_ab7a_11ea_a68b_f816541a4478row41_col0\" class=\"data row41 col0\" >Interaction Threshold </td>\n",
       "                        <td id=\"T_fdcb56a4_ab7a_11ea_a68b_f816541a4478row41_col1\" class=\"data row41 col1\" >None</td>\n",
       "            </tr>\n",
       "    </tbody></table>"
      ],
      "text/plain": [
       "<pandas.io.formats.style.Styler at 0x1dd1191a400>"
      ]
     },
     "metadata": {},
     "output_type": "display_data"
    }
   ],
   "source": [
    "clf_setup = classification.setup(df_train_d, 'survived',\n",
    "                                 numeric_features=['pclass', 'age', 'sibsp', 'parch',\n",
    "                                                   'fare', 'sex_male','embarked_Q', 'embarked_S',\n",
    "                                                   'title_top_Mr', 'title_top_Mrs','title_top_other'])"
   ]
  },
  {
   "cell_type": "markdown",
   "metadata": {},
   "source": [
    "Ao aplicar diferentes classificadores, notamos que o `catboost` obteve a maior acurácia na validação cruzada de 10 pastas"
   ]
  },
  {
   "cell_type": "code",
   "execution_count": 119,
   "metadata": {
    "ExecuteTime": {
     "end_time": "2020-06-11T00:32:54.336912Z",
     "start_time": "2020-06-11T00:32:15.850272Z"
    }
   },
   "outputs": [
    {
     "data": {
      "text/html": [
       "<style  type=\"text/css\" >\n",
       "    #T_16fbf324_ab7b_11ea_8b55_f816541a4478 th {\n",
       "          text-align: left;\n",
       "    }    #T_16fbf324_ab7b_11ea_8b55_f816541a4478row0_col0 {\n",
       "            text-align:  left;\n",
       "        }    #T_16fbf324_ab7b_11ea_8b55_f816541a4478row0_col1 {\n",
       "            background-color:  yellow;\n",
       "            text-align:  left;\n",
       "        }    #T_16fbf324_ab7b_11ea_8b55_f816541a4478row0_col2 {\n",
       "            : ;\n",
       "            text-align:  left;\n",
       "        }    #T_16fbf324_ab7b_11ea_8b55_f816541a4478row0_col3 {\n",
       "            : ;\n",
       "            text-align:  left;\n",
       "        }    #T_16fbf324_ab7b_11ea_8b55_f816541a4478row0_col4 {\n",
       "            background-color:  yellow;\n",
       "            text-align:  left;\n",
       "        }    #T_16fbf324_ab7b_11ea_8b55_f816541a4478row0_col5 {\n",
       "            background-color:  yellow;\n",
       "            text-align:  left;\n",
       "        }    #T_16fbf324_ab7b_11ea_8b55_f816541a4478row0_col6 {\n",
       "            background-color:  yellow;\n",
       "            text-align:  left;\n",
       "        }    #T_16fbf324_ab7b_11ea_8b55_f816541a4478row1_col0 {\n",
       "            text-align:  left;\n",
       "        }    #T_16fbf324_ab7b_11ea_8b55_f816541a4478row1_col1 {\n",
       "            : ;\n",
       "            text-align:  left;\n",
       "        }    #T_16fbf324_ab7b_11ea_8b55_f816541a4478row1_col2 {\n",
       "            : ;\n",
       "            text-align:  left;\n",
       "        }    #T_16fbf324_ab7b_11ea_8b55_f816541a4478row1_col3 {\n",
       "            background-color:  yellow;\n",
       "            text-align:  left;\n",
       "        }    #T_16fbf324_ab7b_11ea_8b55_f816541a4478row1_col4 {\n",
       "            : ;\n",
       "            text-align:  left;\n",
       "        }    #T_16fbf324_ab7b_11ea_8b55_f816541a4478row1_col5 {\n",
       "            : ;\n",
       "            text-align:  left;\n",
       "        }    #T_16fbf324_ab7b_11ea_8b55_f816541a4478row1_col6 {\n",
       "            : ;\n",
       "            text-align:  left;\n",
       "        }    #T_16fbf324_ab7b_11ea_8b55_f816541a4478row2_col0 {\n",
       "            text-align:  left;\n",
       "        }    #T_16fbf324_ab7b_11ea_8b55_f816541a4478row2_col1 {\n",
       "            : ;\n",
       "            text-align:  left;\n",
       "        }    #T_16fbf324_ab7b_11ea_8b55_f816541a4478row2_col2 {\n",
       "            : ;\n",
       "            text-align:  left;\n",
       "        }    #T_16fbf324_ab7b_11ea_8b55_f816541a4478row2_col3 {\n",
       "            : ;\n",
       "            text-align:  left;\n",
       "        }    #T_16fbf324_ab7b_11ea_8b55_f816541a4478row2_col4 {\n",
       "            : ;\n",
       "            text-align:  left;\n",
       "        }    #T_16fbf324_ab7b_11ea_8b55_f816541a4478row2_col5 {\n",
       "            : ;\n",
       "            text-align:  left;\n",
       "        }    #T_16fbf324_ab7b_11ea_8b55_f816541a4478row2_col6 {\n",
       "            : ;\n",
       "            text-align:  left;\n",
       "        }    #T_16fbf324_ab7b_11ea_8b55_f816541a4478row3_col0 {\n",
       "            text-align:  left;\n",
       "        }    #T_16fbf324_ab7b_11ea_8b55_f816541a4478row3_col1 {\n",
       "            : ;\n",
       "            text-align:  left;\n",
       "        }    #T_16fbf324_ab7b_11ea_8b55_f816541a4478row3_col2 {\n",
       "            background-color:  yellow;\n",
       "            text-align:  left;\n",
       "        }    #T_16fbf324_ab7b_11ea_8b55_f816541a4478row3_col3 {\n",
       "            : ;\n",
       "            text-align:  left;\n",
       "        }    #T_16fbf324_ab7b_11ea_8b55_f816541a4478row3_col4 {\n",
       "            : ;\n",
       "            text-align:  left;\n",
       "        }    #T_16fbf324_ab7b_11ea_8b55_f816541a4478row3_col5 {\n",
       "            : ;\n",
       "            text-align:  left;\n",
       "        }    #T_16fbf324_ab7b_11ea_8b55_f816541a4478row3_col6 {\n",
       "            : ;\n",
       "            text-align:  left;\n",
       "        }    #T_16fbf324_ab7b_11ea_8b55_f816541a4478row4_col0 {\n",
       "            text-align:  left;\n",
       "        }    #T_16fbf324_ab7b_11ea_8b55_f816541a4478row4_col1 {\n",
       "            : ;\n",
       "            text-align:  left;\n",
       "        }    #T_16fbf324_ab7b_11ea_8b55_f816541a4478row4_col2 {\n",
       "            : ;\n",
       "            text-align:  left;\n",
       "        }    #T_16fbf324_ab7b_11ea_8b55_f816541a4478row4_col3 {\n",
       "            : ;\n",
       "            text-align:  left;\n",
       "        }    #T_16fbf324_ab7b_11ea_8b55_f816541a4478row4_col4 {\n",
       "            : ;\n",
       "            text-align:  left;\n",
       "        }    #T_16fbf324_ab7b_11ea_8b55_f816541a4478row4_col5 {\n",
       "            : ;\n",
       "            text-align:  left;\n",
       "        }    #T_16fbf324_ab7b_11ea_8b55_f816541a4478row4_col6 {\n",
       "            : ;\n",
       "            text-align:  left;\n",
       "        }    #T_16fbf324_ab7b_11ea_8b55_f816541a4478row5_col0 {\n",
       "            text-align:  left;\n",
       "        }    #T_16fbf324_ab7b_11ea_8b55_f816541a4478row5_col1 {\n",
       "            : ;\n",
       "            text-align:  left;\n",
       "        }    #T_16fbf324_ab7b_11ea_8b55_f816541a4478row5_col2 {\n",
       "            : ;\n",
       "            text-align:  left;\n",
       "        }    #T_16fbf324_ab7b_11ea_8b55_f816541a4478row5_col3 {\n",
       "            background-color:  yellow;\n",
       "            text-align:  left;\n",
       "        }    #T_16fbf324_ab7b_11ea_8b55_f816541a4478row5_col4 {\n",
       "            : ;\n",
       "            text-align:  left;\n",
       "        }    #T_16fbf324_ab7b_11ea_8b55_f816541a4478row5_col5 {\n",
       "            : ;\n",
       "            text-align:  left;\n",
       "        }    #T_16fbf324_ab7b_11ea_8b55_f816541a4478row5_col6 {\n",
       "            : ;\n",
       "            text-align:  left;\n",
       "        }    #T_16fbf324_ab7b_11ea_8b55_f816541a4478row6_col0 {\n",
       "            text-align:  left;\n",
       "        }    #T_16fbf324_ab7b_11ea_8b55_f816541a4478row6_col1 {\n",
       "            : ;\n",
       "            text-align:  left;\n",
       "        }    #T_16fbf324_ab7b_11ea_8b55_f816541a4478row6_col2 {\n",
       "            : ;\n",
       "            text-align:  left;\n",
       "        }    #T_16fbf324_ab7b_11ea_8b55_f816541a4478row6_col3 {\n",
       "            : ;\n",
       "            text-align:  left;\n",
       "        }    #T_16fbf324_ab7b_11ea_8b55_f816541a4478row6_col4 {\n",
       "            : ;\n",
       "            text-align:  left;\n",
       "        }    #T_16fbf324_ab7b_11ea_8b55_f816541a4478row6_col5 {\n",
       "            : ;\n",
       "            text-align:  left;\n",
       "        }    #T_16fbf324_ab7b_11ea_8b55_f816541a4478row6_col6 {\n",
       "            : ;\n",
       "            text-align:  left;\n",
       "        }    #T_16fbf324_ab7b_11ea_8b55_f816541a4478row7_col0 {\n",
       "            text-align:  left;\n",
       "        }    #T_16fbf324_ab7b_11ea_8b55_f816541a4478row7_col1 {\n",
       "            : ;\n",
       "            text-align:  left;\n",
       "        }    #T_16fbf324_ab7b_11ea_8b55_f816541a4478row7_col2 {\n",
       "            : ;\n",
       "            text-align:  left;\n",
       "        }    #T_16fbf324_ab7b_11ea_8b55_f816541a4478row7_col3 {\n",
       "            : ;\n",
       "            text-align:  left;\n",
       "        }    #T_16fbf324_ab7b_11ea_8b55_f816541a4478row7_col4 {\n",
       "            : ;\n",
       "            text-align:  left;\n",
       "        }    #T_16fbf324_ab7b_11ea_8b55_f816541a4478row7_col5 {\n",
       "            : ;\n",
       "            text-align:  left;\n",
       "        }    #T_16fbf324_ab7b_11ea_8b55_f816541a4478row7_col6 {\n",
       "            : ;\n",
       "            text-align:  left;\n",
       "        }    #T_16fbf324_ab7b_11ea_8b55_f816541a4478row8_col0 {\n",
       "            text-align:  left;\n",
       "        }    #T_16fbf324_ab7b_11ea_8b55_f816541a4478row8_col1 {\n",
       "            : ;\n",
       "            text-align:  left;\n",
       "        }    #T_16fbf324_ab7b_11ea_8b55_f816541a4478row8_col2 {\n",
       "            : ;\n",
       "            text-align:  left;\n",
       "        }    #T_16fbf324_ab7b_11ea_8b55_f816541a4478row8_col3 {\n",
       "            : ;\n",
       "            text-align:  left;\n",
       "        }    #T_16fbf324_ab7b_11ea_8b55_f816541a4478row8_col4 {\n",
       "            : ;\n",
       "            text-align:  left;\n",
       "        }    #T_16fbf324_ab7b_11ea_8b55_f816541a4478row8_col5 {\n",
       "            : ;\n",
       "            text-align:  left;\n",
       "        }    #T_16fbf324_ab7b_11ea_8b55_f816541a4478row8_col6 {\n",
       "            : ;\n",
       "            text-align:  left;\n",
       "        }    #T_16fbf324_ab7b_11ea_8b55_f816541a4478row9_col0 {\n",
       "            text-align:  left;\n",
       "        }    #T_16fbf324_ab7b_11ea_8b55_f816541a4478row9_col1 {\n",
       "            : ;\n",
       "            text-align:  left;\n",
       "        }    #T_16fbf324_ab7b_11ea_8b55_f816541a4478row9_col2 {\n",
       "            : ;\n",
       "            text-align:  left;\n",
       "        }    #T_16fbf324_ab7b_11ea_8b55_f816541a4478row9_col3 {\n",
       "            : ;\n",
       "            text-align:  left;\n",
       "        }    #T_16fbf324_ab7b_11ea_8b55_f816541a4478row9_col4 {\n",
       "            : ;\n",
       "            text-align:  left;\n",
       "        }    #T_16fbf324_ab7b_11ea_8b55_f816541a4478row9_col5 {\n",
       "            : ;\n",
       "            text-align:  left;\n",
       "        }    #T_16fbf324_ab7b_11ea_8b55_f816541a4478row9_col6 {\n",
       "            : ;\n",
       "            text-align:  left;\n",
       "        }    #T_16fbf324_ab7b_11ea_8b55_f816541a4478row10_col0 {\n",
       "            text-align:  left;\n",
       "        }    #T_16fbf324_ab7b_11ea_8b55_f816541a4478row10_col1 {\n",
       "            : ;\n",
       "            text-align:  left;\n",
       "        }    #T_16fbf324_ab7b_11ea_8b55_f816541a4478row10_col2 {\n",
       "            : ;\n",
       "            text-align:  left;\n",
       "        }    #T_16fbf324_ab7b_11ea_8b55_f816541a4478row10_col3 {\n",
       "            : ;\n",
       "            text-align:  left;\n",
       "        }    #T_16fbf324_ab7b_11ea_8b55_f816541a4478row10_col4 {\n",
       "            : ;\n",
       "            text-align:  left;\n",
       "        }    #T_16fbf324_ab7b_11ea_8b55_f816541a4478row10_col5 {\n",
       "            : ;\n",
       "            text-align:  left;\n",
       "        }    #T_16fbf324_ab7b_11ea_8b55_f816541a4478row10_col6 {\n",
       "            : ;\n",
       "            text-align:  left;\n",
       "        }    #T_16fbf324_ab7b_11ea_8b55_f816541a4478row11_col0 {\n",
       "            text-align:  left;\n",
       "        }    #T_16fbf324_ab7b_11ea_8b55_f816541a4478row11_col1 {\n",
       "            : ;\n",
       "            text-align:  left;\n",
       "        }    #T_16fbf324_ab7b_11ea_8b55_f816541a4478row11_col2 {\n",
       "            : ;\n",
       "            text-align:  left;\n",
       "        }    #T_16fbf324_ab7b_11ea_8b55_f816541a4478row11_col3 {\n",
       "            : ;\n",
       "            text-align:  left;\n",
       "        }    #T_16fbf324_ab7b_11ea_8b55_f816541a4478row11_col4 {\n",
       "            : ;\n",
       "            text-align:  left;\n",
       "        }    #T_16fbf324_ab7b_11ea_8b55_f816541a4478row11_col5 {\n",
       "            : ;\n",
       "            text-align:  left;\n",
       "        }    #T_16fbf324_ab7b_11ea_8b55_f816541a4478row11_col6 {\n",
       "            : ;\n",
       "            text-align:  left;\n",
       "        }    #T_16fbf324_ab7b_11ea_8b55_f816541a4478row12_col0 {\n",
       "            text-align:  left;\n",
       "        }    #T_16fbf324_ab7b_11ea_8b55_f816541a4478row12_col1 {\n",
       "            : ;\n",
       "            text-align:  left;\n",
       "        }    #T_16fbf324_ab7b_11ea_8b55_f816541a4478row12_col2 {\n",
       "            : ;\n",
       "            text-align:  left;\n",
       "        }    #T_16fbf324_ab7b_11ea_8b55_f816541a4478row12_col3 {\n",
       "            : ;\n",
       "            text-align:  left;\n",
       "        }    #T_16fbf324_ab7b_11ea_8b55_f816541a4478row12_col4 {\n",
       "            : ;\n",
       "            text-align:  left;\n",
       "        }    #T_16fbf324_ab7b_11ea_8b55_f816541a4478row12_col5 {\n",
       "            : ;\n",
       "            text-align:  left;\n",
       "        }    #T_16fbf324_ab7b_11ea_8b55_f816541a4478row12_col6 {\n",
       "            : ;\n",
       "            text-align:  left;\n",
       "        }    #T_16fbf324_ab7b_11ea_8b55_f816541a4478row13_col0 {\n",
       "            text-align:  left;\n",
       "        }    #T_16fbf324_ab7b_11ea_8b55_f816541a4478row13_col1 {\n",
       "            : ;\n",
       "            text-align:  left;\n",
       "        }    #T_16fbf324_ab7b_11ea_8b55_f816541a4478row13_col2 {\n",
       "            : ;\n",
       "            text-align:  left;\n",
       "        }    #T_16fbf324_ab7b_11ea_8b55_f816541a4478row13_col3 {\n",
       "            : ;\n",
       "            text-align:  left;\n",
       "        }    #T_16fbf324_ab7b_11ea_8b55_f816541a4478row13_col4 {\n",
       "            : ;\n",
       "            text-align:  left;\n",
       "        }    #T_16fbf324_ab7b_11ea_8b55_f816541a4478row13_col5 {\n",
       "            : ;\n",
       "            text-align:  left;\n",
       "        }    #T_16fbf324_ab7b_11ea_8b55_f816541a4478row13_col6 {\n",
       "            : ;\n",
       "            text-align:  left;\n",
       "        }    #T_16fbf324_ab7b_11ea_8b55_f816541a4478row14_col0 {\n",
       "            text-align:  left;\n",
       "        }    #T_16fbf324_ab7b_11ea_8b55_f816541a4478row14_col1 {\n",
       "            : ;\n",
       "            text-align:  left;\n",
       "        }    #T_16fbf324_ab7b_11ea_8b55_f816541a4478row14_col2 {\n",
       "            : ;\n",
       "            text-align:  left;\n",
       "        }    #T_16fbf324_ab7b_11ea_8b55_f816541a4478row14_col3 {\n",
       "            : ;\n",
       "            text-align:  left;\n",
       "        }    #T_16fbf324_ab7b_11ea_8b55_f816541a4478row14_col4 {\n",
       "            : ;\n",
       "            text-align:  left;\n",
       "        }    #T_16fbf324_ab7b_11ea_8b55_f816541a4478row14_col5 {\n",
       "            : ;\n",
       "            text-align:  left;\n",
       "        }    #T_16fbf324_ab7b_11ea_8b55_f816541a4478row14_col6 {\n",
       "            : ;\n",
       "            text-align:  left;\n",
       "        }</style><table id=\"T_16fbf324_ab7b_11ea_8b55_f816541a4478\" ><thead>    <tr>        <th class=\"blank level0\" ></th>        <th class=\"col_heading level0 col0\" >Model</th>        <th class=\"col_heading level0 col1\" >Accuracy</th>        <th class=\"col_heading level0 col2\" >AUC</th>        <th class=\"col_heading level0 col3\" >Recall</th>        <th class=\"col_heading level0 col4\" >Prec.</th>        <th class=\"col_heading level0 col5\" >F1</th>        <th class=\"col_heading level0 col6\" >Kappa</th>    </tr></thead><tbody>\n",
       "                <tr>\n",
       "                        <th id=\"T_16fbf324_ab7b_11ea_8b55_f816541a4478level0_row0\" class=\"row_heading level0 row0\" >0</th>\n",
       "                        <td id=\"T_16fbf324_ab7b_11ea_8b55_f816541a4478row0_col0\" class=\"data row0 col0\" >CatBoost Classifier</td>\n",
       "                        <td id=\"T_16fbf324_ab7b_11ea_8b55_f816541a4478row0_col1\" class=\"data row0 col1\" >0.837900</td>\n",
       "                        <td id=\"T_16fbf324_ab7b_11ea_8b55_f816541a4478row0_col2\" class=\"data row0 col2\" >0.884100</td>\n",
       "                        <td id=\"T_16fbf324_ab7b_11ea_8b55_f816541a4478row0_col3\" class=\"data row0 col3\" >0.740000</td>\n",
       "                        <td id=\"T_16fbf324_ab7b_11ea_8b55_f816541a4478row0_col4\" class=\"data row0 col4\" >0.825200</td>\n",
       "                        <td id=\"T_16fbf324_ab7b_11ea_8b55_f816541a4478row0_col5\" class=\"data row0 col5\" >0.777000</td>\n",
       "                        <td id=\"T_16fbf324_ab7b_11ea_8b55_f816541a4478row0_col6\" class=\"data row0 col6\" >0.650500</td>\n",
       "            </tr>\n",
       "            <tr>\n",
       "                        <th id=\"T_16fbf324_ab7b_11ea_8b55_f816541a4478level0_row1\" class=\"row_heading level0 row1\" >1</th>\n",
       "                        <td id=\"T_16fbf324_ab7b_11ea_8b55_f816541a4478row1_col0\" class=\"data row1 col0\" >Random Forest Classifier</td>\n",
       "                        <td id=\"T_16fbf324_ab7b_11ea_8b55_f816541a4478row1_col1\" class=\"data row1 col1\" >0.829800</td>\n",
       "                        <td id=\"T_16fbf324_ab7b_11ea_8b55_f816541a4478row1_col2\" class=\"data row1 col2\" >0.878400</td>\n",
       "                        <td id=\"T_16fbf324_ab7b_11ea_8b55_f816541a4478row1_col3\" class=\"data row1 col3\" >0.740200</td>\n",
       "                        <td id=\"T_16fbf324_ab7b_11ea_8b55_f816541a4478row1_col4\" class=\"data row1 col4\" >0.806800</td>\n",
       "                        <td id=\"T_16fbf324_ab7b_11ea_8b55_f816541a4478row1_col5\" class=\"data row1 col5\" >0.769500</td>\n",
       "                        <td id=\"T_16fbf324_ab7b_11ea_8b55_f816541a4478row1_col6\" class=\"data row1 col6\" >0.635100</td>\n",
       "            </tr>\n",
       "            <tr>\n",
       "                        <th id=\"T_16fbf324_ab7b_11ea_8b55_f816541a4478level0_row2\" class=\"row_heading level0 row2\" >2</th>\n",
       "                        <td id=\"T_16fbf324_ab7b_11ea_8b55_f816541a4478row2_col0\" class=\"data row2 col0\" >Gradient Boosting Classifier</td>\n",
       "                        <td id=\"T_16fbf324_ab7b_11ea_8b55_f816541a4478row2_col1\" class=\"data row2 col1\" >0.820300</td>\n",
       "                        <td id=\"T_16fbf324_ab7b_11ea_8b55_f816541a4478row2_col2\" class=\"data row2 col2\" >0.883300</td>\n",
       "                        <td id=\"T_16fbf324_ab7b_11ea_8b55_f816541a4478row2_col3\" class=\"data row2 col3\" >0.714900</td>\n",
       "                        <td id=\"T_16fbf324_ab7b_11ea_8b55_f816541a4478row2_col4\" class=\"data row2 col4\" >0.799000</td>\n",
       "                        <td id=\"T_16fbf324_ab7b_11ea_8b55_f816541a4478row2_col5\" class=\"data row2 col5\" >0.752000</td>\n",
       "                        <td id=\"T_16fbf324_ab7b_11ea_8b55_f816541a4478row2_col6\" class=\"data row2 col6\" >0.611900</td>\n",
       "            </tr>\n",
       "            <tr>\n",
       "                        <th id=\"T_16fbf324_ab7b_11ea_8b55_f816541a4478level0_row3\" class=\"row_heading level0 row3\" >3</th>\n",
       "                        <td id=\"T_16fbf324_ab7b_11ea_8b55_f816541a4478row3_col0\" class=\"data row3 col0\" >Extreme Gradient Boosting</td>\n",
       "                        <td id=\"T_16fbf324_ab7b_11ea_8b55_f816541a4478row3_col1\" class=\"data row3 col1\" >0.818700</td>\n",
       "                        <td id=\"T_16fbf324_ab7b_11ea_8b55_f816541a4478row3_col2\" class=\"data row3 col2\" >0.889100</td>\n",
       "                        <td id=\"T_16fbf324_ab7b_11ea_8b55_f816541a4478row3_col3\" class=\"data row3 col3\" >0.706700</td>\n",
       "                        <td id=\"T_16fbf324_ab7b_11ea_8b55_f816541a4478row3_col4\" class=\"data row3 col4\" >0.810400</td>\n",
       "                        <td id=\"T_16fbf324_ab7b_11ea_8b55_f816541a4478row3_col5\" class=\"data row3 col5\" >0.749900</td>\n",
       "                        <td id=\"T_16fbf324_ab7b_11ea_8b55_f816541a4478row3_col6\" class=\"data row3 col6\" >0.608900</td>\n",
       "            </tr>\n",
       "            <tr>\n",
       "                        <th id=\"T_16fbf324_ab7b_11ea_8b55_f816541a4478level0_row4\" class=\"row_heading level0 row4\" >4</th>\n",
       "                        <td id=\"T_16fbf324_ab7b_11ea_8b55_f816541a4478row4_col0\" class=\"data row4 col0\" >Light Gradient Boosting Machine</td>\n",
       "                        <td id=\"T_16fbf324_ab7b_11ea_8b55_f816541a4478row4_col1\" class=\"data row4 col1\" >0.818600</td>\n",
       "                        <td id=\"T_16fbf324_ab7b_11ea_8b55_f816541a4478row4_col2\" class=\"data row4 col2\" >0.880400</td>\n",
       "                        <td id=\"T_16fbf324_ab7b_11ea_8b55_f816541a4478row4_col3\" class=\"data row4 col3\" >0.723700</td>\n",
       "                        <td id=\"T_16fbf324_ab7b_11ea_8b55_f816541a4478row4_col4\" class=\"data row4 col4\" >0.791200</td>\n",
       "                        <td id=\"T_16fbf324_ab7b_11ea_8b55_f816541a4478row4_col5\" class=\"data row4 col5\" >0.753100</td>\n",
       "                        <td id=\"T_16fbf324_ab7b_11ea_8b55_f816541a4478row4_col6\" class=\"data row4 col6\" >0.610500</td>\n",
       "            </tr>\n",
       "            <tr>\n",
       "                        <th id=\"T_16fbf324_ab7b_11ea_8b55_f816541a4478level0_row5\" class=\"row_heading level0 row5\" >5</th>\n",
       "                        <td id=\"T_16fbf324_ab7b_11ea_8b55_f816541a4478row5_col0\" class=\"data row5 col0\" >Extra Trees Classifier</td>\n",
       "                        <td id=\"T_16fbf324_ab7b_11ea_8b55_f816541a4478row5_col1\" class=\"data row5 col1\" >0.813800</td>\n",
       "                        <td id=\"T_16fbf324_ab7b_11ea_8b55_f816541a4478row5_col2\" class=\"data row5 col2\" >0.868100</td>\n",
       "                        <td id=\"T_16fbf324_ab7b_11ea_8b55_f816541a4478row5_col3\" class=\"data row5 col3\" >0.740200</td>\n",
       "                        <td id=\"T_16fbf324_ab7b_11ea_8b55_f816541a4478row5_col4\" class=\"data row5 col4\" >0.772200</td>\n",
       "                        <td id=\"T_16fbf324_ab7b_11ea_8b55_f816541a4478row5_col5\" class=\"data row5 col5\" >0.752800</td>\n",
       "                        <td id=\"T_16fbf324_ab7b_11ea_8b55_f816541a4478row5_col6\" class=\"data row5 col6\" >0.603700</td>\n",
       "            </tr>\n",
       "            <tr>\n",
       "                        <th id=\"T_16fbf324_ab7b_11ea_8b55_f816541a4478level0_row6\" class=\"row_heading level0 row6\" >6</th>\n",
       "                        <td id=\"T_16fbf324_ab7b_11ea_8b55_f816541a4478row6_col0\" class=\"data row6 col0\" >Logistic Regression</td>\n",
       "                        <td id=\"T_16fbf324_ab7b_11ea_8b55_f816541a4478row6_col1\" class=\"data row6 col1\" >0.807500</td>\n",
       "                        <td id=\"T_16fbf324_ab7b_11ea_8b55_f816541a4478row6_col2\" class=\"data row6 col2\" >0.866000</td>\n",
       "                        <td id=\"T_16fbf324_ab7b_11ea_8b55_f816541a4478row6_col3\" class=\"data row6 col3\" >0.731500</td>\n",
       "                        <td id=\"T_16fbf324_ab7b_11ea_8b55_f816541a4478row6_col4\" class=\"data row6 col4\" >0.769900</td>\n",
       "                        <td id=\"T_16fbf324_ab7b_11ea_8b55_f816541a4478row6_col5\" class=\"data row6 col5\" >0.743900</td>\n",
       "                        <td id=\"T_16fbf324_ab7b_11ea_8b55_f816541a4478row6_col6\" class=\"data row6 col6\" >0.590400</td>\n",
       "            </tr>\n",
       "            <tr>\n",
       "                        <th id=\"T_16fbf324_ab7b_11ea_8b55_f816541a4478level0_row7\" class=\"row_heading level0 row7\" >7</th>\n",
       "                        <td id=\"T_16fbf324_ab7b_11ea_8b55_f816541a4478row7_col0\" class=\"data row7 col0\" >Decision Tree Classifier</td>\n",
       "                        <td id=\"T_16fbf324_ab7b_11ea_8b55_f816541a4478row7_col1\" class=\"data row7 col1\" >0.792800</td>\n",
       "                        <td id=\"T_16fbf324_ab7b_11ea_8b55_f816541a4478row7_col2\" class=\"data row7 col2\" >0.779300</td>\n",
       "                        <td id=\"T_16fbf324_ab7b_11ea_8b55_f816541a4478row7_col3\" class=\"data row7 col3\" >0.723400</td>\n",
       "                        <td id=\"T_16fbf324_ab7b_11ea_8b55_f816541a4478row7_col4\" class=\"data row7 col4\" >0.741600</td>\n",
       "                        <td id=\"T_16fbf324_ab7b_11ea_8b55_f816541a4478row7_col5\" class=\"data row7 col5\" >0.728300</td>\n",
       "                        <td id=\"T_16fbf324_ab7b_11ea_8b55_f816541a4478row7_col6\" class=\"data row7 col6\" >0.561200</td>\n",
       "            </tr>\n",
       "            <tr>\n",
       "                        <th id=\"T_16fbf324_ab7b_11ea_8b55_f816541a4478level0_row8\" class=\"row_heading level0 row8\" >8</th>\n",
       "                        <td id=\"T_16fbf324_ab7b_11ea_8b55_f816541a4478row8_col0\" class=\"data row8 col0\" >Ridge Classifier</td>\n",
       "                        <td id=\"T_16fbf324_ab7b_11ea_8b55_f816541a4478row8_col1\" class=\"data row8 col1\" >0.791400</td>\n",
       "                        <td id=\"T_16fbf324_ab7b_11ea_8b55_f816541a4478row8_col2\" class=\"data row8 col2\" >0.000000</td>\n",
       "                        <td id=\"T_16fbf324_ab7b_11ea_8b55_f816541a4478row8_col3\" class=\"data row8 col3\" >0.719200</td>\n",
       "                        <td id=\"T_16fbf324_ab7b_11ea_8b55_f816541a4478row8_col4\" class=\"data row8 col4\" >0.746200</td>\n",
       "                        <td id=\"T_16fbf324_ab7b_11ea_8b55_f816541a4478row8_col5\" class=\"data row8 col5\" >0.726600</td>\n",
       "                        <td id=\"T_16fbf324_ab7b_11ea_8b55_f816541a4478row8_col6\" class=\"data row8 col6\" >0.558800</td>\n",
       "            </tr>\n",
       "            <tr>\n",
       "                        <th id=\"T_16fbf324_ab7b_11ea_8b55_f816541a4478level0_row9\" class=\"row_heading level0 row9\" >9</th>\n",
       "                        <td id=\"T_16fbf324_ab7b_11ea_8b55_f816541a4478row9_col0\" class=\"data row9 col0\" >Linear Discriminant Analysis</td>\n",
       "                        <td id=\"T_16fbf324_ab7b_11ea_8b55_f816541a4478row9_col1\" class=\"data row9 col1\" >0.789800</td>\n",
       "                        <td id=\"T_16fbf324_ab7b_11ea_8b55_f816541a4478row9_col2\" class=\"data row9 col2\" >0.869400</td>\n",
       "                        <td id=\"T_16fbf324_ab7b_11ea_8b55_f816541a4478row9_col3\" class=\"data row9 col3\" >0.719200</td>\n",
       "                        <td id=\"T_16fbf324_ab7b_11ea_8b55_f816541a4478row9_col4\" class=\"data row9 col4\" >0.742200</td>\n",
       "                        <td id=\"T_16fbf324_ab7b_11ea_8b55_f816541a4478row9_col5\" class=\"data row9 col5\" >0.724900</td>\n",
       "                        <td id=\"T_16fbf324_ab7b_11ea_8b55_f816541a4478row9_col6\" class=\"data row9 col6\" >0.555600</td>\n",
       "            </tr>\n",
       "            <tr>\n",
       "                        <th id=\"T_16fbf324_ab7b_11ea_8b55_f816541a4478level0_row10\" class=\"row_heading level0 row10\" >10</th>\n",
       "                        <td id=\"T_16fbf324_ab7b_11ea_8b55_f816541a4478row10_col0\" class=\"data row10 col0\" >Ada Boost Classifier</td>\n",
       "                        <td id=\"T_16fbf324_ab7b_11ea_8b55_f816541a4478row10_col1\" class=\"data row10 col1\" >0.788300</td>\n",
       "                        <td id=\"T_16fbf324_ab7b_11ea_8b55_f816541a4478row10_col2\" class=\"data row10 col2\" >0.859900</td>\n",
       "                        <td id=\"T_16fbf324_ab7b_11ea_8b55_f816541a4478row10_col3\" class=\"data row10 col3\" >0.723600</td>\n",
       "                        <td id=\"T_16fbf324_ab7b_11ea_8b55_f816541a4478row10_col4\" class=\"data row10 col4\" >0.734400</td>\n",
       "                        <td id=\"T_16fbf324_ab7b_11ea_8b55_f816541a4478row10_col5\" class=\"data row10 col5\" >0.725000</td>\n",
       "                        <td id=\"T_16fbf324_ab7b_11ea_8b55_f816541a4478row10_col6\" class=\"data row10 col6\" >0.553400</td>\n",
       "            </tr>\n",
       "            <tr>\n",
       "                        <th id=\"T_16fbf324_ab7b_11ea_8b55_f816541a4478level0_row11\" class=\"row_heading level0 row11\" >11</th>\n",
       "                        <td id=\"T_16fbf324_ab7b_11ea_8b55_f816541a4478row11_col0\" class=\"data row11 col0\" >Naive Bayes</td>\n",
       "                        <td id=\"T_16fbf324_ab7b_11ea_8b55_f816541a4478row11_col1\" class=\"data row11 col1\" >0.783400</td>\n",
       "                        <td id=\"T_16fbf324_ab7b_11ea_8b55_f816541a4478row11_col2\" class=\"data row11 col2\" >0.837600</td>\n",
       "                        <td id=\"T_16fbf324_ab7b_11ea_8b55_f816541a4478row11_col3\" class=\"data row11 col3\" >0.735900</td>\n",
       "                        <td id=\"T_16fbf324_ab7b_11ea_8b55_f816541a4478row11_col4\" class=\"data row11 col4\" >0.722100</td>\n",
       "                        <td id=\"T_16fbf324_ab7b_11ea_8b55_f816541a4478row11_col5\" class=\"data row11 col5\" >0.724300</td>\n",
       "                        <td id=\"T_16fbf324_ab7b_11ea_8b55_f816541a4478row11_col6\" class=\"data row11 col6\" >0.546700</td>\n",
       "            </tr>\n",
       "            <tr>\n",
       "                        <th id=\"T_16fbf324_ab7b_11ea_8b55_f816541a4478level0_row12\" class=\"row_heading level0 row12\" >12</th>\n",
       "                        <td id=\"T_16fbf324_ab7b_11ea_8b55_f816541a4478row12_col0\" class=\"data row12 col0\" >SVM - Linear Kernel</td>\n",
       "                        <td id=\"T_16fbf324_ab7b_11ea_8b55_f816541a4478row12_col1\" class=\"data row12 col1\" >0.748200</td>\n",
       "                        <td id=\"T_16fbf324_ab7b_11ea_8b55_f816541a4478row12_col2\" class=\"data row12 col2\" >0.000000</td>\n",
       "                        <td id=\"T_16fbf324_ab7b_11ea_8b55_f816541a4478row12_col3\" class=\"data row12 col3\" >0.540200</td>\n",
       "                        <td id=\"T_16fbf324_ab7b_11ea_8b55_f816541a4478row12_col4\" class=\"data row12 col4\" >0.667000</td>\n",
       "                        <td id=\"T_16fbf324_ab7b_11ea_8b55_f816541a4478row12_col5\" class=\"data row12 col5\" >0.578300</td>\n",
       "                        <td id=\"T_16fbf324_ab7b_11ea_8b55_f816541a4478row12_col6\" class=\"data row12 col6\" >0.427500</td>\n",
       "            </tr>\n",
       "            <tr>\n",
       "                        <th id=\"T_16fbf324_ab7b_11ea_8b55_f816541a4478level0_row13\" class=\"row_heading level0 row13\" >13</th>\n",
       "                        <td id=\"T_16fbf324_ab7b_11ea_8b55_f816541a4478row13_col0\" class=\"data row13 col0\" >K Neighbors Classifier</td>\n",
       "                        <td id=\"T_16fbf324_ab7b_11ea_8b55_f816541a4478row13_col1\" class=\"data row13 col1\" >0.717500</td>\n",
       "                        <td id=\"T_16fbf324_ab7b_11ea_8b55_f816541a4478row13_col2\" class=\"data row13 col2\" >0.756700</td>\n",
       "                        <td id=\"T_16fbf324_ab7b_11ea_8b55_f816541a4478row13_col3\" class=\"data row13 col3\" >0.598400</td>\n",
       "                        <td id=\"T_16fbf324_ab7b_11ea_8b55_f816541a4478row13_col4\" class=\"data row13 col4\" >0.646300</td>\n",
       "                        <td id=\"T_16fbf324_ab7b_11ea_8b55_f816541a4478row13_col5\" class=\"data row13 col5\" >0.616600</td>\n",
       "                        <td id=\"T_16fbf324_ab7b_11ea_8b55_f816541a4478row13_col6\" class=\"data row13 col6\" >0.394700</td>\n",
       "            </tr>\n",
       "            <tr>\n",
       "                        <th id=\"T_16fbf324_ab7b_11ea_8b55_f816541a4478level0_row14\" class=\"row_heading level0 row14\" >14</th>\n",
       "                        <td id=\"T_16fbf324_ab7b_11ea_8b55_f816541a4478row14_col0\" class=\"data row14 col0\" >Quadratic Discriminant Analysis</td>\n",
       "                        <td id=\"T_16fbf324_ab7b_11ea_8b55_f816541a4478row14_col1\" class=\"data row14 col1\" >0.629200</td>\n",
       "                        <td id=\"T_16fbf324_ab7b_11ea_8b55_f816541a4478row14_col2\" class=\"data row14 col2\" >0.847100</td>\n",
       "                        <td id=\"T_16fbf324_ab7b_11ea_8b55_f816541a4478row14_col3\" class=\"data row14 col3\" >0.050200</td>\n",
       "                        <td id=\"T_16fbf324_ab7b_11ea_8b55_f816541a4478row14_col4\" class=\"data row14 col4\" >0.583300</td>\n",
       "                        <td id=\"T_16fbf324_ab7b_11ea_8b55_f816541a4478row14_col5\" class=\"data row14 col5\" >0.091800</td>\n",
       "                        <td id=\"T_16fbf324_ab7b_11ea_8b55_f816541a4478row14_col6\" class=\"data row14 col6\" >0.047900</td>\n",
       "            </tr>\n",
       "    </tbody></table>"
      ],
      "text/plain": [
       "<pandas.io.formats.style.Styler at 0x1dd111a7e80>"
      ]
     },
     "execution_count": 119,
     "metadata": {},
     "output_type": "execute_result"
    }
   ],
   "source": [
    "classification.compare_models()"
   ]
  },
  {
   "cell_type": "markdown",
   "metadata": {},
   "source": [
    "Dessa forma, utilizarei o `catboost` para tunar seus hiperparâmetros e obter o melhor classificador, metrificando pela acurácia"
   ]
  },
  {
   "cell_type": "code",
   "execution_count": 120,
   "metadata": {
    "ExecuteTime": {
     "end_time": "2020-06-11T00:35:00.495181Z",
     "start_time": "2020-06-11T00:34:03.310782Z"
    },
    "scrolled": false
   },
   "outputs": [
    {
     "data": {
      "text/html": [
       "<div>\n",
       "<style scoped>\n",
       "    .dataframe tbody tr th:only-of-type {\n",
       "        vertical-align: middle;\n",
       "    }\n",
       "\n",
       "    .dataframe tbody tr th {\n",
       "        vertical-align: top;\n",
       "    }\n",
       "\n",
       "    .dataframe thead th {\n",
       "        text-align: right;\n",
       "    }\n",
       "</style>\n",
       "<table border=\"1\" class=\"dataframe\">\n",
       "  <thead>\n",
       "    <tr style=\"text-align: right;\">\n",
       "      <th></th>\n",
       "      <th>Accuracy</th>\n",
       "      <th>AUC</th>\n",
       "      <th>Recall</th>\n",
       "      <th>Prec.</th>\n",
       "      <th>F1</th>\n",
       "      <th>Kappa</th>\n",
       "    </tr>\n",
       "  </thead>\n",
       "  <tbody>\n",
       "    <tr>\n",
       "      <th>0</th>\n",
       "      <td>0.8254</td>\n",
       "      <td>0.8579</td>\n",
       "      <td>0.7500</td>\n",
       "      <td>0.7826</td>\n",
       "      <td>0.7660</td>\n",
       "      <td>0.6268</td>\n",
       "    </tr>\n",
       "    <tr>\n",
       "      <th>1</th>\n",
       "      <td>0.8571</td>\n",
       "      <td>0.9156</td>\n",
       "      <td>0.8333</td>\n",
       "      <td>0.8000</td>\n",
       "      <td>0.8163</td>\n",
       "      <td>0.6995</td>\n",
       "    </tr>\n",
       "    <tr>\n",
       "      <th>2</th>\n",
       "      <td>0.7937</td>\n",
       "      <td>0.8440</td>\n",
       "      <td>0.7500</td>\n",
       "      <td>0.7200</td>\n",
       "      <td>0.7347</td>\n",
       "      <td>0.5660</td>\n",
       "    </tr>\n",
       "    <tr>\n",
       "      <th>3</th>\n",
       "      <td>0.8065</td>\n",
       "      <td>0.8261</td>\n",
       "      <td>0.5652</td>\n",
       "      <td>0.8667</td>\n",
       "      <td>0.6842</td>\n",
       "      <td>0.5534</td>\n",
       "    </tr>\n",
       "    <tr>\n",
       "      <th>4</th>\n",
       "      <td>0.8548</td>\n",
       "      <td>0.9024</td>\n",
       "      <td>0.7917</td>\n",
       "      <td>0.8261</td>\n",
       "      <td>0.8085</td>\n",
       "      <td>0.6917</td>\n",
       "    </tr>\n",
       "    <tr>\n",
       "      <th>5</th>\n",
       "      <td>0.8548</td>\n",
       "      <td>0.9134</td>\n",
       "      <td>0.7083</td>\n",
       "      <td>0.8947</td>\n",
       "      <td>0.7907</td>\n",
       "      <td>0.6819</td>\n",
       "    </tr>\n",
       "    <tr>\n",
       "      <th>6</th>\n",
       "      <td>0.8226</td>\n",
       "      <td>0.9013</td>\n",
       "      <td>0.8333</td>\n",
       "      <td>0.7407</td>\n",
       "      <td>0.7843</td>\n",
       "      <td>0.6345</td>\n",
       "    </tr>\n",
       "    <tr>\n",
       "      <th>7</th>\n",
       "      <td>0.8710</td>\n",
       "      <td>0.8991</td>\n",
       "      <td>0.7500</td>\n",
       "      <td>0.9000</td>\n",
       "      <td>0.8182</td>\n",
       "      <td>0.7195</td>\n",
       "    </tr>\n",
       "    <tr>\n",
       "      <th>8</th>\n",
       "      <td>0.8548</td>\n",
       "      <td>0.8871</td>\n",
       "      <td>0.7500</td>\n",
       "      <td>0.8571</td>\n",
       "      <td>0.8000</td>\n",
       "      <td>0.6869</td>\n",
       "    </tr>\n",
       "    <tr>\n",
       "      <th>9</th>\n",
       "      <td>0.7742</td>\n",
       "      <td>0.8629</td>\n",
       "      <td>0.6667</td>\n",
       "      <td>0.7273</td>\n",
       "      <td>0.6957</td>\n",
       "      <td>0.5167</td>\n",
       "    </tr>\n",
       "    <tr>\n",
       "      <th>Mean</th>\n",
       "      <td>0.8315</td>\n",
       "      <td>0.8810</td>\n",
       "      <td>0.7399</td>\n",
       "      <td>0.8115</td>\n",
       "      <td>0.7699</td>\n",
       "      <td>0.6377</td>\n",
       "    </tr>\n",
       "    <tr>\n",
       "      <th>SD</th>\n",
       "      <td>0.0305</td>\n",
       "      <td>0.0295</td>\n",
       "      <td>0.0758</td>\n",
       "      <td>0.0645</td>\n",
       "      <td>0.0465</td>\n",
       "      <td>0.0669</td>\n",
       "    </tr>\n",
       "  </tbody>\n",
       "</table>\n",
       "</div>"
      ],
      "text/plain": [
       "      Accuracy     AUC  Recall   Prec.      F1   Kappa\n",
       "0       0.8254  0.8579  0.7500  0.7826  0.7660  0.6268\n",
       "1       0.8571  0.9156  0.8333  0.8000  0.8163  0.6995\n",
       "2       0.7937  0.8440  0.7500  0.7200  0.7347  0.5660\n",
       "3       0.8065  0.8261  0.5652  0.8667  0.6842  0.5534\n",
       "4       0.8548  0.9024  0.7917  0.8261  0.8085  0.6917\n",
       "5       0.8548  0.9134  0.7083  0.8947  0.7907  0.6819\n",
       "6       0.8226  0.9013  0.8333  0.7407  0.7843  0.6345\n",
       "7       0.8710  0.8991  0.7500  0.9000  0.8182  0.7195\n",
       "8       0.8548  0.8871  0.7500  0.8571  0.8000  0.6869\n",
       "9       0.7742  0.8629  0.6667  0.7273  0.6957  0.5167\n",
       "Mean    0.8315  0.8810  0.7399  0.8115  0.7699  0.6377\n",
       "SD      0.0305  0.0295  0.0758  0.0645  0.0465  0.0669"
      ]
     },
     "metadata": {},
     "output_type": "display_data"
    }
   ],
   "source": [
    "clf_cboost = classification.tune_model('catboost')"
   ]
  },
  {
   "cell_type": "markdown",
   "metadata": {},
   "source": [
    "## Results"
   ]
  },
  {
   "cell_type": "markdown",
   "metadata": {},
   "source": [
    "Podemos visualizar a matriz de confusão do `catboost` na base de treino"
   ]
  },
  {
   "cell_type": "code",
   "execution_count": 140,
   "metadata": {
    "ExecuteTime": {
     "end_time": "2020-06-11T00:39:53.413247Z",
     "start_time": "2020-06-11T00:39:53.229243Z"
    }
   },
   "outputs": [
    {
     "data": {
      "image/png": "[encoded data removed]",
      "text/plain": [
       "<Figure size 432x288 with 2 Axes>"
      ]
     },
     "metadata": {
      "needs_background": "light"
     },
     "output_type": "display_data"
    }
   ],
   "source": [
    "plot_confusion_matrix(clf_cboost, df_train_d.drop('survived', axis=1), df_train_d['survived'],\n",
    "                      display_labels=['not_survived', 'survived'], cmap='Greens', values_format='.0g');"
   ]
  },
  {
   "cell_type": "markdown",
   "metadata": {},
   "source": [
    "Abaixo temos os shap values do `catboost`, indicando, de uma forma generalizada, quais variáveis estão sendo mais importantes para a predição"
   ]
  },
  {
   "cell_type": "code",
   "execution_count": 141,
   "metadata": {
    "ExecuteTime": {
     "end_time": "2020-06-11T00:41:05.455406Z",
     "start_time": "2020-06-11T00:41:04.367429Z"
    }
   },
   "outputs": [
    {
     "data": {
      "image/png": "[encoded data removed]",
      "text/plain": [
       "<Figure size 576x424.8 with 2 Axes>"
      ]
     },
     "metadata": {
      "needs_background": "light"
     },
     "output_type": "display_data"
    }
   ],
   "source": [
    "classification.interpret_model(clf_cboost, plot='summary')"
   ]
  },
  {
   "cell_type": "markdown",
   "metadata": {},
   "source": [
    "Podemos observar a correlação entre algumas variáveis para prever os sobreviventes"
   ]
  },
  {
   "cell_type": "code",
   "execution_count": 143,
   "metadata": {
    "ExecuteTime": {
     "end_time": "2020-06-11T00:41:08.948107Z",
     "start_time": "2020-06-11T00:41:07.554597Z"
    }
   },
   "outputs": [
    {
     "data": {
      "image/png": "[encoded data removed]",
      "text/plain": [
       "<Figure size 540x360 with 2 Axes>"
      ]
     },
     "metadata": {
      "needs_background": "light"
     },
     "output_type": "display_data"
    }
   ],
   "source": [
    "classification.interpret_model(clf_cboost, plot='correlation', feature='age')"
   ]
  },
  {
   "cell_type": "code",
   "execution_count": 144,
   "metadata": {
    "ExecuteTime": {
     "end_time": "2020-06-11T00:41:11.364889Z",
     "start_time": "2020-06-11T00:41:10.255475Z"
    }
   },
   "outputs": [
    {
     "data": {
      "image/png": "[encoded data removed]",
      "text/plain": [
       "<Figure size 540x360 with 2 Axes>"
      ]
     },
     "metadata": {
      "needs_background": "light"
     },
     "output_type": "display_data"
    }
   ],
   "source": [
    "classification.interpret_model(clf_cboost, plot='correlation', feature='fare')"
   ]
  },
  {
   "cell_type": "markdown",
   "metadata": {},
   "source": [
    "## Predicting"
   ]
  },
  {
   "cell_type": "markdown",
   "metadata": {},
   "source": [
    "Por fim, podemos utilizar o melhor classificador para criar uma probabilidade do passageiro sobreviver na base de teste"
   ]
  },
  {
   "cell_type": "code",
   "execution_count": 148,
   "metadata": {
    "ExecuteTime": {
     "end_time": "2020-06-11T00:42:35.957845Z",
     "start_time": "2020-06-11T00:42:35.947846Z"
    }
   },
   "outputs": [],
   "source": [
    "df_test_d['survived_proba'] = clf_cboost.predict_proba(df_test_d)[:,1]"
   ]
  },
  {
   "cell_type": "code",
   "execution_count": 149,
   "metadata": {
    "ExecuteTime": {
     "end_time": "2020-06-11T00:42:40.766366Z",
     "start_time": "2020-06-11T00:42:40.749362Z"
    }
   },
   "outputs": [
    {
     "data": {
      "text/html": [
       "<div>\n",
       "<style scoped>\n",
       "    .dataframe tbody tr th:only-of-type {\n",
       "        vertical-align: middle;\n",
       "    }\n",
       "\n",
       "    .dataframe tbody tr th {\n",
       "        vertical-align: top;\n",
       "    }\n",
       "\n",
       "    .dataframe thead th {\n",
       "        text-align: right;\n",
       "    }\n",
       "</style>\n",
       "<table border=\"1\" class=\"dataframe\">\n",
       "  <thead>\n",
       "    <tr style=\"text-align: right;\">\n",
       "      <th></th>\n",
       "      <th>pclass</th>\n",
       "      <th>age</th>\n",
       "      <th>sibsp</th>\n",
       "      <th>parch</th>\n",
       "      <th>fare</th>\n",
       "      <th>sex_male</th>\n",
       "      <th>embarked_Q</th>\n",
       "      <th>embarked_S</th>\n",
       "      <th>title_top_Mr</th>\n",
       "      <th>title_top_Mrs</th>\n",
       "      <th>title_top_other</th>\n",
       "      <th>survived_proba</th>\n",
       "    </tr>\n",
       "  </thead>\n",
       "  <tbody>\n",
       "    <tr>\n",
       "      <th>0</th>\n",
       "      <td>3</td>\n",
       "      <td>34.5</td>\n",
       "      <td>0</td>\n",
       "      <td>0</td>\n",
       "      <td>7.8292</td>\n",
       "      <td>1</td>\n",
       "      <td>1</td>\n",
       "      <td>0</td>\n",
       "      <td>1</td>\n",
       "      <td>0</td>\n",
       "      <td>0</td>\n",
       "      <td>0.034002</td>\n",
       "    </tr>\n",
       "    <tr>\n",
       "      <th>1</th>\n",
       "      <td>3</td>\n",
       "      <td>47.0</td>\n",
       "      <td>1</td>\n",
       "      <td>0</td>\n",
       "      <td>7.0000</td>\n",
       "      <td>0</td>\n",
       "      <td>0</td>\n",
       "      <td>1</td>\n",
       "      <td>0</td>\n",
       "      <td>1</td>\n",
       "      <td>0</td>\n",
       "      <td>0.022697</td>\n",
       "    </tr>\n",
       "    <tr>\n",
       "      <th>2</th>\n",
       "      <td>2</td>\n",
       "      <td>62.0</td>\n",
       "      <td>0</td>\n",
       "      <td>0</td>\n",
       "      <td>9.6875</td>\n",
       "      <td>1</td>\n",
       "      <td>1</td>\n",
       "      <td>0</td>\n",
       "      <td>1</td>\n",
       "      <td>0</td>\n",
       "      <td>0</td>\n",
       "      <td>0.012523</td>\n",
       "    </tr>\n",
       "    <tr>\n",
       "      <th>3</th>\n",
       "      <td>3</td>\n",
       "      <td>27.0</td>\n",
       "      <td>0</td>\n",
       "      <td>0</td>\n",
       "      <td>8.6625</td>\n",
       "      <td>1</td>\n",
       "      <td>0</td>\n",
       "      <td>1</td>\n",
       "      <td>1</td>\n",
       "      <td>0</td>\n",
       "      <td>0</td>\n",
       "      <td>0.134524</td>\n",
       "    </tr>\n",
       "    <tr>\n",
       "      <th>4</th>\n",
       "      <td>3</td>\n",
       "      <td>22.0</td>\n",
       "      <td>1</td>\n",
       "      <td>1</td>\n",
       "      <td>12.2875</td>\n",
       "      <td>0</td>\n",
       "      <td>0</td>\n",
       "      <td>1</td>\n",
       "      <td>0</td>\n",
       "      <td>1</td>\n",
       "      <td>0</td>\n",
       "      <td>0.319586</td>\n",
       "    </tr>\n",
       "  </tbody>\n",
       "</table>\n",
       "</div>"
      ],
      "text/plain": [
       "   pclass   age  sibsp  parch     fare  sex_male  embarked_Q  embarked_S  \\\n",
       "0       3  34.5      0      0   7.8292         1           1           0   \n",
       "1       3  47.0      1      0   7.0000         0           0           1   \n",
       "2       2  62.0      0      0   9.6875         1           1           0   \n",
       "3       3  27.0      0      0   8.6625         1           0           1   \n",
       "4       3  22.0      1      1  12.2875         0           0           1   \n",
       "\n",
       "   title_top_Mr  title_top_Mrs  title_top_other  survived_proba  \n",
       "0             1              0                0        0.034002  \n",
       "1             0              1                0        0.022697  \n",
       "2             1              0                0        0.012523  \n",
       "3             1              0                0        0.134524  \n",
       "4             0              1                0        0.319586  "
      ]
     },
     "execution_count": 149,
     "metadata": {},
     "output_type": "execute_result"
    }
   ],
   "source": [
    "df_test_d.head()"
   ]
  }
 ],
 "metadata": {
  "kernelspec": {
   "display_name": "Python 3",
   "language": "python",
   "name": "python3"
  },
  "language_info": {
   "codemirror_mode": {
    "name": "ipython",
    "version": 3
   },
   "file_extension": ".py",
   "mimetype": "text/x-python",
   "name": "python",
   "nbconvert_exporter": "python",
   "pygments_lexer": "ipython3",
   "version": "3.7.3"
  }
 },
 "nbformat": 4,
 "nbformat_minor": 2
}
