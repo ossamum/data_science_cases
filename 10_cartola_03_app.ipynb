{
 "cells": [
  {
   "cell_type": "markdown",
   "metadata": {},
   "source": [
    "## Objective\n",
    "\n",
    "To identify users prone to subscribe to cartola `Cartola Pro` using behavior data.\n",
    "This is a series of notebooks divided into the following sections:\n",
    "- **01_eda:**\n",
    "    - Exploratory data analysis of user profile aiming identify propensity to subscribe to cartola\n",
    "    - Data wrangling to prepare the dataset for modeling\n",
    "- **02_model:**\n",
    "    - Assessing different models with hyperparameter tuning to select the best classifier to discriminate `Cartola Pro`\n",
    "    - Analyzing feature importances to classify users\n",
    "- **03_app:**\n",
    "    - Creating flask API to predict the probability of users to subscribe to cartola"
   ]
  },
  {
   "cell_type": "markdown",
   "metadata": {},
   "source": [
    "In this notebook I will demonstrate how we should run the app to trigger the API.\n",
    "\n",
    "First step is to open the terminal and run the command `python 03_app.py`. Then the api will run on `http://localhost:5000`\n",
    "\n",
    "The api has two endpoints:\n",
    "- `predict`: return dataframe with the features given and the probabilities of each class \n",
    "- `predict_csv`: trigger interface to download csv with the probabilities of each class"
   ]
  },
  {
   "cell_type": "code",
   "execution_count": 1,
   "metadata": {
    "ExecuteTime": {
     "end_time": "2020-05-10T20:33:42.001768Z",
     "start_time": "2020-05-10T20:33:40.718061Z"
    }
   },
   "outputs": [],
   "source": [
    "import pandas as pd\n",
    "import requests"
   ]
  },
  {
   "cell_type": "code",
   "execution_count": 36,
   "metadata": {
    "ExecuteTime": {
     "end_time": "2020-05-10T22:05:35.612842Z",
     "start_time": "2020-05-10T22:05:35.395723Z"
    }
   },
   "outputs": [],
   "source": [
    "df = pd.read_csv('data/ge_df_users_editorias_02.zip')"
   ]
  },
  {
   "cell_type": "markdown",
   "metadata": {},
   "source": [
    "In order to test the api, I will generate a sample of the dataset, drop the target value and pass it to the api as a json"
   ]
  },
  {
   "cell_type": "code",
   "execution_count": 37,
   "metadata": {
    "ExecuteTime": {
     "end_time": "2020-05-10T22:11:27.597064Z",
     "start_time": "2020-05-10T22:11:27.586585Z"
    }
   },
   "outputs": [],
   "source": [
    "sample = df.sample(1)\n",
    "\n",
    "x_sample = sample.drop('cartola_status', axis=1)\n",
    "x_sample = x_sample.to_json(orient='records')"
   ]
  },
  {
   "cell_type": "code",
   "execution_count": 38,
   "metadata": {
    "ExecuteTime": {
     "end_time": "2020-05-10T22:12:25.498119Z",
     "start_time": "2020-05-10T22:12:24.424014Z"
    }
   },
   "outputs": [],
   "source": [
    "url = 'http://localhost:5000/predict'\n",
    "data = sample.to_json(orient='records')\n",
    "headers = {'Content-type': 'application/json'}\n",
    "\n",
    "r = requests.post(url=url, data=x_sample, headers=headers)"
   ]
  },
  {
   "cell_type": "markdown",
   "metadata": {},
   "source": [
    "The status code 200 says that the app ran without any problems"
   ]
  },
  {
   "cell_type": "code",
   "execution_count": 39,
   "metadata": {
    "ExecuteTime": {
     "end_time": "2020-05-10T22:12:26.757623Z",
     "start_time": "2020-05-10T22:12:26.748640Z"
    }
   },
   "outputs": [
    {
     "data": {
      "text/plain": [
       "200"
      ]
     },
     "execution_count": 39,
     "metadata": {},
     "output_type": "execute_result"
    }
   ],
   "source": [
    "r.status_code"
   ]
  },
  {
   "cell_type": "markdown",
   "metadata": {},
   "source": [
    "We can see that the actual value of sample"
   ]
  },
  {
   "cell_type": "code",
   "execution_count": 40,
   "metadata": {
    "ExecuteTime": {
     "end_time": "2020-05-10T22:12:28.514787Z",
     "start_time": "2020-05-10T22:12:28.507298Z"
    }
   },
   "outputs": [
    {
     "data": {
      "text/plain": [
       "23912    Cartola Free\n",
       "Name: cartola_status, dtype: object"
      ]
     },
     "execution_count": 40,
     "metadata": {},
     "output_type": "execute_result"
    }
   ],
   "source": [
    "sample['cartola_status']"
   ]
  },
  {
   "cell_type": "markdown",
   "metadata": {},
   "source": [
    "Here we can see the data returned by the api with the probabilities of each class"
   ]
  },
  {
   "cell_type": "code",
   "execution_count": 41,
   "metadata": {
    "ExecuteTime": {
     "end_time": "2020-05-10T22:12:30.198848Z",
     "start_time": "2020-05-10T22:12:30.147442Z"
    },
    "scrolled": false
   },
   "outputs": [
    {
     "data": {
      "text/html": [
       "<div>\n",
       "<style scoped>\n",
       "    .dataframe tbody tr th:only-of-type {\n",
       "        vertical-align: middle;\n",
       "    }\n",
       "\n",
       "    .dataframe tbody tr th {\n",
       "        vertical-align: top;\n",
       "    }\n",
       "\n",
       "    .dataframe thead th {\n",
       "        text-align: right;\n",
       "    }\n",
       "</style>\n",
       "<table border=\"1\" class=\"dataframe\">\n",
       "  <thead>\n",
       "    <tr style=\"text-align: right;\">\n",
       "      <th></th>\n",
       "      <th>uf</th>\n",
       "      <th>idade</th>\n",
       "      <th>dias</th>\n",
       "      <th>pviews</th>\n",
       "      <th>visitas</th>\n",
       "      <th>tempo_total</th>\n",
       "      <th>futebol</th>\n",
       "      <th>futebol_intenacional</th>\n",
       "      <th>futebol_olimpico</th>\n",
       "      <th>blog_cartola</th>\n",
       "      <th>...</th>\n",
       "      <th>home</th>\n",
       "      <th>home_olimpiadas</th>\n",
       "      <th>sexo_F</th>\n",
       "      <th>sexo_M</th>\n",
       "      <th>device_m_only</th>\n",
       "      <th>device_pc_e_m</th>\n",
       "      <th>device_pc_only</th>\n",
       "      <th>Cartola Free</th>\n",
       "      <th>Cartola Pro</th>\n",
       "      <th>Não Cartola</th>\n",
       "    </tr>\n",
       "  </thead>\n",
       "  <tbody>\n",
       "    <tr>\n",
       "      <th>0</th>\n",
       "      <td>0</td>\n",
       "      <td>23.0</td>\n",
       "      <td>1</td>\n",
       "      <td>5</td>\n",
       "      <td>1</td>\n",
       "      <td>2366.396</td>\n",
       "      <td>2366.396</td>\n",
       "      <td>0.0</td>\n",
       "      <td>0.0</td>\n",
       "      <td>0.0</td>\n",
       "      <td>...</td>\n",
       "      <td>0.0</td>\n",
       "      <td>0.0</td>\n",
       "      <td>0</td>\n",
       "      <td>1</td>\n",
       "      <td>0</td>\n",
       "      <td>0</td>\n",
       "      <td>1</td>\n",
       "      <td>0.500032</td>\n",
       "      <td>0.244408</td>\n",
       "      <td>0.25556</td>\n",
       "    </tr>\n",
       "  </tbody>\n",
       "</table>\n",
       "<p>1 rows × 30 columns</p>\n",
       "</div>"
      ],
      "text/plain": [
       "   uf  idade  dias  pviews  visitas  tempo_total   futebol  \\\n",
       "0   0   23.0     1       5        1     2366.396  2366.396   \n",
       "\n",
       "   futebol_intenacional  futebol_olimpico  blog_cartola  ...  home  \\\n",
       "0                   0.0               0.0           0.0  ...   0.0   \n",
       "\n",
       "   home_olimpiadas  sexo_F  sexo_M  device_m_only  device_pc_e_m  \\\n",
       "0              0.0       0       1              0              0   \n",
       "\n",
       "   device_pc_only  Cartola Free  Cartola Pro  Não Cartola  \n",
       "0               1      0.500032     0.244408      0.25556  \n",
       "\n",
       "[1 rows x 30 columns]"
      ]
     },
     "execution_count": 41,
     "metadata": {},
     "output_type": "execute_result"
    }
   ],
   "source": [
    "pd.DataFrame(r.json(), columns=r.json()[0].keys())"
   ]
  },
  {
   "cell_type": "markdown",
   "metadata": {},
   "source": [
    "We can also save the probabilities as a csv file with the following code"
   ]
  },
  {
   "cell_type": "code",
   "execution_count": 33,
   "metadata": {
    "ExecuteTime": {
     "end_time": "2020-05-10T21:07:18.927374Z",
     "start_time": "2020-05-10T21:06:49.452773Z"
    }
   },
   "outputs": [
    {
     "name": "stdout",
     "output_type": "stream",
     "text": [
      "500\n"
     ]
    }
   ],
   "source": [
    "url = 'http://localhost:5000/predict_csv'\n",
    "data = sample.to_json(orient='records')\n",
    "headers = {'Content-type': 'application/json'}\n",
    "\n",
    "r = requests.post(url=url, data=x_sample, headers=headers)"
   ]
  }
 ],
 "metadata": {
  "kernelspec": {
   "display_name": "Python 3",
   "language": "python",
   "name": "python3"
  },
  "language_info": {
   "codemirror_mode": {
    "name": "ipython",
    "version": 3
   },
   "file_extension": ".py",
   "mimetype": "text/x-python",
   "name": "python",
   "nbconvert_exporter": "python",
   "pygments_lexer": "ipython3",
   "version": "3.7.3"
  }
 },
 "nbformat": 4,
 "nbformat_minor": 2
}
