{
 "cells": [
  {
   "cell_type": "markdown",
   "metadata": {},
   "source": [
    "## Description\n",
    "\n",
    "This notebook aims providing an EDA (exploratory data analysis) of the covid-19 dataset from Hospital Israelita Albert Einstein.\n",
    "The notebook is splited in the following sections:\n",
    "\n",
    "* **Importings:** Importing libs and data\n",
    "* **Analysis:** Analysing data, dropping unnecessary columns, treating null values, checking features\n",
    "* **Feature Importance:** Identifying important features by applying decision tree\n",
    "* **Modeling:** Applying classification models (logistic regression, knn, decision tree, random forest, adaboost, svm) combined with samplers (random under sampler and random over sampler), and xgboost to identify covid-19\n",
    "* **Conclusion:** Results in the test dataset (f1-score, recall, accuracy)"
   ]
  },
  {
   "cell_type": "markdown",
   "metadata": {},
   "source": [
    "### Importings"
   ]
  },
  {
   "cell_type": "code",
   "execution_count": 23,
   "metadata": {
    "ExecuteTime": {
     "end_time": "2020-05-06T21:23:58.792845Z",
     "start_time": "2020-05-06T21:23:58.779382Z"
    }
   },
   "outputs": [],
   "source": [
    "import os\n",
    "import numpy as np\n",
    "import pandas as pd\n",
    "import matplotlib.pyplot as plt\n",
    "import seaborn as sns\n",
    "import missingno as msno\n",
    "from sklearn.linear_model import LogisticRegression\n",
    "from sklearn.tree import DecisionTreeClassifier, export_graphviz\n",
    "from IPython.display import SVG\n",
    "from graphviz import Source\n",
    "import itertools\n",
    "from sklearn.neighbors import KNeighborsClassifier\n",
    "from sklearn.ensemble import RandomForestClassifier, AdaBoostClassifier\n",
    "from sklearn.svm import SVC\n",
    "from sklearn.model_selection import train_test_split, cross_val_score, RandomizedSearchCV\n",
    "from sklearn.metrics import accuracy_score, f1_score, recall_score, confusion_matrix, classification_report\n",
    "from imblearn.under_sampling import RandomUnderSampler\n",
    "from imblearn.over_sampling import RandomOverSampler\n",
    "from imblearn.pipeline import Pipeline\n",
    "import xgboost as xgb\n",
    "import warnings\n",
    "warnings.filterwarnings(\"ignore\")\n",
    "%matplotlib inline"
   ]
  },
  {
   "cell_type": "code",
   "execution_count": 2,
   "metadata": {
    "ExecuteTime": {
     "end_time": "2020-05-06T21:23:08.482880Z",
     "start_time": "2020-05-06T21:23:07.226415Z"
    }
   },
   "outputs": [],
   "source": [
    "df = pd.read_excel('dataset.xlsx')"
   ]
  },
  {
   "cell_type": "markdown",
   "metadata": {},
   "source": [
    "### Analysis"
   ]
  },
  {
   "cell_type": "code",
   "execution_count": 6,
   "metadata": {
    "ExecuteTime": {
     "end_time": "2020-05-06T21:23:18.206688Z",
     "start_time": "2020-05-06T21:23:18.202185Z"
    }
   },
   "outputs": [
    {
     "data": {
      "text/plain": [
       "(5644, 111)"
      ]
     },
     "execution_count": 6,
     "metadata": {},
     "output_type": "execute_result"
    }
   ],
   "source": [
    "df.shape"
   ]
  },
  {
   "cell_type": "markdown",
   "metadata": {},
   "source": [
    "The dataset is very unbalanced (covid-19 is only present in 90% of the data), so I will consider this during modeling."
   ]
  },
  {
   "cell_type": "code",
   "execution_count": 111,
   "metadata": {
    "ExecuteTime": {
     "end_time": "2020-03-31T02:34:14.939689Z",
     "start_time": "2020-03-31T02:34:14.780783Z"
    }
   },
   "outputs": [
    {
     "data": {
      "text/plain": [
       "<matplotlib.axes._subplots.AxesSubplot at 0x1965c3ae588>"
      ]
     },
     "execution_count": 111,
     "metadata": {},
     "output_type": "execute_result"
    },
    {
     "data": {
      "image/png": "[encoded data removed]",
      "text/plain": [
       "<Figure size 432x288 with 1 Axes>"
      ]
     },
     "metadata": {
      "needs_background": "light"
     },
     "output_type": "display_data"
    }
   ],
   "source": [
    "df['SARS-Cov-2 exam result'].value_counts(True).plot.barh()"
   ]
  },
  {
   "cell_type": "code",
   "execution_count": 5,
   "metadata": {
    "ExecuteTime": {
     "end_time": "2020-03-31T01:37:18.635341Z",
     "start_time": "2020-03-31T01:37:18.059531Z"
    }
   },
   "outputs": [
    {
     "data": {
      "text/plain": [
       "<matplotlib.axes._subplots.AxesSubplot at 0x1965189d550>"
      ]
     },
     "execution_count": 5,
     "metadata": {},
     "output_type": "execute_result"
    },
    {
     "data": {
      "image/png": "[encoded data removed]",
      "text/plain": [
       "<Figure size 1152x288 with 2 Axes>"
      ]
     },
     "metadata": {
      "needs_background": "light"
     },
     "output_type": "display_data"
    }
   ],
   "source": [
    "# checking null values\n",
    "msno.bar(df, figsize=(16, 4))"
   ]
  },
  {
   "cell_type": "markdown",
   "metadata": {},
   "source": [
    "It seems that there are some columns with all values equal null, so I'll drop them."
   ]
  },
  {
   "cell_type": "code",
   "execution_count": 7,
   "metadata": {
    "ExecuteTime": {
     "end_time": "2020-05-06T21:23:22.867876Z",
     "start_time": "2020-05-06T21:23:22.833474Z"
    }
   },
   "outputs": [
    {
     "data": {
      "text/plain": [
       "True"
      ]
     },
     "execution_count": 7,
     "metadata": {},
     "output_type": "execute_result"
    }
   ],
   "source": [
    "(df.isnull().sum() == df.shape[0]).any()"
   ]
  },
  {
   "cell_type": "code",
   "execution_count": 8,
   "metadata": {
    "ExecuteTime": {
     "end_time": "2020-05-06T21:23:24.859469Z",
     "start_time": "2020-05-06T21:23:24.828017Z"
    }
   },
   "outputs": [],
   "source": [
    "full_null_series = (df.isnull().sum() == df.shape[0])\n",
    "full_null_columns = full_null_series[full_null_series == True].index"
   ]
  },
  {
   "cell_type": "code",
   "execution_count": 9,
   "metadata": {
    "ExecuteTime": {
     "end_time": "2020-05-06T21:23:26.383641Z",
     "start_time": "2020-05-06T21:23:26.376654Z"
    }
   },
   "outputs": [
    {
     "name": "stdout",
     "output_type": "stream",
     "text": [
      "['Mycoplasma pneumoniae', 'Urine - Sugar', 'Partial thromboplastin time\\xa0(PTT)\\xa0', 'Prothrombin time (PT), Activity', 'D-Dimer']\n"
     ]
    }
   ],
   "source": [
    "# columns with all values equal null\n",
    "print(full_null_columns.tolist())"
   ]
  },
  {
   "cell_type": "code",
   "execution_count": 10,
   "metadata": {
    "ExecuteTime": {
     "end_time": "2020-05-06T21:23:27.275530Z",
     "start_time": "2020-05-06T21:23:27.256066Z"
    }
   },
   "outputs": [],
   "source": [
    "df.drop(full_null_columns, axis=1, inplace=True)"
   ]
  },
  {
   "cell_type": "markdown",
   "metadata": {},
   "source": [
    "We still have many values null in the dataset.\n",
    "I'll drop the columns that only have one value in the target, since they'll hardly help to discriminate the presence of Covid-19."
   ]
  },
  {
   "cell_type": "code",
   "execution_count": 11,
   "metadata": {
    "ExecuteTime": {
     "end_time": "2020-05-06T21:23:28.180899Z",
     "start_time": "2020-05-06T21:23:28.119999Z"
    }
   },
   "outputs": [
    {
     "data": {
      "text/plain": [
       "Fio2 (venous blood gas analysis)    0.999823\n",
       "Urine - Nitrite                     0.999823\n",
       "Vitamin B12                         0.999468\n",
       "Lipase dosage                       0.998583\n",
       "Albumin                             0.997697\n",
       "dtype: float64"
      ]
     },
     "execution_count": 11,
     "metadata": {},
     "output_type": "execute_result"
    }
   ],
   "source": [
    "(df.isnull().sum() / df.shape[0]).sort_values(ascending=False).head()"
   ]
  },
  {
   "cell_type": "code",
   "execution_count": 12,
   "metadata": {
    "ExecuteTime": {
     "end_time": "2020-05-06T21:23:29.399237Z",
     "start_time": "2020-05-06T21:23:29.362794Z"
    }
   },
   "outputs": [],
   "source": [
    "contain_null_series = (df.isnull().sum() != 0).index"
   ]
  },
  {
   "cell_type": "code",
   "execution_count": 13,
   "metadata": {
    "ExecuteTime": {
     "end_time": "2020-05-06T21:23:29.879701Z",
     "start_time": "2020-05-06T21:23:29.648131Z"
    },
    "scrolled": true
   },
   "outputs": [
    {
     "name": "stdout",
     "output_type": "stream",
     "text": [
      "['Fio2 (venous blood gas analysis)', 'Urine - Nitrite', 'Vitamin B12', 'Albumin']\n"
     ]
    }
   ],
   "source": [
    "target = 'SARS-Cov-2 exam result'\n",
    "just_one_target = []\n",
    "\n",
    "for col in contain_null_series:\n",
    "    i = df[df[col].notnull()][target].nunique()\n",
    "    if i == 1:\n",
    "        just_one_target.append(col)    \n",
    "\n",
    "# columns that only are present when covid is negative        \n",
    "print(just_one_target)"
   ]
  },
  {
   "cell_type": "code",
   "execution_count": 14,
   "metadata": {
    "ExecuteTime": {
     "end_time": "2020-05-06T21:23:30.254164Z",
     "start_time": "2020-05-06T21:23:30.233704Z"
    }
   },
   "outputs": [
    {
     "name": "stdout",
     "output_type": "stream",
     "text": [
      "['negative']\n",
      "['negative']\n",
      "['negative']\n",
      "['negative']\n"
     ]
    }
   ],
   "source": [
    "for col in just_one_target:\n",
    "    print(df[df[col].notnull()][target].unique())"
   ]
  },
  {
   "cell_type": "code",
   "execution_count": 15,
   "metadata": {
    "ExecuteTime": {
     "end_time": "2020-05-06T21:23:30.896103Z",
     "start_time": "2020-05-06T21:23:30.870658Z"
    }
   },
   "outputs": [],
   "source": [
    "df.drop(just_one_target, axis=1, inplace=True)"
   ]
  },
  {
   "cell_type": "markdown",
   "metadata": {},
   "source": [
    "We still have many null values in the dataset.\n",
    "I'll plot the columns that doesn't have any null to check if they can discriminate the target."
   ]
  },
  {
   "cell_type": "code",
   "execution_count": 15,
   "metadata": {
    "ExecuteTime": {
     "end_time": "2020-03-31T01:37:22.490855Z",
     "start_time": "2020-03-31T01:37:21.967144Z"
    }
   },
   "outputs": [
    {
     "data": {
      "text/plain": [
       "<matplotlib.axes._subplots.AxesSubplot at 0x19651b795c0>"
      ]
     },
     "execution_count": 15,
     "metadata": {},
     "output_type": "execute_result"
    },
    {
     "data": {
      "image/png": "[encoded data removed]",
      "text/plain": [
       "<Figure size 1152x288 with 2 Axes>"
      ]
     },
     "metadata": {
      "needs_background": "light"
     },
     "output_type": "display_data"
    }
   ],
   "source": [
    "msno.bar(df, figsize=(16, 4))"
   ]
  },
  {
   "cell_type": "code",
   "execution_count": 16,
   "metadata": {
    "ExecuteTime": {
     "end_time": "2020-05-06T21:23:34.413968Z",
     "start_time": "2020-05-06T21:23:34.397999Z"
    }
   },
   "outputs": [],
   "source": [
    "not_null_series = (df.isnull().sum() == 0)\n",
    "not_null_columns = not_null_series[not_null_series == True].index\n",
    "not_null_columns = not_null_columns[1:]"
   ]
  },
  {
   "cell_type": "code",
   "execution_count": 17,
   "metadata": {
    "ExecuteTime": {
     "end_time": "2020-03-31T01:37:23.944424Z",
     "start_time": "2020-03-31T01:37:23.039930Z"
    }
   },
   "outputs": [
    {
     "data": {
      "text/plain": [
       "<Figure size 432x288 with 0 Axes>"
      ]
     },
     "metadata": {},
     "output_type": "display_data"
    },
    {
     "data": {
      "image/png": "[encoded data removed]",
      "text/plain": [
       "<Figure size 1152x576 with 4 Axes>"
      ]
     },
     "metadata": {
      "needs_background": "light"
     },
     "output_type": "display_data"
    }
   ],
   "source": [
    "def plot_histograms(df, cols, subplots_rows, subplots_cols, figsize=(16, 8), target='SARS-Cov-2 exam result'):\n",
    "    df_neg = df[df[target] == 'negative']\n",
    "    df_pos = df[df[target] == 'positive']\n",
    "    \n",
    "    cols = cols.tolist()\n",
    "    cols.remove(target)\n",
    "    \n",
    "    plt.figure()\n",
    "    fig, ax = plt.subplots(subplots_rows, subplots_cols, figsize=figsize)\n",
    "    \n",
    "    i = 0    \n",
    "    for col in cols:\n",
    "        i += 1\n",
    "        plt.subplot(subplots_rows, subplots_cols, i)\n",
    "        sns.distplot(df_neg[col], label=\"Negative\", bins=15, kde=False)\n",
    "        sns.distplot(df_pos[col], label=\"Positive\", bins=15, kde=False)\n",
    "        plt.legend()\n",
    "    plt.show()\n",
    "    \n",
    "plot_histograms(df, not_null_columns, 2, 2)"
   ]
  },
  {
   "cell_type": "markdown",
   "metadata": {},
   "source": [
    "It's hard to see any feature that can help determine presence of covid-19.\n",
    "I'll prepare the data do convert categorical features to numeric and examine the feature importance of the features with logistic regression and decision tree models"
   ]
  },
  {
   "cell_type": "code",
   "execution_count": 17,
   "metadata": {
    "ExecuteTime": {
     "end_time": "2020-05-06T21:23:37.136219Z",
     "start_time": "2020-05-06T21:23:37.130728Z"
    }
   },
   "outputs": [],
   "source": [
    "# dataprep categorical\n",
    "mask_pos_neg = {'positive': 1, 'negative': 0}\n",
    "mask_detected = {'detected': 1, 'not_detected': 0}\n",
    "mask_notdone_absent_present = {'not_done': 0, 'absent': 1, 'present': 2}\n",
    "mask_normal = {'normal': 1}\n",
    "mask_urine_color = {'light_yellow': 1, 'yellow': 2, 'citrus_yellow': 3, 'orange': 4}\n",
    "mask_urine_aspect = {'clear': 1, 'lightly_cloudy': 2, 'cloudy': 3, 'altered_coloring': 4}\n",
    "mask_realizado = {'Não Realizado': 0}\n",
    "mask_urine_leuk = {'<1000': 1000}\n",
    "mask_urine_crys = {'Ausentes': 1, 'Urato Amorfo --+': 0, 'Oxalato de Cálcio +++': 0,\n",
    "                   'Oxalato de Cálcio -++': 0, 'Urato Amorfo +++': 0}"
   ]
  },
  {
   "cell_type": "code",
   "execution_count": 18,
   "metadata": {
    "ExecuteTime": {
     "end_time": "2020-05-06T21:23:39.217208Z",
     "start_time": "2020-05-06T21:23:38.405750Z"
    }
   },
   "outputs": [],
   "source": [
    "df = df.replace(mask_detected)\n",
    "df = df.replace(mask_pos_neg)\n",
    "df = df.replace(mask_notdone_absent_present)\n",
    "df = df.replace(mask_normal)\n",
    "df = df.replace(mask_realizado)\n",
    "df = df.replace(mask_urine_leuk)\n",
    "df = df.replace(mask_urine_color)\n",
    "df = df.replace(mask_urine_aspect)\n",
    "df = df.replace(mask_urine_crys)\n",
    "\n",
    "df['Urine - pH'] = df['Urine - pH'].astype('float')\n",
    "df['Urine - Leukocytes'] = df['Urine - Leukocytes'].astype('float')"
   ]
  },
  {
   "cell_type": "code",
   "execution_count": 19,
   "metadata": {
    "ExecuteTime": {
     "end_time": "2020-05-06T21:23:39.689277Z",
     "start_time": "2020-05-06T21:23:39.672309Z"
    }
   },
   "outputs": [],
   "source": [
    "x = df.drop(['Patient ID', 'SARS-Cov-2 exam result'], axis=1)\n",
    "x.fillna(999999, inplace=True)\n",
    "y = df['SARS-Cov-2 exam result']"
   ]
  },
  {
   "cell_type": "markdown",
   "metadata": {},
   "source": [
    "### Feature importances\n",
    "\n",
    "Now I'll check the most important features according to decision tree.\n",
    "This information can bring insights by applying feature engineering to improve the classification of the target."
   ]
  },
  {
   "cell_type": "code",
   "execution_count": 24,
   "metadata": {
    "ExecuteTime": {
     "end_time": "2020-05-06T21:24:14.302752Z",
     "start_time": "2020-05-06T21:24:14.299258Z"
    }
   },
   "outputs": [],
   "source": [
    "dt = DecisionTreeClassifier(max_depth=3)"
   ]
  },
  {
   "cell_type": "code",
   "execution_count": 31,
   "metadata": {
    "ExecuteTime": {
     "end_time": "2020-05-06T21:25:38.449299Z",
     "start_time": "2020-05-06T21:25:38.420354Z"
    }
   },
   "outputs": [
    {
     "data": {
      "text/plain": [
       "DecisionTreeClassifier(ccp_alpha=0.0, class_weight=None, criterion='gini',\n",
       "                       max_depth=3, max_features=None, max_leaf_nodes=None,\n",
       "                       min_impurity_decrease=0.0, min_impurity_split=None,\n",
       "                       min_samples_leaf=1, min_samples_split=2,\n",
       "                       min_weight_fraction_leaf=0.0, presort='deprecated',\n",
       "                       random_state=None, splitter='best')"
      ]
     },
     "execution_count": 31,
     "metadata": {},
     "output_type": "execute_result"
    }
   ],
   "source": [
    "dt.fit(x, y)"
   ]
  },
  {
   "cell_type": "code",
   "execution_count": 32,
   "metadata": {
    "ExecuteTime": {
     "end_time": "2020-05-06T21:25:40.041591Z",
     "start_time": "2020-05-06T21:25:39.857931Z"
    }
   },
   "outputs": [
    {
     "data": {
      "image/png": "[encoded data removed]",
      "text/plain": [
       "<Figure size 432x288 with 1 Axes>"
      ]
     },
     "metadata": {
      "needs_background": "light"
     },
     "output_type": "display_data"
    }
   ],
   "source": [
    "dt_feat = pd.DataFrame(dt.feature_importances_, index=x.columns, columns=['feat_importance'])\n",
    "dt_feat.sort_values('feat_importance').tail(8).plot.barh()\n",
    "plt.show()"
   ]
  },
  {
   "cell_type": "code",
   "execution_count": 148,
   "metadata": {
    "ExecuteTime": {
     "end_time": "2020-03-28T19:25:14.465009Z",
     "start_time": "2020-03-28T19:25:14.278118Z"
    }
   },
   "outputs": [
    {
     "data": {
      "image/svg+xml": [
       "<svg height=\"373pt\" viewBox=\"0.00 0.00 1037.00 373.00\" width=\"1037pt\" xmlns=\"http://www.w3.org/2000/svg\" xmlns:xlink=\"http://www.w3.org/1999/xlink\">\n",
       "<g class=\"graph\" id=\"graph0\" transform=\"scale(1 1) rotate(0) translate(4 369)\">\n",
       "<title>Tree</title>\n",
       "<polygon fill=\"white\" points=\"-4,4 -4,-369 1033,-369 1033,4 -4,4\" stroke=\"none\"/>\n",
       "<!-- 0 -->\n",
       "<g class=\"node\" id=\"node1\"><title>0</title>\n",
       "<polygon fill=\"#e88f4f\" points=\"575,-365 435,-365 435,-297 575,-297 575,-365\" stroke=\"black\"/>\n",
       "<text font-family=\"Times New Roman,serif\" font-size=\"14.00\" text-anchor=\"middle\" x=\"505\" y=\"-349.8\">Leukocytes &lt;= -0.733</text>\n",
       "<text font-family=\"Times New Roman,serif\" font-size=\"14.00\" text-anchor=\"middle\" x=\"505\" y=\"-334.8\">gini = 0.178</text>\n",
       "<text font-family=\"Times New Roman,serif\" font-size=\"14.00\" text-anchor=\"middle\" x=\"505\" y=\"-319.8\">samples = 5644</text>\n",
       "<text font-family=\"Times New Roman,serif\" font-size=\"14.00\" text-anchor=\"middle\" x=\"505\" y=\"-304.8\">value = [5086, 558]</text>\n",
       "</g>\n",
       "<!-- 1 -->\n",
       "<g class=\"node\" id=\"node2\"><title>1</title>\n",
       "<polygon fill=\"#f7d9c4\" points=\"475.5,-261 356.5,-261 356.5,-193 475.5,-193 475.5,-261\" stroke=\"black\"/>\n",
       "<text font-family=\"Times New Roman,serif\" font-size=\"14.00\" text-anchor=\"middle\" x=\"416\" y=\"-245.8\">Basophils &lt;= 0.54</text>\n",
       "<text font-family=\"Times New Roman,serif\" font-size=\"14.00\" text-anchor=\"middle\" x=\"416\" y=\"-230.8\">gini = 0.484</text>\n",
       "<text font-family=\"Times New Roman,serif\" font-size=\"14.00\" text-anchor=\"middle\" x=\"416\" y=\"-215.8\">samples = 119</text>\n",
       "<text font-family=\"Times New Roman,serif\" font-size=\"14.00\" text-anchor=\"middle\" x=\"416\" y=\"-200.8\">value = [70, 49]</text>\n",
       "</g>\n",
       "<!-- 0&#45;&gt;1 -->\n",
       "<g class=\"edge\" id=\"edge1\"><title>0-&gt;1</title>\n",
       "<path d=\"M476.104,-296.884C468.332,-287.976 459.833,-278.235 451.737,-268.957\" fill=\"none\" stroke=\"black\"/>\n",
       "<polygon fill=\"black\" points=\"454.267,-266.533 445.055,-261.299 448.993,-271.135 454.267,-266.533\" stroke=\"black\"/>\n",
       "<text font-family=\"Times New Roman,serif\" font-size=\"14.00\" text-anchor=\"middle\" x=\"443.358\" y=\"-282.542\">True</text>\n",
       "</g>\n",
       "<!-- 8 -->\n",
       "<g class=\"node\" id=\"node9\"><title>8</title>\n",
       "<polygon fill=\"#e88e4d\" points=\"676,-261 512,-261 512,-193 676,-193 676,-261\" stroke=\"black\"/>\n",
       "<text font-family=\"Times New Roman,serif\" font-size=\"14.00\" text-anchor=\"middle\" x=\"594\" y=\"-245.8\">Patient age quantile &lt;= 2.5</text>\n",
       "<text font-family=\"Times New Roman,serif\" font-size=\"14.00\" text-anchor=\"middle\" x=\"594\" y=\"-230.8\">gini = 0.167</text>\n",
       "<text font-family=\"Times New Roman,serif\" font-size=\"14.00\" text-anchor=\"middle\" x=\"594\" y=\"-215.8\">samples = 5525</text>\n",
       "<text font-family=\"Times New Roman,serif\" font-size=\"14.00\" text-anchor=\"middle\" x=\"594\" y=\"-200.8\">value = [5016, 509]</text>\n",
       "</g>\n",
       "<!-- 0&#45;&gt;8 -->\n",
       "<g class=\"edge\" id=\"edge8\"><title>0-&gt;8</title>\n",
       "<path d=\"M533.896,-296.884C541.668,-287.976 550.167,-278.235 558.263,-268.957\" fill=\"none\" stroke=\"black\"/>\n",
       "<polygon fill=\"black\" points=\"561.007,-271.135 564.945,-261.299 555.733,-266.533 561.007,-271.135\" stroke=\"black\"/>\n",
       "<text font-family=\"Times New Roman,serif\" font-size=\"14.00\" text-anchor=\"middle\" x=\"566.642\" y=\"-282.542\">False</text>\n",
       "</g>\n",
       "<!-- 2 -->\n",
       "<g class=\"node\" id=\"node3\"><title>2</title>\n",
       "<polygon fill=\"#f6fbfe\" points=\"322,-157 0,-157 0,-89 322,-89 322,-157\" stroke=\"black\"/>\n",
       "<text font-family=\"Times New Roman,serif\" font-size=\"14.00\" text-anchor=\"middle\" x=\"161\" y=\"-141.8\">Patient addmited to regular ward (1=yes, 0=no) &lt;= 0.5</text>\n",
       "<text font-family=\"Times New Roman,serif\" font-size=\"14.00\" text-anchor=\"middle\" x=\"161\" y=\"-126.8\">gini = 0.5</text>\n",
       "<text font-family=\"Times New Roman,serif\" font-size=\"14.00\" text-anchor=\"middle\" x=\"161\" y=\"-111.8\">samples = 88</text>\n",
       "<text font-family=\"Times New Roman,serif\" font-size=\"14.00\" text-anchor=\"middle\" x=\"161\" y=\"-96.8\">value = [43, 45]</text>\n",
       "</g>\n",
       "<!-- 1&#45;&gt;2 -->\n",
       "<g class=\"edge\" id=\"edge2\"><title>1-&gt;2</title>\n",
       "<path d=\"M356.214,-202.086C325.535,-189.814 287.487,-174.595 253.153,-160.861\" fill=\"none\" stroke=\"black\"/>\n",
       "<polygon fill=\"black\" points=\"254.161,-157.495 243.577,-157.031 251.561,-163.994 254.161,-157.495\" stroke=\"black\"/>\n",
       "</g>\n",
       "<!-- 5 -->\n",
       "<g class=\"node\" id=\"node6\"><title>5</title>\n",
       "<polygon fill=\"#e99456\" points=\"492,-157 340,-157 340,-89 492,-89 492,-157\" stroke=\"black\"/>\n",
       "<text font-family=\"Times New Roman,serif\" font-size=\"14.00\" text-anchor=\"middle\" x=\"416\" y=\"-141.8\">Lymphocytes &lt;= -0.782</text>\n",
       "<text font-family=\"Times New Roman,serif\" font-size=\"14.00\" text-anchor=\"middle\" x=\"416\" y=\"-126.8\">gini = 0.225</text>\n",
       "<text font-family=\"Times New Roman,serif\" font-size=\"14.00\" text-anchor=\"middle\" x=\"416\" y=\"-111.8\">samples = 31</text>\n",
       "<text font-family=\"Times New Roman,serif\" font-size=\"14.00\" text-anchor=\"middle\" x=\"416\" y=\"-96.8\">value = [27, 4]</text>\n",
       "</g>\n",
       "<!-- 1&#45;&gt;5 -->\n",
       "<g class=\"edge\" id=\"edge5\"><title>1-&gt;5</title>\n",
       "<path d=\"M416,-192.884C416,-184.778 416,-175.982 416,-167.472\" fill=\"none\" stroke=\"black\"/>\n",
       "<polygon fill=\"black\" points=\"419.5,-167.299 416,-157.299 412.5,-167.299 419.5,-167.299\" stroke=\"black\"/>\n",
       "</g>\n",
       "<!-- 3 -->\n",
       "<g class=\"node\" id=\"node4\"><title>3</title>\n",
       "<polygon fill=\"#f7d7c0\" points=\"106,-53 2,-53 2,-0 106,-0 106,-53\" stroke=\"black\"/>\n",
       "<text font-family=\"Times New Roman,serif\" font-size=\"14.00\" text-anchor=\"middle\" x=\"54\" y=\"-37.8\">gini = 0.482</text>\n",
       "<text font-family=\"Times New Roman,serif\" font-size=\"14.00\" text-anchor=\"middle\" x=\"54\" y=\"-22.8\">samples = 69</text>\n",
       "<text font-family=\"Times New Roman,serif\" font-size=\"14.00\" text-anchor=\"middle\" x=\"54\" y=\"-7.8\">value = [41, 28]</text>\n",
       "</g>\n",
       "<!-- 2&#45;&gt;3 -->\n",
       "<g class=\"edge\" id=\"edge3\"><title>2-&gt;3</title>\n",
       "<path d=\"M123.577,-88.9485C112.908,-79.526 101.299,-69.2731 90.675,-59.8906\" fill=\"none\" stroke=\"black\"/>\n",
       "<polygon fill=\"black\" points=\"92.9533,-57.2331 83.141,-53.2367 88.3195,-62.4798 92.9533,-57.2331\" stroke=\"black\"/>\n",
       "</g>\n",
       "<!-- 4 -->\n",
       "<g class=\"node\" id=\"node5\"><title>4</title>\n",
       "<polygon fill=\"#50a9e8\" points=\"222,-53 124,-53 124,-0 222,-0 222,-53\" stroke=\"black\"/>\n",
       "<text font-family=\"Times New Roman,serif\" font-size=\"14.00\" text-anchor=\"middle\" x=\"173\" y=\"-37.8\">gini = 0.188</text>\n",
       "<text font-family=\"Times New Roman,serif\" font-size=\"14.00\" text-anchor=\"middle\" x=\"173\" y=\"-22.8\">samples = 19</text>\n",
       "<text font-family=\"Times New Roman,serif\" font-size=\"14.00\" text-anchor=\"middle\" x=\"173\" y=\"-7.8\">value = [2, 17]</text>\n",
       "</g>\n",
       "<!-- 2&#45;&gt;4 -->\n",
       "<g class=\"edge\" id=\"edge4\"><title>2-&gt;4</title>\n",
       "<path d=\"M165.197,-88.9485C166.254,-80.6238 167.394,-71.6509 168.466,-63.2027\" fill=\"none\" stroke=\"black\"/>\n",
       "<polygon fill=\"black\" points=\"171.944,-63.598 169.732,-53.2367 165,-62.7161 171.944,-63.598\" stroke=\"black\"/>\n",
       "</g>\n",
       "<!-- 6 -->\n",
       "<g class=\"node\" id=\"node7\"><title>6</title>\n",
       "<polygon fill=\"#399de5\" points=\"378.5,-53 287.5,-53 287.5,-0 378.5,-0 378.5,-53\" stroke=\"black\"/>\n",
       "<text font-family=\"Times New Roman,serif\" font-size=\"14.00\" text-anchor=\"middle\" x=\"333\" y=\"-37.8\">gini = 0.0</text>\n",
       "<text font-family=\"Times New Roman,serif\" font-size=\"14.00\" text-anchor=\"middle\" x=\"333\" y=\"-22.8\">samples = 2</text>\n",
       "<text font-family=\"Times New Roman,serif\" font-size=\"14.00\" text-anchor=\"middle\" x=\"333\" y=\"-7.8\">value = [0, 2]</text>\n",
       "</g>\n",
       "<!-- 5&#45;&gt;6 -->\n",
       "<g class=\"edge\" id=\"edge6\"><title>5-&gt;6</title>\n",
       "<path d=\"M386.971,-88.9485C379.016,-79.892 370.388,-70.0682 362.412,-60.9875\" fill=\"none\" stroke=\"black\"/>\n",
       "<polygon fill=\"black\" points=\"364.834,-58.4405 355.605,-53.2367 359.574,-63.0599 364.834,-58.4405\" stroke=\"black\"/>\n",
       "</g>\n",
       "<!-- 7 -->\n",
       "<g class=\"node\" id=\"node8\"><title>7</title>\n",
       "<polygon fill=\"#e78a48\" points=\"495,-53 397,-53 397,-0 495,-0 495,-53\" stroke=\"black\"/>\n",
       "<text font-family=\"Times New Roman,serif\" font-size=\"14.00\" text-anchor=\"middle\" x=\"446\" y=\"-37.8\">gini = 0.128</text>\n",
       "<text font-family=\"Times New Roman,serif\" font-size=\"14.00\" text-anchor=\"middle\" x=\"446\" y=\"-22.8\">samples = 29</text>\n",
       "<text font-family=\"Times New Roman,serif\" font-size=\"14.00\" text-anchor=\"middle\" x=\"446\" y=\"-7.8\">value = [27, 2]</text>\n",
       "</g>\n",
       "<!-- 5&#45;&gt;7 -->\n",
       "<g class=\"edge\" id=\"edge7\"><title>5-&gt;7</title>\n",
       "<path d=\"M426.493,-88.9485C429.164,-80.5323 432.046,-71.4536 434.754,-62.9243\" fill=\"none\" stroke=\"black\"/>\n",
       "<polygon fill=\"black\" points=\"438.14,-63.827 437.83,-53.2367 431.468,-61.7089 438.14,-63.827\" stroke=\"black\"/>\n",
       "</g>\n",
       "<!-- 9 -->\n",
       "<g class=\"node\" id=\"node10\"><title>9</title>\n",
       "<polygon fill=\"#e5823b\" points=\"677.5,-157 510.5,-157 510.5,-89 677.5,-89 677.5,-157\" stroke=\"black\"/>\n",
       "<text font-family=\"Times New Roman,serif\" font-size=\"14.00\" text-anchor=\"middle\" x=\"594\" y=\"-141.8\">Ionized calcium  &lt;= -1.103</text>\n",
       "<text font-family=\"Times New Roman,serif\" font-size=\"14.00\" text-anchor=\"middle\" x=\"594\" y=\"-126.8\">gini = 0.018</text>\n",
       "<text font-family=\"Times New Roman,serif\" font-size=\"14.00\" text-anchor=\"middle\" x=\"594\" y=\"-111.8\">samples = 878</text>\n",
       "<text font-family=\"Times New Roman,serif\" font-size=\"14.00\" text-anchor=\"middle\" x=\"594\" y=\"-96.8\">value = [870, 8]</text>\n",
       "</g>\n",
       "<!-- 8&#45;&gt;9 -->\n",
       "<g class=\"edge\" id=\"edge9\"><title>8-&gt;9</title>\n",
       "<path d=\"M594,-192.884C594,-184.778 594,-175.982 594,-167.472\" fill=\"none\" stroke=\"black\"/>\n",
       "<polygon fill=\"black\" points=\"597.5,-167.299 594,-157.299 590.5,-167.299 597.5,-167.299\" stroke=\"black\"/>\n",
       "</g>\n",
       "<!-- 12 -->\n",
       "<g class=\"node\" id=\"node13\"><title>12</title>\n",
       "<polygon fill=\"#e89051\" points=\"1018,-157 696,-157 696,-89 1018,-89 1018,-157\" stroke=\"black\"/>\n",
       "<text font-family=\"Times New Roman,serif\" font-size=\"14.00\" text-anchor=\"middle\" x=\"857\" y=\"-141.8\">Patient addmited to regular ward (1=yes, 0=no) &lt;= 0.5</text>\n",
       "<text font-family=\"Times New Roman,serif\" font-size=\"14.00\" text-anchor=\"middle\" x=\"857\" y=\"-126.8\">gini = 0.192</text>\n",
       "<text font-family=\"Times New Roman,serif\" font-size=\"14.00\" text-anchor=\"middle\" x=\"857\" y=\"-111.8\">samples = 4647</text>\n",
       "<text font-family=\"Times New Roman,serif\" font-size=\"14.00\" text-anchor=\"middle\" x=\"857\" y=\"-96.8\">value = [4146, 501]</text>\n",
       "</g>\n",
       "<!-- 8&#45;&gt;12 -->\n",
       "<g class=\"edge\" id=\"edge12\"><title>8-&gt;12</title>\n",
       "<path d=\"M676.133,-194.146C703.486,-183.538 734.172,-171.637 762.392,-160.692\" fill=\"none\" stroke=\"black\"/>\n",
       "<polygon fill=\"black\" points=\"763.802,-163.899 771.86,-157.02 761.271,-157.373 763.802,-163.899\" stroke=\"black\"/>\n",
       "</g>\n",
       "<!-- 10 -->\n",
       "<g class=\"node\" id=\"node11\"><title>10</title>\n",
       "<polygon fill=\"#399de5\" points=\"627.5,-53 536.5,-53 536.5,-0 627.5,-0 627.5,-53\" stroke=\"black\"/>\n",
       "<text font-family=\"Times New Roman,serif\" font-size=\"14.00\" text-anchor=\"middle\" x=\"582\" y=\"-37.8\">gini = 0.0</text>\n",
       "<text font-family=\"Times New Roman,serif\" font-size=\"14.00\" text-anchor=\"middle\" x=\"582\" y=\"-22.8\">samples = 1</text>\n",
       "<text font-family=\"Times New Roman,serif\" font-size=\"14.00\" text-anchor=\"middle\" x=\"582\" y=\"-7.8\">value = [0, 1]</text>\n",
       "</g>\n",
       "<!-- 9&#45;&gt;10 -->\n",
       "<g class=\"edge\" id=\"edge10\"><title>9-&gt;10</title>\n",
       "<path d=\"M589.803,-88.9485C588.746,-80.6238 587.606,-71.6509 586.534,-63.2027\" fill=\"none\" stroke=\"black\"/>\n",
       "<polygon fill=\"black\" points=\"590,-62.7161 585.268,-53.2367 583.056,-63.598 590,-62.7161\" stroke=\"black\"/>\n",
       "</g>\n",
       "<!-- 11 -->\n",
       "<g class=\"node\" id=\"node12\"><title>11</title>\n",
       "<polygon fill=\"#e5823b\" points=\"750,-53 646,-53 646,-0 750,-0 750,-53\" stroke=\"black\"/>\n",
       "<text font-family=\"Times New Roman,serif\" font-size=\"14.00\" text-anchor=\"middle\" x=\"698\" y=\"-37.8\">gini = 0.016</text>\n",
       "<text font-family=\"Times New Roman,serif\" font-size=\"14.00\" text-anchor=\"middle\" x=\"698\" y=\"-22.8\">samples = 877</text>\n",
       "<text font-family=\"Times New Roman,serif\" font-size=\"14.00\" text-anchor=\"middle\" x=\"698\" y=\"-7.8\">value = [870, 7]</text>\n",
       "</g>\n",
       "<!-- 9&#45;&gt;11 -->\n",
       "<g class=\"edge\" id=\"edge11\"><title>9-&gt;11</title>\n",
       "<path d=\"M630.374,-88.9485C640.643,-79.6175 651.808,-69.4722 662.052,-60.1641\" fill=\"none\" stroke=\"black\"/>\n",
       "<polygon fill=\"black\" points=\"664.629,-62.5521 669.676,-53.2367 659.921,-57.3713 664.629,-62.5521\" stroke=\"black\"/>\n",
       "</g>\n",
       "<!-- 13 -->\n",
       "<g class=\"node\" id=\"node14\"><title>13</title>\n",
       "<polygon fill=\"#e89050\" points=\"906.5,-53 781.5,-53 781.5,-0 906.5,-0 906.5,-53\" stroke=\"black\"/>\n",
       "<text font-family=\"Times New Roman,serif\" font-size=\"14.00\" text-anchor=\"middle\" x=\"844\" y=\"-37.8\">gini = 0.188</text>\n",
       "<text font-family=\"Times New Roman,serif\" font-size=\"14.00\" text-anchor=\"middle\" x=\"844\" y=\"-22.8\">samples = 4604</text>\n",
       "<text font-family=\"Times New Roman,serif\" font-size=\"14.00\" text-anchor=\"middle\" x=\"844\" y=\"-7.8\">value = [4121, 483]</text>\n",
       "</g>\n",
       "<!-- 12&#45;&gt;13 -->\n",
       "<g class=\"edge\" id=\"edge13\"><title>12-&gt;13</title>\n",
       "<path d=\"M852.453,-88.9485C851.308,-80.6238 850.074,-71.6509 848.911,-63.2027\" fill=\"none\" stroke=\"black\"/>\n",
       "<polygon fill=\"black\" points=\"852.371,-62.6664 847.54,-53.2367 845.436,-63.6204 852.371,-62.6664\" stroke=\"black\"/>\n",
       "</g>\n",
       "<!-- 14 -->\n",
       "<g class=\"node\" id=\"node15\"><title>14</title>\n",
       "<polygon fill=\"#f8dcc8\" points=\"1029,-53 925,-53 925,-0 1029,-0 1029,-53\" stroke=\"black\"/>\n",
       "<text font-family=\"Times New Roman,serif\" font-size=\"14.00\" text-anchor=\"middle\" x=\"977\" y=\"-37.8\">gini = 0.487</text>\n",
       "<text font-family=\"Times New Roman,serif\" font-size=\"14.00\" text-anchor=\"middle\" x=\"977\" y=\"-22.8\">samples = 43</text>\n",
       "<text font-family=\"Times New Roman,serif\" font-size=\"14.00\" text-anchor=\"middle\" x=\"977\" y=\"-7.8\">value = [25, 18]</text>\n",
       "</g>\n",
       "<!-- 12&#45;&gt;14 -->\n",
       "<g class=\"edge\" id=\"edge14\"><title>12-&gt;14</title>\n",
       "<path d=\"M898.97,-88.9485C911.051,-79.4346 924.208,-69.074 936.216,-59.6175\" fill=\"none\" stroke=\"black\"/>\n",
       "<polygon fill=\"black\" points=\"938.628,-62.1734 944.318,-53.2367 934.297,-56.6739 938.628,-62.1734\" stroke=\"black\"/>\n",
       "</g>\n",
       "</g>\n",
       "</svg>"
      ],
      "text/plain": [
       "<IPython.core.display.SVG object>"
      ]
     },
     "metadata": {},
     "output_type": "display_data"
    }
   ],
   "source": [
    "os.environ[\"PATH\"] += os.pathsep + 'C:/Program Files (x86)/Graphviz2.38/bin/'\n",
    "\n",
    "graph = Source(export_graphviz(dt, out_file=None, feature_names=x.columns, filled = True))\n",
    "display(SVG(graph.pipe(format='svg')))"
   ]
  },
  {
   "cell_type": "markdown",
   "metadata": {},
   "source": [
    "By looking at the `Leukocytes`, it seems that the feature helps to discriminate the data indeed"
   ]
  },
  {
   "cell_type": "code",
   "execution_count": 118,
   "metadata": {
    "ExecuteTime": {
     "end_time": "2020-03-31T03:20:10.747823Z",
     "start_time": "2020-03-31T03:20:10.371026Z"
    },
    "scrolled": true
   },
   "outputs": [
    {
     "data": {
      "text/plain": [
       "<matplotlib.legend.Legend at 0x1965ec581d0>"
      ]
     },
     "execution_count": 118,
     "metadata": {},
     "output_type": "execute_result"
    },
    {
     "data": {
      "image/png": "[encoded data removed]",
      "text/plain": [
       "<Figure size 432x288 with 1 Axes>"
      ]
     },
     "metadata": {
      "needs_background": "light"
     },
     "output_type": "display_data"
    }
   ],
   "source": [
    "sns.distplot(df[df['SARS-Cov-2 exam result'] == 1]['Leukocytes'], label=\"Covid\")\n",
    "sns.distplot(df[df['SARS-Cov-2 exam result'] == 0]['Leukocytes'], label=\"No Covid\")\n",
    "plt.legend()"
   ]
  },
  {
   "cell_type": "markdown",
   "metadata": {},
   "source": [
    "### Modeling\n",
    "\n",
    "I will try to identify covid-19 by applying several models combined with random over sampler and random under sampler. The samplers will balance the dataset, so it should reduce the bias of my models. I will also apply xgboost with hyperparameter tuning."
   ]
  },
  {
   "cell_type": "code",
   "execution_count": 34,
   "metadata": {
    "ExecuteTime": {
     "end_time": "2020-05-06T21:26:09.444886Z",
     "start_time": "2020-05-06T21:26:09.433936Z"
    }
   },
   "outputs": [],
   "source": [
    "classifiers = {'Logistic Regression' : LogisticRegression(),\n",
    "               'KNN': KNeighborsClassifier(),\n",
    "               'Decision Tree': DecisionTreeClassifier(),\n",
    "               'Random Forest': RandomForestClassifier(),\n",
    "               'AdaBoost': AdaBoostClassifier(),\n",
    "               'SVM': SVC()}\n",
    "\n",
    "samplers = {'Random_under_sampler': RandomUnderSampler(),\n",
    "            'Random_over_sampler': RandomOverSampler()}"
   ]
  },
  {
   "cell_type": "code",
   "execution_count": 35,
   "metadata": {
    "ExecuteTime": {
     "end_time": "2020-05-06T21:26:12.130242Z",
     "start_time": "2020-05-06T21:26:12.122756Z"
    }
   },
   "outputs": [],
   "source": [
    "drop_cols = ['Patient ID', 'Patient addmited to regular ward (1=yes, 0=no)',\n",
    "             'Patient addmited to semi-intensive unit (1=yes, 0=no)',\n",
    "             'Patient addmited to intensive care unit (1=yes, 0=no)']"
   ]
  },
  {
   "cell_type": "code",
   "execution_count": 36,
   "metadata": {
    "ExecuteTime": {
     "end_time": "2020-05-06T21:26:15.369834Z",
     "start_time": "2020-05-06T21:26:15.351873Z"
    }
   },
   "outputs": [],
   "source": [
    "def df_split(df, target='SARS-Cov-2 exam result', drop_cols=drop_cols):\n",
    "    df = df.drop(drop_cols, axis=1)\n",
    "    df = df.fillna(999)\n",
    "    x = df.drop(target, axis=1)\n",
    "    y = df[target]    \n",
    "    x_train, x_test, y_train, y_test = train_test_split(x, y, test_size=0.2, stratify=y, random_state=42)                          \n",
    "    return x_train, x_test, y_train, y_test"
   ]
  },
  {
   "cell_type": "code",
   "execution_count": 37,
   "metadata": {
    "ExecuteTime": {
     "end_time": "2020-05-06T21:28:11.763908Z",
     "start_time": "2020-05-06T21:28:11.747441Z"
    }
   },
   "outputs": [],
   "source": [
    "def train_clfs(df, classifiers, samplers):\n",
    "    \n",
    "    x_train, x_test, y_train, y_test = df_split(df)\n",
    "    \n",
    "    names_samplers = []\n",
    "    names_clfs = []\n",
    "    results_train_cv_f1 = []\n",
    "    results_train_cv_recall = []\n",
    "    results_train_cv_accuracy = []\n",
    "    results_test_f1 = []\n",
    "    results_test_recall = []\n",
    "    results_test_accuracy = []\n",
    "    \n",
    "    for name_sampler, sampler in samplers.items():\n",
    "        print(f'Sampler: {name_sampler}\\n')\n",
    "        for name_clf, clf in classifiers.items():\n",
    "            print(f'Classifier: {name_clf}\\n')\n",
    "            \n",
    "            pipeline = Pipeline([('sampler', sampler),\n",
    "                                 ('clf', clf)])\n",
    "            \n",
    "            cv_f1 = cross_val_score(pipeline, x_train, y_train, cv=10, scoring='f1') \n",
    "            cv_rec = cross_val_score(pipeline, x_train, y_train, cv=10, scoring='recall')                                \n",
    "            cv_acc = cross_val_score(pipeline, x_train, y_train, cv=10, scoring='accuracy')        \n",
    "\n",
    "            pipeline.fit(x_train, y_train)        \n",
    "            y_pred = pipeline.predict(x_test)\n",
    "            \n",
    "            names_samplers.append(name_sampler)\n",
    "            names_clfs.append(name_clf)\n",
    "            results_train_cv_f1.append(cv_f1)\n",
    "            results_train_cv_recall.append(cv_rec)\n",
    "            results_train_cv_accuracy.append(cv_acc)\n",
    "            results_test_f1.append(f1_score(y_test, y_pred))\n",
    "            results_test_recall.append(recall_score(y_test, y_pred))\n",
    "            results_test_accuracy.append(accuracy_score(y_test, y_pred))\n",
    "\n",
    "            print(f'CV\\t-\\tf1-score:\\t{round(cv_f1.mean(), 3)}')\n",
    "            print(f'CV\\t-\\trecall:\\t\\t{round(cv_rec.mean(), 3)}')\n",
    "            print(f'CV\\t-\\taccuracy:\\t{round(cv_acc.mean(), 3)}')\n",
    "\n",
    "            print(f'Test\\t-\\tf1-score:\\t{round(f1_score(y_test, y_pred), 3)}')         \n",
    "            print(f'Test\\t-\\trecall:\\t\\t{round(recall_score(y_test, y_pred), 3)}')          \n",
    "            print(f'Test\\t-\\taccuracy:\\t{round(accuracy_score(y_test, y_pred), 3)}')      \n",
    "            print('\\n<-------------------------->\\n')\n",
    "\n",
    "    df_results_test = pd.DataFrame(index=[names_clfs, names_samplers], columns=['F1_SCORE', 'RECALL', 'ACCURACY'])\n",
    "    df_results_test['F1_SCORE'] = results_test_f1\n",
    "    df_results_test['RECALL'] = results_test_recall\n",
    "    df_results_test['ACCURACY'] = results_test_accuracy\n",
    "\n",
    "    return df_results_test"
   ]
  },
  {
   "cell_type": "code",
   "execution_count": 38,
   "metadata": {
    "ExecuteTime": {
     "end_time": "2020-05-06T21:34:25.446835Z",
     "start_time": "2020-05-06T21:28:13.122320Z"
    },
    "scrolled": true
   },
   "outputs": [
    {
     "name": "stdout",
     "output_type": "stream",
     "text": [
      "Sampler: Random_under_sampler\n",
      "\n",
      "Classifier: Logistic Regression\n",
      "\n",
      "CV\t-\tf1-score:\t0.19\n",
      "CV\t-\trecall:\t\t0.763\n",
      "CV\t-\taccuracy:\t0.368\n",
      "Test\t-\tf1-score:\t0.193\n",
      "Test\t-\trecall:\t\t0.768\n",
      "Test\t-\taccuracy:\t0.363\n",
      "\n",
      "<-------------------------->\n",
      "\n",
      "Classifier: KNN\n",
      "\n",
      "CV\t-\tf1-score:\t0.109\n",
      "CV\t-\trecall:\t\t0.146\n",
      "CV\t-\taccuracy:\t0.804\n",
      "Test\t-\tf1-score:\t0.154\n",
      "Test\t-\trecall:\t\t0.161\n",
      "Test\t-\taccuracy:\t0.825\n",
      "\n",
      "<-------------------------->\n",
      "\n",
      "Classifier: Decision Tree\n",
      "\n",
      "CV\t-\tf1-score:\t0.212\n",
      "CV\t-\trecall:\t\t0.614\n",
      "CV\t-\taccuracy:\t0.52\n",
      "Test\t-\tf1-score:\t0.233\n",
      "Test\t-\trecall:\t\t0.848\n",
      "Test\t-\taccuracy:\t0.447\n",
      "\n",
      "<-------------------------->\n",
      "\n",
      "Classifier: Random Forest\n",
      "\n",
      "CV\t-\tf1-score:\t0.221\n",
      "CV\t-\trecall:\t\t0.675\n",
      "CV\t-\taccuracy:\t0.524\n",
      "Test\t-\tf1-score:\t0.239\n",
      "Test\t-\trecall:\t\t0.777\n",
      "Test\t-\taccuracy:\t0.51\n",
      "\n",
      "<-------------------------->\n",
      "\n",
      "Classifier: AdaBoost\n",
      "\n",
      "CV\t-\tf1-score:\t0.217\n",
      "CV\t-\trecall:\t\t0.756\n",
      "CV\t-\taccuracy:\t0.48\n",
      "Test\t-\tf1-score:\t0.234\n",
      "Test\t-\trecall:\t\t0.795\n",
      "Test\t-\taccuracy:\t0.483\n",
      "\n",
      "<-------------------------->\n",
      "\n",
      "Classifier: SVM\n",
      "\n",
      "CV\t-\tf1-score:\t0.187\n",
      "CV\t-\trecall:\t\t0.846\n",
      "CV\t-\taccuracy:\t0.378\n",
      "Test\t-\tf1-score:\t0.197\n",
      "Test\t-\trecall:\t\t0.804\n",
      "Test\t-\taccuracy:\t0.35\n",
      "\n",
      "<-------------------------->\n",
      "\n",
      "Sampler: Random_over_sampler\n",
      "\n",
      "Classifier: Logistic Regression\n",
      "\n",
      "CV\t-\tf1-score:\t0.196\n",
      "CV\t-\trecall:\t\t0.76\n",
      "CV\t-\taccuracy:\t0.379\n",
      "Test\t-\tf1-score:\t0.195\n",
      "Test\t-\trecall:\t\t0.768\n",
      "Test\t-\taccuracy:\t0.371\n",
      "\n",
      "<-------------------------->\n",
      "\n",
      "Classifier: KNN\n",
      "\n",
      "CV\t-\tf1-score:\t0.103\n",
      "CV\t-\trecall:\t\t0.076\n",
      "CV\t-\taccuracy:\t0.869\n",
      "Test\t-\tf1-score:\t0.118\n",
      "Test\t-\trecall:\t\t0.08\n",
      "Test\t-\taccuracy:\t0.88\n",
      "\n",
      "<-------------------------->\n",
      "\n",
      "Classifier: Decision Tree\n",
      "\n",
      "CV\t-\tf1-score:\t0.205\n",
      "CV\t-\trecall:\t\t0.643\n",
      "CV\t-\taccuracy:\t0.537\n",
      "Test\t-\tf1-score:\t0.23\n",
      "Test\t-\trecall:\t\t0.714\n",
      "Test\t-\taccuracy:\t0.526\n",
      "\n",
      "<-------------------------->\n",
      "\n",
      "Classifier: Random Forest\n",
      "\n",
      "CV\t-\tf1-score:\t0.205\n",
      "CV\t-\trecall:\t\t0.596\n",
      "CV\t-\taccuracy:\t0.526\n",
      "Test\t-\tf1-score:\t0.232\n",
      "Test\t-\trecall:\t\t0.696\n",
      "Test\t-\taccuracy:\t0.544\n",
      "\n",
      "<-------------------------->\n",
      "\n",
      "Classifier: AdaBoost\n",
      "\n",
      "CV\t-\tf1-score:\t0.223\n",
      "CV\t-\trecall:\t\t0.752\n",
      "CV\t-\taccuracy:\t0.488\n",
      "Test\t-\tf1-score:\t0.215\n",
      "Test\t-\trecall:\t\t0.705\n",
      "Test\t-\taccuracy:\t0.488\n",
      "\n",
      "<-------------------------->\n",
      "\n",
      "Classifier: SVM\n",
      "\n",
      "CV\t-\tf1-score:\t0.18\n",
      "CV\t-\trecall:\t\t0.739\n",
      "CV\t-\taccuracy:\t0.347\n",
      "Test\t-\tf1-score:\t0.187\n",
      "Test\t-\trecall:\t\t0.83\n",
      "Test\t-\taccuracy:\t0.285\n",
      "\n",
      "<-------------------------->\n",
      "\n"
     ]
    }
   ],
   "source": [
    "df_results_test = train_clfs(df, classifiers, samplers)"
   ]
  },
  {
   "cell_type": "code",
   "execution_count": 51,
   "metadata": {
    "ExecuteTime": {
     "end_time": "2020-05-06T21:41:43.191812Z",
     "start_time": "2020-05-06T21:41:43.180334Z"
    }
   },
   "outputs": [],
   "source": [
    "def train_xgb(df, clf):\n",
    "    \n",
    "    x_train, x_test, y_train, y_test = df_split(df)\n",
    "\n",
    "    scale_pos_weight = len(df[df['SARS-Cov-2 exam result'] == 0]) / len(df[df['SARS-Cov-2 exam result'] == 1])\n",
    "\n",
    "    param_grid = {'xgb__max_depth': [3, 4, 5, 6, 7, 8],\n",
    "                  'xgb__learning_rate': [0.01, 0.05, 0.1, 0.2],\n",
    "                  'xgb__colsample_bytree': [0.6, 0.7, 0.8],\n",
    "                  'xgb__min_child_weight': [0.4, 0.5, 0.6],\n",
    "                  'xgb__gamma': [0, 0.01, 0.1],\n",
    "                  'xgb__reg_lambda': [6, 7, 8, 9, 10],\n",
    "                  'xgb__n_estimators': [150, 200, 300],\n",
    "                  'xgb__scale_pos_weight': [scale_pos_weight]}\n",
    "\n",
    "    rs_clf = RandomizedSearchCV(clf, param_grid, n_iter=100,\n",
    "                                n_jobs=-1, verbose=2, cv=5,                            \n",
    "                                scoring='f1', random_state=42)\n",
    "\n",
    "    rs_clf.fit(x_train, y_train)\n",
    "    \n",
    "    print(f'XGBOOST BEST PARAMS: {rs_clf.best_params_}')\n",
    "    \n",
    "    y_pred = rs_clf.predict(x_test)\n",
    "\n",
    "    df_results_xgb = pd.DataFrame(index=[['XGBoost'], ['No_sampler']], columns=['F1_SCORE', 'RECALL', 'ACCURACY'])\n",
    "\n",
    "    df_results_xgb['F1_SCORE'] = f1_score(y_test, y_pred)\n",
    "    df_results_xgb['RECALL'] = recall_score(y_test, y_pred)\n",
    "    df_results_xgb['ACCURACY'] = accuracy_score(y_test, y_pred)\n",
    "    \n",
    "    return df_results_xgb"
   ]
  },
  {
   "cell_type": "code",
   "execution_count": 52,
   "metadata": {
    "ExecuteTime": {
     "end_time": "2020-05-06T21:45:21.243257Z",
     "start_time": "2020-05-06T21:41:45.755724Z"
    }
   },
   "outputs": [
    {
     "name": "stdout",
     "output_type": "stream",
     "text": [
      "Fitting 5 folds for each of 100 candidates, totalling 500 fits\n"
     ]
    },
    {
     "name": "stderr",
     "output_type": "stream",
     "text": [
      "[Parallel(n_jobs=-1)]: Using backend LokyBackend with 8 concurrent workers.\n",
      "[Parallel(n_jobs=-1)]: Done  25 tasks      | elapsed:   10.8s\n",
      "[Parallel(n_jobs=-1)]: Done 146 tasks      | elapsed:   56.4s\n",
      "[Parallel(n_jobs=-1)]: Done 349 tasks      | elapsed:  2.4min\n",
      "[Parallel(n_jobs=-1)]: Done 500 out of 500 | elapsed:  3.5min finished\n"
     ]
    },
    {
     "name": "stdout",
     "output_type": "stream",
     "text": [
      "XGBOOST BEST PARAMS: {'xgb__scale_pos_weight': 9.114695340501791, 'xgb__reg_lambda': 7, 'xgb__n_estimators': 300, 'xgb__min_child_weight': 0.5, 'xgb__max_depth': 8, 'xgb__learning_rate': 0.01, 'xgb__gamma': 0, 'xgb__colsample_bytree': 0.6}\n"
     ]
    }
   ],
   "source": [
    "df_results_xgb = train_xgb(df, xgb.XGBClassifier())"
   ]
  },
  {
   "cell_type": "code",
   "execution_count": 53,
   "metadata": {
    "ExecuteTime": {
     "end_time": "2020-05-06T21:45:21.256228Z",
     "start_time": "2020-05-06T21:45:21.248229Z"
    }
   },
   "outputs": [],
   "source": [
    "df_results = pd.concat([df_results_test, df_results_xgb])"
   ]
  },
  {
   "cell_type": "markdown",
   "metadata": {},
   "source": [
    "### Conclusion\n",
    "\n",
    "We can check the top 9 pipelines for each metric F1-SCORE, RECALL, and ACCURACY in the test dataset below:"
   ]
  },
  {
   "cell_type": "code",
   "execution_count": 57,
   "metadata": {
    "ExecuteTime": {
     "end_time": "2020-05-06T21:45:35.366490Z",
     "start_time": "2020-05-06T21:45:35.343549Z"
    }
   },
   "outputs": [],
   "source": [
    "df_plot = pd.concat([df_results.sort_values('F1_SCORE', ascending=False).head(3),\n",
    "                     df_results.sort_values('RECALL', ascending=False).head(3),\n",
    "                     df_results.sort_values('ACCURACY', ascending=False).head(3)])"
   ]
  },
  {
   "cell_type": "code",
   "execution_count": 58,
   "metadata": {
    "ExecuteTime": {
     "end_time": "2020-05-06T21:45:36.656278Z",
     "start_time": "2020-05-06T21:45:36.639309Z"
    }
   },
   "outputs": [],
   "source": [
    "def plot_test(df, xlim_min, xlim_max):\n",
    "\n",
    "    f, (ax1, ax2, ax3) = plt.subplots(3, 1, figsize=(10,12))\n",
    "\n",
    "    color = ['blue', 'red', 'green', 'yellow', 'orange', 'purple', 'navy', 'turquoise', 'darkorange']\n",
    "\n",
    "    df['F1_SCORE'].plot(kind='barh', ax=ax1, xlim=(xlim_min, xlim_max), title='F1_SCORE', color=color)\n",
    "    df['RECALL'].plot(kind='barh', ax=ax2, xlim=(xlim_min, xlim_max), title='RECALL', color=color)\n",
    "    df['ACCURACY'].plot(kind='barh', ax=ax3, xlim=(xlim_min, xlim_max), title='ACCURACY', color=color)\n",
    "    plt.show()"
   ]
  },
  {
   "cell_type": "code",
   "execution_count": 59,
   "metadata": {
    "ExecuteTime": {
     "end_time": "2020-05-06T21:45:37.975531Z",
     "start_time": "2020-05-06T21:45:37.496454Z"
    }
   },
   "outputs": [
    {
     "data": {
      "image/png": "[encoded data removed]",
      "text/plain": [
       "<Figure size 720x864 with 3 Axes>"
      ]
     },
     "metadata": {
      "needs_background": "light"
     },
     "output_type": "display_data"
    }
   ],
   "source": [
    "plot_test(df_plot, 0.2, 1)"
   ]
  },
  {
   "cell_type": "markdown",
   "metadata": {},
   "source": [
    "As we can see, many models performed well according to RECALL, but did not provided good results for ACCURACY.\n",
    "The choice of the best metric depends on the costs associated to each true or false prediction\n",
    "\n",
    "<table>\n",
    "    <th> </th>\n",
    "    <th style=\" border: 1px solid black\">Predicted No Covid</th>\n",
    "    <th style=\" border: 1px solid black\">Predicted Covid</th>\n",
    "    <tr style=\" border: 1px solid black\">\n",
    "        <td style=\" border: 1px solid black\"><b>No Covid</b></td>\n",
    "        <td style=\" border: 1px solid black\">True Negative</td>\n",
    "        <td style=\" border: 1px solid black\">False Positive</td>\n",
    "    </tr>\n",
    "    <tr style=\" border: 1px solid black\">\n",
    "        <td style=\" border: 1px solid black\"><b>Covid</b></td>\n",
    "        <td style=\" border: 1px solid black\">False Negative</td>\n",
    "        <td style=\" border: 1px solid black\">True Positive</td>\n",
    "    </tr>\n",
    "</table>\n",
    "\n",
    "To understand the costs of each value, we can interpret the values of each cell in the confusion matrix as:\n",
    "- **True Negative:** Model predicted that patient is not infected by covid-19, and he is not. \n",
    "\n",
    "**Cost**: Low:- The patient will not need special treatment nor medicaments.\n",
    "\n",
    "- **False Positive:** Model predicted that patient is infected by covid-19, and he is not.\n",
    "\n",
    "**Cost**: Medium - The patient will receive special treatment and medicaments unnecessarily.\n",
    "\n",
    "- **False Negative:**\n",
    "\n",
    "**Cost**: Very-high - The patient may probably leave the hospital and transmit coronavirus to their colleagues and family, besides risking his life\n",
    "\n",
    "- **True Positive:**\n",
    "\n",
    "**Cost**: Medium - The patient will receive special treatment and medicaments."
   ]
  },
  {
   "cell_type": "markdown",
   "metadata": {},
   "source": [
    "As we can minimize the risk of false negatives, we should try to choose the models that have high recall. I plotted the confusion matrix of the pipelines `Adaboost + Random Under Sampler` and `Random Forest + Random Under Sampler` for each threshold."
   ]
  },
  {
   "cell_type": "code",
   "execution_count": 47,
   "metadata": {
    "ExecuteTime": {
     "end_time": "2020-05-06T21:40:23.572988Z",
     "start_time": "2020-05-06T21:40:23.560525Z"
    }
   },
   "outputs": [],
   "source": [
    "def plot_confusion_matrix(y_test, y_pred, title='Confusion matrix'):\n",
    "    \n",
    "    cm = confusion_matrix(y_test, y_pred)\n",
    "    classes = ['No Covid', 'Covid']\n",
    "\n",
    "    plt.imshow(cm, interpolation='nearest', cmap=plt.cm.Blues, )\n",
    "    plt.title(title, fontsize=14)\n",
    "    tick_marks = np.arange(len(classes))\n",
    "    plt.xticks(tick_marks, classes)\n",
    "    plt.yticks(tick_marks, classes)\n",
    "    \n",
    "    thresh = cm.max() / 2.\n",
    "    for i, j in itertools.product(range(cm.shape[0]), range(cm.shape[1])):\n",
    "        plt.text(j, i, format(cm[i, j]),\n",
    "                 horizontalalignment=\"center\",\n",
    "                 color=\"white\" if cm[i, j] > thresh else \"black\")\n",
    "\n",
    "    plt.tight_layout()\n",
    "    plt.ylabel('True label')\n",
    "    plt.xlabel('Predicted label')\n",
    "    \n",
    "def train_clf_threshold(df, clf, sampler=None):\n",
    "    thresholds = np.arange(0.1, 1, 0.1)\n",
    "    \n",
    "    x_train, x_test, y_train, y_test = df_split(df)\n",
    "    \n",
    "    if sampler:\n",
    "        clf_train = Pipeline([('sampler', sampler),\n",
    "                              ('clf', clf)])\n",
    "        \n",
    "    else:        \n",
    "        clf_train = clf\n",
    "            \n",
    "    clf_train.fit(x_train, y_train)\n",
    "    y_proba = clf_train.predict_proba(x_test)\n",
    "    \n",
    "    plt.figure(figsize=(10,10))\n",
    "\n",
    "    j = 1\n",
    "    for i in thresholds:\n",
    "        y_pred = y_proba[:,1] > i\n",
    "\n",
    "        plt.subplot(4, 3, j)\n",
    "        j += 1\n",
    "\n",
    "        # Compute confusion matrix\n",
    "        cnf_matrix = confusion_matrix(y_test,y_pred)\n",
    "        np.set_printoptions(precision=2)\n",
    "\n",
    "        print(f\"Threshold: {round(i, 1)} | Test Accuracy: {round(accuracy_score(y_test, y_pred), 2)}| Test Recall: {round(recall_score(y_test, y_pred), 2)} | Test F1 score: {round(f1_score(y_test, y_pred), 2)}\")\n",
    "\n",
    "        # Plot non-normalized confusion matrix\n",
    "        plot_confusion_matrix(y_test, y_pred, title=f'Threshold >= {round(i, 1)}')"
   ]
  },
  {
   "cell_type": "code",
   "execution_count": 48,
   "metadata": {
    "ExecuteTime": {
     "end_time": "2020-05-06T21:40:34.003702Z",
     "start_time": "2020-05-06T21:40:32.865970Z"
    }
   },
   "outputs": [
    {
     "name": "stdout",
     "output_type": "stream",
     "text": [
      "Threshold: 0.1 | Test Accuracy: 0.28| Test Recall: 0.96 | Test F1 score: 0.21\n",
      "Threshold: 0.2 | Test Accuracy: 0.32| Test Recall: 0.95 | Test F1 score: 0.22\n",
      "Threshold: 0.3 | Test Accuracy: 0.35| Test Recall: 0.93 | Test F1 score: 0.22\n",
      "Threshold: 0.4 | Test Accuracy: 0.37| Test Recall: 0.9 | Test F1 score: 0.22\n",
      "Threshold: 0.5 | Test Accuracy: 0.46| Test Recall: 0.79 | Test F1 score: 0.23\n",
      "Threshold: 0.6 | Test Accuracy: 0.74| Test Recall: 0.3 | Test F1 score: 0.19\n",
      "Threshold: 0.7 | Test Accuracy: 0.83| Test Recall: 0.16 | Test F1 score: 0.15\n",
      "Threshold: 0.8 | Test Accuracy: 0.84| Test Recall: 0.16 | Test F1 score: 0.17\n",
      "Threshold: 0.9 | Test Accuracy: 0.84| Test Recall: 0.16 | Test F1 score: 0.17\n"
     ]
    },
    {
     "data": {
      "image/png": "[encoded data removed]",
      "text/plain": [
       "<Figure size 720x720 with 9 Axes>"
      ]
     },
     "metadata": {
      "needs_background": "light"
     },
     "output_type": "display_data"
    }
   ],
   "source": [
    "train_clf_threshold(df, DecisionTreeClassifier(), sampler=RandomUnderSampler())"
   ]
  },
  {
   "cell_type": "code",
   "execution_count": 49,
   "metadata": {
    "ExecuteTime": {
     "end_time": "2020-05-06T21:40:39.816422Z",
     "start_time": "2020-05-06T21:40:38.484902Z"
    }
   },
   "outputs": [
    {
     "name": "stdout",
     "output_type": "stream",
     "text": [
      "Threshold: 0.1 | Test Accuracy: 0.1| Test Recall: 1.0 | Test F1 score: 0.18\n",
      "Threshold: 0.2 | Test Accuracy: 0.1| Test Recall: 1.0 | Test F1 score: 0.18\n",
      "Threshold: 0.3 | Test Accuracy: 0.1| Test Recall: 1.0 | Test F1 score: 0.18\n",
      "Threshold: 0.4 | Test Accuracy: 0.1| Test Recall: 1.0 | Test F1 score: 0.18\n",
      "Threshold: 0.5 | Test Accuracy: 0.54| Test Recall: 0.68 | Test F1 score: 0.23\n",
      "Threshold: 0.6 | Test Accuracy: 0.9| Test Recall: 0.0 | Test F1 score: 0.0\n",
      "Threshold: 0.7 | Test Accuracy: 0.9| Test Recall: 0.0 | Test F1 score: 0.0\n",
      "Threshold: 0.8 | Test Accuracy: 0.9| Test Recall: 0.0 | Test F1 score: 0.0\n",
      "Threshold: 0.9 | Test Accuracy: 0.9| Test Recall: 0.0 | Test F1 score: 0.0\n"
     ]
    },
    {
     "data": {
      "image/png": "[encoded data removed]",
      "text/plain": [
       "<Figure size 720x720 with 9 Axes>"
      ]
     },
     "metadata": {
      "needs_background": "light"
     },
     "output_type": "display_data"
    }
   ],
   "source": [
    "train_clf_threshold(df, AdaBoostClassifier(), sampler=RandomUnderSampler())"
   ]
  },
  {
   "cell_type": "code",
   "execution_count": 50,
   "metadata": {
    "ExecuteTime": {
     "end_time": "2020-05-06T21:40:41.292675Z",
     "start_time": "2020-05-06T21:40:39.818420Z"
    }
   },
   "outputs": [
    {
     "name": "stdout",
     "output_type": "stream",
     "text": [
      "Threshold: 0.1 | Test Accuracy: 0.24| Test Recall: 0.99 | Test F1 score: 0.21\n",
      "Threshold: 0.2 | Test Accuracy: 0.27| Test Recall: 0.99 | Test F1 score: 0.21\n",
      "Threshold: 0.3 | Test Accuracy: 0.33| Test Recall: 0.93 | Test F1 score: 0.22\n",
      "Threshold: 0.4 | Test Accuracy: 0.36| Test Recall: 0.91 | Test F1 score: 0.22\n",
      "Threshold: 0.5 | Test Accuracy: 0.53| Test Recall: 0.73 | Test F1 score: 0.23\n",
      "Threshold: 0.6 | Test Accuracy: 0.7| Test Recall: 0.41 | Test F1 score: 0.21\n",
      "Threshold: 0.7 | Test Accuracy: 0.84| Test Recall: 0.17 | Test F1 score: 0.18\n",
      "Threshold: 0.8 | Test Accuracy: 0.88| Test Recall: 0.03 | Test F1 score: 0.04\n",
      "Threshold: 0.9 | Test Accuracy: 0.89| Test Recall: 0.02 | Test F1 score: 0.03\n"
     ]
    },
    {
     "data": {
      "image/png": "[encoded data removed]",
      "text/plain": [
       "<Figure size 720x720 with 9 Axes>"
      ]
     },
     "metadata": {
      "needs_background": "light"
     },
     "output_type": "display_data"
    }
   ],
   "source": [
    "train_clf_threshold(df, RandomForestClassifier(), sampler=RandomUnderSampler())"
   ]
  },
  {
   "cell_type": "markdown",
   "metadata": {},
   "source": [
    "As we can see, depending on the risk that we want to take, we can choose a model that provide both a high recall and a fair f1-score."
   ]
  }
 ],
 "metadata": {
  "kernelspec": {
   "display_name": "Python 3",
   "language": "python",
   "name": "python3"
  },
  "language_info": {
   "codemirror_mode": {
    "name": "ipython",
    "version": 3
   },
   "file_extension": ".py",
   "mimetype": "text/x-python",
   "name": "python",
   "nbconvert_exporter": "python",
   "pygments_lexer": "ipython3",
   "version": "3.7.3"
  }
 },
 "nbformat": 4,
 "nbformat_minor": 2
}
